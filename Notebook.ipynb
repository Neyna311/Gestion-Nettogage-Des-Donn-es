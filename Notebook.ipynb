{
 "cells": [
  {
   "cell_type": "markdown",
   "id": "97dccc01",
   "metadata": {},
   "source": [
    "<div style=\"display: flex; background-color: RGB(255,114,0);\" >\n",
    "<h1 style=\"margin: auto; padding: 30px; \">ANALYSE DU STOCK ET DES VENTES DU SITE BOTTLENECK</h1>\n",
    "</div>"
   ]
  },
  {
   "cell_type": "markdown",
   "id": "4d0d1bb8",
   "metadata": {},
   "source": [
    "# OBJECTIF DE CE NOTEBOOK\n",
    "\n",
    "Bienvenue dans l'outil plébiscité par les analystes de données Jupyter.\n",
    "\n",
    "Il s'agit d'un outil permettant de mixer et d'alterner codes, textes et graphique.\n",
    "\n",
    "Cet outil est formidable pour plusieurs raisons:\n",
    "\n",
    "+ il permet de tester des lignes de codes au fur et à mesure de votre rédaction, de constater immédiatement le résultat d'un instruction, de la corriger si nécessaire.\n",
    "+ De rédiger du texte pour expliquer l'approche suivie ou les résultats d'une analyse et de le mettre en forme grâce à du code html ou plus simple avec **Markdown**\n",
    "+ d'agrémenter de graphiques\n",
    "\n",
    "Pour vous aider dans vos premiers pas à l'usage de Jupyter et de Python, nous avons rédigé ce notebook en vous indiquant les instructions à suivre.\n",
    "\n",
    "Il vous suffit pour cela de saisir le code Python répondant à l'instruction donnée.\n",
    "\n",
    "Vous verrez de temps à autre le code Python répondant à une instruction donnée mais cela est fait pour vous aider à comprendre la nature du travail qui vous est demandée.\n",
    "\n",
    "Et garder à l'esprit, qu'il n'y a pas de solution unique pour résoudre un problème et qu'il y a autant de résolutions de problèmes que de développeurs ;)...\n",
    "\n"
   ]
  },
  {
   "cell_type": "markdown",
   "id": "b85efb87",
   "metadata": {},
   "source": [
    "<div style=\"background-color: RGB(51,165,182);\" >\n",
    "<h2 style=\"margin: auto; padding: 20px; color:#fff; \">Etape 1 - Importation des librairies et chargement des fichiers</h2>\n",
    "</div>"
   ]
  },
  {
   "cell_type": "markdown",
   "id": "b5449401",
   "metadata": {},
   "source": [
    "<div style=\"border: 1px solid RGB(51,165,182);\" >\n",
    "<h3 style=\"margin: auto; padding: 20px; color: RGB(51,165,182); \">1.1 - Importation des librairies</h3>\n",
    "</div>"
   ]
  },
  {
   "cell_type": "code",
   "execution_count": 80,
   "id": "e6ef06ec",
   "metadata": {},
   "outputs": [],
   "source": [
    "#Importation de la librairie Pandas\n",
    "import pandas as pd"
   ]
  },
  {
   "cell_type": "code",
   "execution_count": 81,
   "id": "a38ce0fc",
   "metadata": {},
   "outputs": [],
   "source": [
    "#Importation de la librairie plotly express\n",
    "import plotly.express as px\n"
   ]
  },
  {
   "cell_type": "code",
   "execution_count": 82,
   "id": "0a718067",
   "metadata": {},
   "outputs": [],
   "source": [
    "#Trouver dans Google l'instruction permettant d'afficher toutes les colonnes d'un dataframe\n",
    "#Saisir, dans Google, les mots clés \"display all columns dataframe Pandas\", par exemple.\n",
    "#Dans les résultats de la recherche, privilégiez les solutions provenants de Stack Overflow ou Medium\n",
    "pd.set_option('display.max_columns', None)"
   ]
  },
  {
   "cell_type": "markdown",
   "id": "f4918299",
   "metadata": {},
   "source": [
    "<div style=\"border: 1px solid RGB(51,165,182);\" >\n",
    "<h3 style=\"margin: auto; padding: 20px; color: RGB(51,165,182); \">1.2 - Chargements des fichiers</h3>\n",
    "</div>"
   ]
  },
  {
   "cell_type": "code",
   "execution_count": 83,
   "id": "9642cf03",
   "metadata": {},
   "outputs": [],
   "source": [
    "import warnings\n",
    "warnings.filterwarnings('ignore', category=UserWarning, module='openpyxl')\n",
    "\n",
    "#Importation du fichier web.xlsx\n",
    "df_web = pd.read_excel(\"web.xlsx\")\n",
    "\n",
    "#Importation du fichier erp.xlsx\n",
    "df_erp = pd.read_excel(\"erp.xlsx\")\n",
    "\n",
    "#importation du fichier liaison.xlsx\n",
    "df_liaison = pd.read_excel(\"liaison.xlsx\")"
   ]
  },
  {
   "cell_type": "markdown",
   "id": "605f7056",
   "metadata": {},
   "source": [
    "<div style=\"background-color: RGB(51,165,182);\" >\n",
    "<h2 style=\"margin: auto; padding: 20px; color:#fff; \">Etape 2 - Analyse exploratoire des fichiers</h2>\n",
    "</div>"
   ]
  },
  {
   "cell_type": "markdown",
   "id": "47d3a649",
   "metadata": {},
   "source": [
    "<div style=\"border: 1px solid RGB(51,165,182);\" >\n",
    "<h3 style=\"margin: auto; padding: 20px; color: RGB(51,165,182); \">2.1 - Analyse exploratoire du fichier erp.xlsx</h3>\n",
    "</div>"
   ]
  },
  {
   "cell_type": "code",
   "execution_count": 84,
   "id": "094ef206",
   "metadata": {},
   "outputs": [
    {
     "name": "stdout",
     "output_type": "stream",
     "text": [
      "Le tableau comporte 825 observation(s) ou article(s)\n",
      "Le tableau comporte 6 colonne(s)\n"
     ]
    }
   ],
   "source": [
    "#Afficher les dimensions du dataset\n",
    "print(\"Le tableau comporte {} observation(s) ou article(s)\".format(df_erp.shape[0]))\n",
    "print(\"Le tableau comporte {} colonne(s)\".format(df_erp.shape[1]))\n"
   ]
  },
  {
   "cell_type": "code",
   "execution_count": 85,
   "id": "182441f0",
   "metadata": {},
   "outputs": [
    {
     "name": "stdout",
     "output_type": "stream",
     "text": [
      "Le tableau comporte 6 colonne(s)\n",
      "\n",
      "nature de données :\n",
      "\n",
      "product_id          int64\n",
      "onsale_web          int64\n",
      "price             float64\n",
      "stock_quantity      int64\n",
      "stock_status       object\n",
      "purchase_price    float64\n",
      "dtype: object\n",
      "Nombre de valeurs non nulles dans chaque colonne :\n",
      "\n",
      "product_id        825\n",
      "onsale_web        825\n",
      "price             825\n",
      "stock_quantity    825\n",
      "stock_status      825\n",
      "purchase_price    825\n",
      "dtype: int64\n"
     ]
    }
   ],
   "source": [
    "#Consulter le nombre de colonnes\n",
    "nombre_de_colonnes = len(df_erp.columns)\n",
    "print(f\"Le tableau comporte {nombre_de_colonnes} colonne(s)\\n\")\n",
    "\n",
    "#La nature des données dans chacune des colonnes\n",
    "natures_donnees = df_erp.dtypes\n",
    "print(\"nature de données :\\n\")\n",
    "print(natures_donnees)\n",
    "\n",
    "#Le nombre de valeurs présentes dans chacune des colonnes\n",
    "nombre_de_valeurs = df_erp.count()\n",
    "print(\"Nombre de valeurs non nulles dans chaque colonne :\\n\")\n",
    "print(nombre_de_valeurs)\n"
   ]
  },
  {
   "cell_type": "code",
   "execution_count": 86,
   "id": "d3977646",
   "metadata": {},
   "outputs": [
    {
     "data": {
      "text/html": [
       "<div>\n",
       "<style scoped>\n",
       "    .dataframe tbody tr th:only-of-type {\n",
       "        vertical-align: middle;\n",
       "    }\n",
       "\n",
       "    .dataframe tbody tr th {\n",
       "        vertical-align: top;\n",
       "    }\n",
       "\n",
       "    .dataframe thead th {\n",
       "        text-align: right;\n",
       "    }\n",
       "</style>\n",
       "<table border=\"1\" class=\"dataframe\">\n",
       "  <thead>\n",
       "    <tr style=\"text-align: right;\">\n",
       "      <th></th>\n",
       "      <th>product_id</th>\n",
       "      <th>onsale_web</th>\n",
       "      <th>price</th>\n",
       "      <th>stock_quantity</th>\n",
       "      <th>stock_status</th>\n",
       "      <th>purchase_price</th>\n",
       "    </tr>\n",
       "  </thead>\n",
       "  <tbody>\n",
       "    <tr>\n",
       "      <th>0</th>\n",
       "      <td>3847</td>\n",
       "      <td>1</td>\n",
       "      <td>24.2</td>\n",
       "      <td>16</td>\n",
       "      <td>instock</td>\n",
       "      <td>12.88</td>\n",
       "    </tr>\n",
       "    <tr>\n",
       "      <th>1</th>\n",
       "      <td>3849</td>\n",
       "      <td>1</td>\n",
       "      <td>34.3</td>\n",
       "      <td>10</td>\n",
       "      <td>instock</td>\n",
       "      <td>17.54</td>\n",
       "    </tr>\n",
       "    <tr>\n",
       "      <th>2</th>\n",
       "      <td>3850</td>\n",
       "      <td>1</td>\n",
       "      <td>20.8</td>\n",
       "      <td>0</td>\n",
       "      <td>outofstock</td>\n",
       "      <td>10.64</td>\n",
       "    </tr>\n",
       "    <tr>\n",
       "      <th>3</th>\n",
       "      <td>4032</td>\n",
       "      <td>1</td>\n",
       "      <td>14.1</td>\n",
       "      <td>26</td>\n",
       "      <td>instock</td>\n",
       "      <td>6.92</td>\n",
       "    </tr>\n",
       "    <tr>\n",
       "      <th>4</th>\n",
       "      <td>4039</td>\n",
       "      <td>1</td>\n",
       "      <td>46.0</td>\n",
       "      <td>3</td>\n",
       "      <td>outofstock</td>\n",
       "      <td>23.77</td>\n",
       "    </tr>\n",
       "  </tbody>\n",
       "</table>\n",
       "</div>"
      ],
      "text/plain": [
       "   product_id  onsale_web  price  stock_quantity stock_status  purchase_price\n",
       "0        3847           1   24.2              16      instock           12.88\n",
       "1        3849           1   34.3              10      instock           17.54\n",
       "2        3850           1   20.8               0   outofstock           10.64\n",
       "3        4032           1   14.1              26      instock            6.92\n",
       "4        4039           1   46.0               3   outofstock           23.77"
      ]
     },
     "execution_count": 86,
     "metadata": {},
     "output_type": "execute_result"
    }
   ],
   "source": [
    "#Afficher les 5 premières lignes de la table\n",
    "df_erp.head()"
   ]
  },
  {
   "cell_type": "code",
   "execution_count": 87,
   "id": "db102a4a",
   "metadata": {},
   "outputs": [
    {
     "name": "stdout",
     "output_type": "stream",
     "text": [
      "Indices des lignes avec des doublons dans 'product_id' : [] donc pas de doublons!\n"
     ]
    }
   ],
   "source": [
    "#Vérifier si il y a les lignes en doublons dans la colonne product_id\n",
    "doublons = df_erp['product_id'].duplicated()\n",
    "\n",
    "# Afficher les indices des doublons\n",
    "indices_doublons = df_erp[doublons].index\n",
    "print(f\"Indices des lignes avec des doublons dans 'product_id' : {indices_doublons.tolist()}\"\" donc pas de doublons!\")\n"
   ]
  },
  {
   "cell_type": "code",
   "execution_count": 88,
   "id": "d443d4ff",
   "metadata": {},
   "outputs": [
    {
     "name": "stdout",
     "output_type": "stream",
     "text": [
      "Valeurs distinctes dans stock_status : ['instock' 'outofstock']\n",
      "\n"
     ]
    },
    {
     "data": {
      "image/png": "[encoded data removed]",
      "text/plain": [
       "<Figure size 640x480 with 1 Axes>"
      ]
     },
     "metadata": {},
     "output_type": "display_data"
    }
   ],
   "source": [
    "#Afficher les valeurs distinctes de la colonne stock_status\n",
    "valeurs_distinctes = df_erp['stock_status'].unique()\n",
    "print(f\"Valeurs distinctes dans stock_status : {valeurs_distinctes}\\n\")\n",
    "\n",
    "#À quelle(s) autre(s) colonne(s) sont-elles liées ?\n",
    "\n",
    "groupes = []\n",
    "for v in valeurs_distinctes:\n",
    "    groupes.append(df_erp[df_erp['stock_status']==v]['stock_quantity'])\n",
    "\n",
    "# visualiser la distribution de la colonne stock_quantity selon les différentes valeurs distinctes de la colonne stock_status.\n",
    "import matplotlib.pyplot as plt\n",
    "\n",
    "# Propriétés graphiques (pas très importantes)    \n",
    "medianprops = {'color':\"black\"}\n",
    "meanprops = {'marker':'o', 'markeredgecolor':'black',\n",
    "            'markerfacecolor':'firebrick'}\n",
    "    \n",
    "plt.boxplot(groupes, labels=valeurs_distinctes, showfliers=False, medianprops=medianprops, \n",
    "            vert=False, patch_artist=True, showmeans=True, meanprops=meanprops)\n",
    "plt.show()\n"
   ]
  },
  {
   "cell_type": "markdown",
   "id": "2433dcbc-3b37-4264-acfa-bac902cc93f5",
   "metadata": {},
   "source": [
    "Les colonnes 'stock_status' et 'stock_quantity' sont liés, car :\n",
    "La valeur distincte \"outofstock\" est associé à des quantités de stock faibles ou nulles, \n",
    "ce qui est évident dans la boîte à moustaches qui montre une faible variabilité et une médiane proche de zéro.\n",
    "La valeur distincte \"instock\", en revanche, est associé à une plus grande variabilité des quantités de stock, \n",
    "ce qui montre que les produits disponibles en stock peuvent avoir des niveaux de stock très variés,\n",
    "en fonction de la demande, des approvisionnements ou des stratégies de gestion des stocks."
   ]
  },
  {
   "cell_type": "code",
   "execution_count": 89,
   "id": "68088943",
   "metadata": {},
   "outputs": [
    {
     "name": "stdout",
     "output_type": "stream",
     "text": [
      "   stock_quantity stock_status_2\n",
      "0              16        instock\n",
      "1              10        instock\n",
      "2               0     outofstock\n",
      "3              26        instock\n",
      "4               3        instock\n"
     ]
    }
   ],
   "source": [
    "#Création d'une colonne \"stock_status_2\n",
    "#La valeur de cette deuxième colonne sera fonction de la valeur dans la colonne \"stock_quantity\"\n",
    "#si la valeur de la colonne \"stock_quantity\" est nulle renseigner \"outofstock\" sinon mettre \"instock\"\n",
    "\n",
    "df_erp['stock_status_2'] = df_erp['stock_quantity'].apply(lambda x: 'outofstock' if pd.isna(x) or x == 0 else 'instock')\n",
    "\n",
    "# Afficher le résultat pour vérification\n",
    "print(df_erp[['stock_quantity', 'stock_status_2']].head())\n"
   ]
  },
  {
   "cell_type": "code",
   "execution_count": 90,
   "id": "90a1c8ae",
   "metadata": {},
   "outputs": [
    {
     "data": {
      "text/plain": [
       "0       True\n",
       "1       True\n",
       "2       True\n",
       "3       True\n",
       "4      False\n",
       "       ...  \n",
       "820     True\n",
       "821     True\n",
       "822     True\n",
       "823     True\n",
       "824     True\n",
       "Length: 825, dtype: bool"
      ]
     },
     "execution_count": 90,
     "metadata": {},
     "output_type": "execute_result"
    }
   ],
   "source": [
    "#Vérifions que les 2 colonnes sont identiques:\n",
    "#Les 2 colonnes sont strictement identiques si les valeurs de chaque ligne sont strictement identiques 2 à 2\n",
    "\n",
    "#La comparaison de 2 colonnes peut se réaliser simplement avec l'instruction ci-dessous:\n",
    "df_erp[\"stock_status\"] == df_erp[\"stock_status_2\"]\n",
    "#Le résultat est l'affichage de True ou False pour chacune des lignes du dataset\n",
    "#C'est un bon début, mais difficile à exploiter\n"
   ]
  },
  {
   "cell_type": "code",
   "execution_count": 91,
   "id": "ebe3650a",
   "metadata": {},
   "outputs": [
    {
     "data": {
      "text/plain": [
       "821"
      ]
     },
     "execution_count": 91,
     "metadata": {},
     "output_type": "execute_result"
    }
   ],
   "source": [
    "#Mais il est possible de synthétiser ce résultat en effectuant la somme de cette colonne:\n",
    "#True vaut 1 et False 0\n",
    "\n",
    "#Nous devrions obtenir la somme de 824 qui correspond au nombre de lignes dans ce dataset\n",
    "comparaison_colonnes = df_erp[\"stock_status\"] == df_erp[\"stock_status_2\"]\n",
    "comparaison_colonnes.sum()\n"
   ]
  },
  {
   "cell_type": "markdown",
   "id": "19645ee8-8983-4610-ab50-01b3cd5d261a",
   "metadata": {},
   "source": [
    "La somme de la colonne comparaison est de 821, ce qui diffère de la somme 825 (qui correspond au nombre de lignes dans ce dataset), \n",
    "confirmant que les colonnes \"stock_status\" et \"stock_status_2\" ne sont pas identiques."
   ]
  },
  {
   "cell_type": "code",
   "execution_count": 92,
   "id": "1ca6060a",
   "metadata": {},
   "outputs": [
    {
     "name": "stdout",
     "output_type": "stream",
     "text": [
      "Indices des lignes avec des écarts : [4, 398, 449, 573]\n",
      "\n",
      "les lignes avec des écarts :\n",
      "\n",
      "    stock_status stock_status_2\n",
      "4     outofstock        instock\n",
      "398      instock     outofstock\n",
      "449   outofstock        instock\n",
      "573   outofstock        instock\n"
     ]
    }
   ],
   "source": [
    "#Si les colonnes ne sont absolument pas identiques ligne à ligne alors identifier la ligne en écart\n",
    "lignes_écart = df_erp[df_erp[\"stock_status\"] != df_erp[\"stock_status_2\"]]\n",
    "\n",
    "# Afficher les indices des lignes en écart\n",
    "print(f\"Indices des lignes avec des écarts : {lignes_écart.index.tolist()}\\n\")\n",
    "\n",
    "# Afficher les lignes avec des écarts\n",
    "print(f\"les lignes avec des écarts :\\n\")\n",
    "print(lignes_écart[['stock_status', 'stock_status_2']])\n"
   ]
  },
  {
   "cell_type": "code",
   "execution_count": 93,
   "id": "ce1b9704",
   "metadata": {},
   "outputs": [
    {
     "name": "stdout",
     "output_type": "stream",
     "text": [
      "Données incohérentes avant correction :\n",
      "    stock_status stock_status_2  stock_quantity\n",
      "4     outofstock        instock               3\n",
      "398      instock     outofstock               0\n",
      "449   outofstock        instock             -10\n",
      "573   outofstock        instock              -1\n",
      "\n",
      "Nombre d'incohérences restantes après correction :  0\n",
      "Si le nombre est 0, toutes les incohérences ont été corrigées.\n",
      "Données incohérentes avant correction :\n",
      "Empty DataFrame\n",
      "Columns: [stock_status, stock_status_2, stock_quantity]\n",
      "Index: []\n",
      "\n",
      "Nombre d'incohérences restantes après correction :  0\n",
      "Si le nombre est 0, toutes les incohérences ont été corrigées.\n"
     ]
    }
   ],
   "source": [
    "#Corriger la ou les données incohérentes\n",
    "# Identification des incohérences entre 'stock_status' et 'stock_status_2'\n",
    "incoherences = df_erp[df_erp['stock_status'] != df_erp['stock_status_2']]\n",
    "\n",
    "print(\"Données incohérentes avant correction :\")\n",
    "print(incoherences[['stock_status', 'stock_status_2', 'stock_quantity']])\n",
    "\n",
    "# Correction des incohérences : on considère que 'stock_status_2' est la référence correcte\n",
    "df_erp.loc[df_erp['stock_status'] != df_erp['stock_status_2'], 'stock_status'] = df_erp['stock_status_2']\n",
    "\n",
    "# Vérification des incohérences après correction\n",
    "incoherences_apres = df_erp[df_erp['stock_status'] != df_erp['stock_status_2']]\n",
    "\n",
    "print(\"\\nNombre d'incohérences restantes après correction : \", len(incoherences_apres))\n",
    "print(\"Si le nombre est 0, toutes les incohérences ont été corrigées.\")\n",
    "\n",
    "#Verification en utilisant le même code que plus haut pour afficher les problemes\n",
    "# Identification des incohérences entre 'stock_status' et 'stock_status_2'\n",
    "incoherences = df_erp[df_erp['stock_status'] != df_erp['stock_status_2']]\n",
    "\n",
    "print(\"Données incohérentes avant correction :\")\n",
    "print(incoherences[['stock_status', 'stock_status_2', 'stock_quantity']])\n",
    "\n",
    "# Correction des incohérences : on considère que 'stock_status_2' est la référence correcte\n",
    "df_erp.loc[df_erp['stock_status'] != df_erp['stock_status_2'], 'stock_status'] = df_erp['stock_status_2']\n",
    "\n",
    "# Vérification des incohérences après correction\n",
    "incoherences_apres = df_erp[df_erp['stock_status'] != df_erp['stock_status_2']]\n",
    "\n",
    "print(\"\\nNombre d'incohérences restantes après correction : \", len(incoherences_apres))\n",
    "print(\"Si le nombre est 0, toutes les incohérences ont été corrigées.\")\n"
   ]
  },
  {
   "cell_type": "markdown",
   "id": "08bd4b08",
   "metadata": {},
   "source": [
    "<div style=\"border: 1px solid RGB(51,165,182);\" >\n",
    "<h3 style=\"margin: auto; padding: 20px; color: RGB(51,165,182); \">2.1.1 - Analyse exploratoire de chaque variable du fichier erp.xlsx</h3>\n",
    "</div>"
   ]
  },
  {
   "cell_type": "markdown",
   "id": "3476df40",
   "metadata": {},
   "source": [
    "<div style=\"border: 1px solid RGB(51,165,182);\" >\n",
    "<h3 style=\"margin: auto; padding: 20px; color: RGB(51,165,182); \">2.1.1.1 - Analyse de la variable PRIX</h3>\n",
    "</div>"
   ]
  },
  {
   "cell_type": "code",
   "execution_count": 94,
   "id": "a7fc3384",
   "metadata": {},
   "outputs": [
    {
     "name": "stdout",
     "output_type": "stream",
     "text": [
      "Nombre d'articles avec un prix non renseigné : 0\n",
      "\n",
      "Le prix minimum dans la colonne 'price' est : -20.0\n",
      "\n",
      "Le prix maximum dans la colonne 'price' est : 225.0\n",
      "\n",
      "Articles avec un prix inférieur à 0 :\n",
      "\n",
      "     product_id  price\n",
      "151        4233  -20.0\n",
      "469        5017   -8.0\n",
      "739        6594   -9.1\n"
     ]
    }
   ],
   "source": [
    "###############\n",
    "## LES PRIX  ##\n",
    "###############\n",
    "\n",
    "#Vérification des prix: Y a t-il des prix non renseignés, négatif ou nul?\n",
    "\n",
    "#1. Vérification des prix non renseignés (valeurs manquantes)\n",
    "prix_non_renseigne =  df_erp['price'].isna().sum()\n",
    "\n",
    "#2. Vérification des prix négatifs\n",
    "prix_negatifs = df_erp[df_erp['price'] < 0]\n",
    "\n",
    "#3. Vérification des prix égaux à 0\n",
    "prix_nuls = df_erp[df_erp['price'] == 0]\n",
    "\n",
    "#Afficher le ou les prix non renseignés dans la colonne \"price\"\n",
    "print(f\"Nombre d'articles avec un prix non renseigné : {prix_non_renseigne}\\n\")\n",
    "\n",
    "#Afficher le prix minimum de la colonne \"price\"\n",
    "print(f\"Le prix minimum dans la colonne 'price' est : {df_erp['price'].min()}\\n\")\n",
    "\n",
    "#Afficher le prix maximum de la colonne \"price\"\n",
    "print(f\"Le prix maximum dans la colonne 'price' est : {df_erp['price'].max()}\\n\")\n",
    "\n",
    "#Affichier les prix inférieurs à 0\n",
    "print(f\"Articles avec un prix inférieur à 0 :\\n\")\n",
    "print(prix_negatifs[['product_id', 'price']])\n",
    "\n",
    "#supprimer les prix négatifs pour corriger l'incohérence dans dans la colonne 'price'.\n",
    "# Filtrer et conserver uniquement les prix >= 0\n",
    "df_erp = df_erp[df_erp['price'] >= 0]\n",
    "\n",
    "# Réinitialiser l'index pour un index propre après suppression\n",
    "df_erp = df_erp.reset_index(drop=True)\n"
   ]
  },
  {
   "cell_type": "markdown",
   "id": "f9e68e3e-acb1-407f-a462-7643ea5c805e",
   "metadata": {},
   "source": [
    "Pour corriger l'incohérence dans dans la colonne 'price' J'ai décidé de supprimer les prix négatifs "
   ]
  },
  {
   "cell_type": "markdown",
   "id": "c5fce58c",
   "metadata": {},
   "source": [
    "<div style=\"border: 1px solid RGB(51,165,182);\" >\n",
    "<h3 style=\"margin: auto; padding: 20px; color: RGB(51,165,182); \">2.1.1.2 - Analyse de la variable STOCK</h3>\n",
    "</div>"
   ]
  },
  {
   "cell_type": "code",
   "execution_count": 95,
   "id": "3d14c4a0",
   "metadata": {},
   "outputs": [
    {
     "name": "stdout",
     "output_type": "stream",
     "text": [
      "La quantité minimum dans la colonne 'stock_quantity' est : -10\n",
      "\n",
      "La quantité maximum dans la colonne 'stock_quantity' est : 145\n",
      "\n",
      "Articles avec un stock inférieur à 0 :\n",
      "\n",
      "     product_id  stock_quantity\n",
      "448        4973             -10\n",
      "571        5700              -1\n"
     ]
    }
   ],
   "source": [
    "#######################\n",
    "### stock_quantity  ###\n",
    "#######################\n",
    "\n",
    "#Vérification de la colonne stock quantity\n",
    "\n",
    "#Afficher la quantité minimum de la colonne \"stock_quantity\"\n",
    "print(f\"La quantité minimum dans la colonne 'stock_quantity' est : {df_erp['stock_quantity'].min()}\\n\")\n",
    "\n",
    "#Afficher la quantité maximum de la colonne \"stock_quantity\"\n",
    "print(f\"La quantité maximum dans la colonne 'stock_quantity' est : {df_erp['stock_quantity'].max()}\\n\")\n",
    "\n",
    "#Affichier les stocks inférieurs à 0 (qu'est ce qu'il faut en faire ?)\n",
    "stocks_negatifs = df_erp[df_erp['stock_quantity'] < 0]\n",
    "print(\"Articles avec un stock inférieur à 0 :\\n\")\n",
    "print(stocks_negatifs[['product_id', 'stock_quantity']])\n",
    "\n",
    "# rmplacer les stocks négatifs par la valeur 0 pour éviter des biais ou des résultats incorrects.\n",
    "df_erp['stock_quantity'] = df_erp['stock_quantity'].where(df_erp['stock_quantity'] >= 0, 0)\n"
   ]
  },
  {
   "cell_type": "markdown",
   "id": "2a2e7fb2-9864-4725-beb4-5e544049dfc1",
   "metadata": {},
   "source": [
    "J'ai remplacé les valeurs des stocks negatifs par 0"
   ]
  },
  {
   "cell_type": "markdown",
   "id": "20e8c554",
   "metadata": {},
   "source": [
    "<div style=\"border: 1px solid RGB(51,165,182);\" >\n",
    "<h3 style=\"margin: auto; padding: 20px; color: RGB(51,165,182); \">2.1.1.3 - Analyse de la variable ONSALE_WEB</h3>\n",
    "</div>"
   ]
  },
  {
   "cell_type": "code",
   "execution_count": 96,
   "id": "99b936ca",
   "metadata": {},
   "outputs": [
    {
     "name": "stdout",
     "output_type": "stream",
     "text": [
      "Valeurs uniques dans la colonne 'onsale_web' :\n",
      "[1 0]\n",
      "Nombre de produits disponibles à la vente en ligne : 716\n",
      "Pourcentage de produits disponibles à la vente en ligne : 87.10%\n",
      "Nombre de produits non disponibles à la vente en ligne : 106\n",
      "Nombre de produits en stock mais non disponibles en ligne : 64\n"
     ]
    }
   ],
   "source": [
    "#Vérification de la colonne onsale_web et des valeurs qu'elle contient? Que signifient-elles?\n",
    "valeurs_onsale_web = df_erp['onsale_web'].unique()\n",
    "\n",
    "print(\"Valeurs uniques dans la colonne 'onsale_web' :\")\n",
    "print(valeurs_onsale_web)\n",
    "df_erp['onsale_web'].unique()\n",
    "\n",
    "# Filtrer les produits qui sont disponibles en ligne (onsale_web = 1)\n",
    "produits_en_ligne = df_erp[df_erp['onsale_web'] == 1]\n",
    "\n",
    "# Compter le nombre de produits disponibles en ligne\n",
    "nombre_produits_en_ligne = produits_en_ligne.shape[0]\n",
    "print(f\"Nombre de produits disponibles à la vente en ligne : {nombre_produits_en_ligne}\") \n",
    "\n",
    "# Calcul du pourcentage de produits en ligne\n",
    "# Nombre total de produits\n",
    "nombre_total_produits = df_erp.shape[0]\n",
    "pourcentage_produits_en_ligne = (nombre_produits_en_ligne / nombre_total_produits) * 100\n",
    "print(f\"Pourcentage de produits disponibles à la vente en ligne : {pourcentage_produits_en_ligne:.2f}%\")\n",
    "\n",
    "# Filtrer les produits qui ne sont pas disponibles en ligne (onsale_web = 0)\n",
    "produits_hors_ligne = df_erp[df_erp['onsale_web'] == 0]\n",
    "# Compter le nombre de produits hors ligne\n",
    "nombre_produits_hors_ligne = produits_hors_ligne.shape[0]\n",
    "print(f\"Nombre de produits non disponibles à la vente en ligne : {nombre_produits_hors_ligne}\")\n",
    "\n",
    "# Filtrer les produits en stock mais non disponibles en ligne\n",
    "produits_hors_ligne_en_stock = df_erp[(df_erp['stock_quantity'] > 0) & (df_erp['onsale_web'] == 0)]\n",
    "\n",
    "# Compter le nombre de produits en stock mais non disponibles en ligne\n",
    "nombre_produits_hors_ligne_en_stock = produits_hors_ligne_en_stock.shape[0]\n",
    "\n",
    "# Affichage du résultat\n",
    "print(f\"Nombre de produits en stock mais non disponibles en ligne : {nombre_produits_hors_ligne_en_stock}\")\n",
    "\n",
    "#Quelles sont les colonnes à conserver selon vous? \n",
    "# La colonne onsale_web contient deux valeurs [1, 0] cela signifierait que 0 et 1 représentent respectivement les articles non disponibles et \n",
    "#disponibles sur le site web.\n",
    "#Les colonnes à conserver à mon avis sont:['product_id','onsale_web','price','stock_quantity','stock_status','purchase_price']."
   ]
  },
  {
   "cell_type": "markdown",
   "id": "55406514-d3f6-47b0-8632-bb34f68f59e9",
   "metadata": {},
   "source": [
    "Sur les 106 produits qui ne sont pas disponibles à la vente en ligne, 64 sont en stock. \n",
    "Il serait donc judicieux de les mettre en ligne afin de maximiser les opportunités de vente."
   ]
  },
  {
   "cell_type": "code",
   "execution_count": 97,
   "id": "8053aeda",
   "metadata": {},
   "outputs": [
    {
     "data": {
      "text/html": [
       "<div>\n",
       "<style scoped>\n",
       "    .dataframe tbody tr th:only-of-type {\n",
       "        vertical-align: middle;\n",
       "    }\n",
       "\n",
       "    .dataframe tbody tr th {\n",
       "        vertical-align: top;\n",
       "    }\n",
       "\n",
       "    .dataframe thead th {\n",
       "        text-align: right;\n",
       "    }\n",
       "</style>\n",
       "<table border=\"1\" class=\"dataframe\">\n",
       "  <thead>\n",
       "    <tr style=\"text-align: right;\">\n",
       "      <th></th>\n",
       "      <th>product_id</th>\n",
       "      <th>onsale_web</th>\n",
       "      <th>price</th>\n",
       "      <th>stock_quantity</th>\n",
       "      <th>stock_status</th>\n",
       "      <th>purchase_price</th>\n",
       "    </tr>\n",
       "  </thead>\n",
       "  <tbody>\n",
       "    <tr>\n",
       "      <th>0</th>\n",
       "      <td>3847</td>\n",
       "      <td>1</td>\n",
       "      <td>24.2</td>\n",
       "      <td>16</td>\n",
       "      <td>instock</td>\n",
       "      <td>12.88</td>\n",
       "    </tr>\n",
       "    <tr>\n",
       "      <th>1</th>\n",
       "      <td>3849</td>\n",
       "      <td>1</td>\n",
       "      <td>34.3</td>\n",
       "      <td>10</td>\n",
       "      <td>instock</td>\n",
       "      <td>17.54</td>\n",
       "    </tr>\n",
       "    <tr>\n",
       "      <th>2</th>\n",
       "      <td>3850</td>\n",
       "      <td>1</td>\n",
       "      <td>20.8</td>\n",
       "      <td>0</td>\n",
       "      <td>outofstock</td>\n",
       "      <td>10.64</td>\n",
       "    </tr>\n",
       "    <tr>\n",
       "      <th>3</th>\n",
       "      <td>4032</td>\n",
       "      <td>1</td>\n",
       "      <td>14.1</td>\n",
       "      <td>26</td>\n",
       "      <td>instock</td>\n",
       "      <td>6.92</td>\n",
       "    </tr>\n",
       "    <tr>\n",
       "      <th>4</th>\n",
       "      <td>4039</td>\n",
       "      <td>1</td>\n",
       "      <td>46.0</td>\n",
       "      <td>3</td>\n",
       "      <td>instock</td>\n",
       "      <td>23.77</td>\n",
       "    </tr>\n",
       "  </tbody>\n",
       "</table>\n",
       "</div>"
      ],
      "text/plain": [
       "   product_id  onsale_web  price  stock_quantity stock_status  purchase_price\n",
       "0        3847           1   24.2              16      instock           12.88\n",
       "1        3849           1   34.3              10      instock           17.54\n",
       "2        3850           1   20.8               0   outofstock           10.64\n",
       "3        4032           1   14.1              26      instock            6.92\n",
       "4        4039           1   46.0               3      instock           23.77"
      ]
     },
     "execution_count": 97,
     "metadata": {},
     "output_type": "execute_result"
    }
   ],
   "source": [
    "#Supprimer la colonne comportant le libellé \"stock_status_2\" car elle est redondante \n",
    "#avec la colonne \"stock_status\".\n",
    "df_erp = df_erp.drop(columns=['stock_status_2'])\n",
    "df_erp.head()"
   ]
  },
  {
   "cell_type": "markdown",
   "id": "eca4fce9",
   "metadata": {},
   "source": [
    "<div style=\"border: 1px solid RGB(51,165,182);\" >\n",
    "<h3 style=\"margin: auto; padding: 20px; color: RGB(51,165,182); \">2.1.1.4 - Analyse de la variable prix d'achat</h3>\n",
    "</div>"
   ]
  },
  {
   "cell_type": "code",
   "execution_count": 98,
   "id": "6b85ba0d",
   "metadata": {},
   "outputs": [
    {
     "name": "stdout",
     "output_type": "stream",
     "text": [
      "Articles avec un prix non renseigné dans 'purchase_price' :\n",
      "Empty DataFrame\n",
      "Columns: [product_id, purchase_price]\n",
      "Index: []\n",
      "Le prix minimum dans la colonne 'purchase_price' est : 2.74\n",
      "\n",
      "Le prix maximum dans la colonne 'purchase_price' est : 137.81\n",
      "\n"
     ]
    }
   ],
   "source": [
    "######################\n",
    "##   prix d'achat   ##\n",
    "######################\n",
    "\n",
    "#Vérification de la colonne purchase_price : \n",
    "\n",
    "#Afficher le ou les prix non renseignés dans la colonne \"purchase_price\"\n",
    "prix_non_renseigne = df_erp[df_erp['purchase_price'].isna()]\n",
    "print(\"Articles avec un prix non renseigné dans 'purchase_price' :\")\n",
    "print(prix_non_renseigne[['product_id', 'purchase_price']])\n",
    "\n",
    "#Afficher le prix minimum de la colonne \"purchase_price\"\n",
    "prix_minimum = df_erp['purchase_price'].min()\n",
    "print(f\"Le prix minimum dans la colonne 'purchase_price' est : {prix_minimum }\\n\")\n",
    "\n",
    "#Afficher le prix maximum de la colonne \"purchase_price\"\n",
    "prix_maximum = df_erp['purchase_price'].max()\n",
    "print(f\"Le prix maximum dans la colonne 'purchase_price' est : {prix_maximum}\\n\")\n"
   ]
  },
  {
   "cell_type": "markdown",
   "id": "a550f996",
   "metadata": {},
   "source": [
    "<div style=\"border: 1px solid RGB(51,165,182);\" >\n",
    "<h3 style=\"margin: auto; padding: 20px; color: RGB(51,165,182); \">2.2 - Analyse exploratoire du fichier web.xlsx</h3>\n",
    "</div>\n",
    " "
   ]
  },
  {
   "cell_type": "code",
   "execution_count": 99,
   "id": "bb7e292c",
   "metadata": {},
   "outputs": [
    {
     "name": "stdout",
     "output_type": "stream",
     "text": [
      "la dimension du dataset est: (1513, 29)\n",
      "Le nombre d'observations dans la DataFrame df_web est : 1513\n",
      "Nombre de caractéristiques : 29\n"
     ]
    }
   ],
   "source": [
    "#Dimension du dataset\n",
    "dimension = df_web.shape\n",
    "print(f\"la dimension du dataset est: {dimension}\")\n",
    "\n",
    "#Nombre d'observations\n",
    "nombre_observations = df_web.shape[0]\n",
    "print(f\"Le nombre d'observations dans la DataFrame df_web est : {nombre_observations}\")\n",
    "\n",
    "#Nombre de caractéristiques\n",
    "nombre_de_colonnes = df_web.shape[1]\n",
    "print(f\"Nombre de caractéristiques : {nombre_de_colonnes}\")\n"
   ]
  },
  {
   "cell_type": "code",
   "execution_count": 100,
   "id": "0b70a8da",
   "metadata": {},
   "outputs": [
    {
     "name": "stdout",
     "output_type": "stream",
     "text": [
      "Le tableau comporte 29 colonne(s)\n",
      "\n",
      "Nature des données dans chaque colonne du dataset df_web :\n",
      "sku                              object\n",
      "virtual                           int64\n",
      "downloadable                      int64\n",
      "rating_count                      int64\n",
      "average_rating                  float64\n",
      "total_sales                     float64\n",
      "tax_status                       object\n",
      "tax_class                       float64\n",
      "post_author                     float64\n",
      "post_date                datetime64[ns]\n",
      "post_date_gmt            datetime64[ns]\n",
      "post_content                    float64\n",
      "product_type                     object\n",
      "post_title                       object\n",
      "post_excerpt                     object\n",
      "post_status                      object\n",
      "comment_status                   object\n",
      "ping_status                      object\n",
      "post_password                   float64\n",
      "post_name                        object\n",
      "post_modified            datetime64[ns]\n",
      "post_modified_gmt        datetime64[ns]\n",
      "post_content_filtered           float64\n",
      "post_parent                     float64\n",
      "guid                             object\n",
      "menu_order                      float64\n",
      "post_type                        object\n",
      "post_mime_type                   object\n",
      "comment_count                   float64\n",
      "dtype: object\n",
      "Nombre de valeurs présentes dans chaque colonne du dataset df_web :\n",
      "sku                      1428\n",
      "virtual                  1513\n",
      "downloadable             1513\n",
      "rating_count             1513\n",
      "average_rating           1430\n",
      "total_sales              1430\n",
      "tax_status                716\n",
      "tax_class                   0\n",
      "post_author              1430\n",
      "post_date                1430\n",
      "post_date_gmt            1430\n",
      "post_content                0\n",
      "product_type             1429\n",
      "post_title               1430\n",
      "post_excerpt              716\n",
      "post_status              1430\n",
      "comment_status           1430\n",
      "ping_status              1430\n",
      "post_password               0\n",
      "post_name                1430\n",
      "post_modified            1430\n",
      "post_modified_gmt        1430\n",
      "post_content_filtered       0\n",
      "post_parent              1430\n",
      "guid                     1430\n",
      "menu_order               1430\n",
      "post_type                1430\n",
      "post_mime_type            714\n",
      "comment_count            1430\n",
      "dtype: int64\n"
     ]
    }
   ],
   "source": [
    "#Consulter le nombre de colonnes\n",
    "nombre_de_colonnes = len(df_web.columns)\n",
    "print(f\"Le tableau comporte {nombre_de_colonnes} colonne(s)\\n\")\n",
    "\n",
    "#La nature des données dans chacune des colonnes\n",
    "nature_donnees_web = df_web.dtypes\n",
    "print(\"Nature des données dans chaque colonne du dataset df_web :\")\n",
    "print(nature_donnees_web)\n",
    "\n",
    "#Le nombre de valeurs présentes dans chacune des colonnes\n",
    "nombre_valeurs_par_colonne = df_web.count()\n",
    "print(\"Nombre de valeurs présentes dans chaque colonne du dataset df_web :\")\n",
    "print(nombre_valeurs_par_colonne)\n"
   ]
  },
  {
   "cell_type": "markdown",
   "id": "2da55ef5-1891-40ec-bf6d-8d53d389b604",
   "metadata": {},
   "source": [
    "Selon vous, quelles sont les colonnes à conserver ?\n",
    "Les colonnes à conserver sont: ['sku','total_sales', 'product_type', 'post_title', 'post_name' ]"
   ]
  },
  {
   "cell_type": "code",
   "execution_count": 101,
   "id": "30b2196b",
   "metadata": {},
   "outputs": [],
   "source": [
    "#Si vous avez défini des colonnes à supprimer, effectuer l'opération\n",
    "df_web = df_web.drop(columns = ['virtual', 'downloadable', 'rating_count', 'average_rating', 'tax_status', 'tax_class', 'post_author',             \n",
    "'post_date', 'post_date_gmt', 'post_content', 'post_excerpt', 'post_status', 'comment_status', 'ping_status','post_password',           \n",
    "'post_modified', 'post_modified_gmt', 'post_content_filtered', 'post_parent', 'guid', 'menu_order', 'post_type', 'post_mime_type','comment_count'])"
   ]
  },
  {
   "cell_type": "code",
   "execution_count": 102,
   "id": "8572d26b-5661-45af-a8a0-6fa4de9df94e",
   "metadata": {},
   "outputs": [],
   "source": [
    "#df_web.head()"
   ]
  },
  {
   "cell_type": "code",
   "execution_count": 103,
   "id": "1b965d06",
   "metadata": {},
   "outputs": [
    {
     "data": {
      "application/vnd.plotly.v1+json": {
       "config": {
        "plotlyServerURL": "https://plot.ly"
       },
       "data": [
        {
         "alignmentgroup": "True",
         "bingroup": "x",
         "hovertemplate": "sku=%{x}<br>count=%{y}<extra></extra>",
         "legendgroup": "",
         "marker": {
          "color": "#636efa",
          "pattern": {
           "shape": ""
          }
         },
         "name": "",
         "offsetgroup": "",
         "orientation": "v",
         "showlegend": false,
         "type": "histogram",
         "x": [
          11862,
          16057,
          14692,
          16295,
          15328,
          15471,
          16515,
          16246,
          null,
          13572,
          16513,
          16585,
          16269,
          15526,
          12869,
          15575,
          11586,
          14338,
          15425,
          16560,
          null,
          15361,
          13809,
          11587,
          15022,
          14323,
          16342,
          16029,
          15475,
          13754,
          null,
          14680,
          15875,
          9636,
          13849,
          13662,
          16564,
          null,
          13557,
          15429,
          14712,
          null,
          15032,
          15481,
          15448,
          16580,
          15441,
          null,
          804,
          15300,
          13958,
          16071,
          15678,
          13895,
          15711,
          null,
          12869,
          12882,
          16053,
          13766,
          16247,
          12640,
          15292,
          15476,
          15670,
          16189,
          16038,
          14864,
          16044,
          15324,
          15531,
          15953,
          15413,
          15733,
          13809,
          null,
          14366,
          15895,
          15892,
          16472,
          15185,
          16010,
          15793,
          15849,
          12315,
          15741,
          15934,
          15148,
          15781,
          15659,
          15106,
          15490,
          14507,
          14149,
          null,
          16307,
          13736,
          14090,
          16037,
          15758,
          14661,
          12587,
          15337,
          15489,
          15201,
          16305,
          16131,
          13435,
          15747,
          15758,
          12203,
          14509,
          14768,
          16262,
          14561,
          16505,
          15717,
          13766,
          16129,
          13460,
          15871,
          15940,
          11602,
          13127,
          13520,
          15480,
          13032,
          null,
          15436,
          15269,
          null,
          15910,
          19821,
          16263,
          15138,
          15146,
          null,
          16580,
          15126,
          15482,
          16186,
          13905,
          16540,
          15856,
          15677,
          13557,
          14700,
          15325,
          19815,
          3506,
          16056,
          14975,
          15341,
          null,
          15204,
          15415,
          16065,
          15479,
          16151,
          15127,
          15140,
          15779,
          null,
          15473,
          15530,
          14805,
          14106,
          9937,
          15281,
          null,
          16553,
          15315,
          15668,
          13211,
          15161,
          11258,
          16296,
          12588,
          15792,
          15921,
          15690,
          15775,
          15577,
          15870,
          null,
          802,
          15163,
          15707,
          15690,
          15561,
          15539,
          4679,
          16320,
          15923,
          3509,
          2534,
          16238,
          11586,
          null,
          null,
          14819,
          15705,
          15254,
          15554,
          14451,
          13215,
          14302,
          12476,
          16274,
          16044,
          14507,
          14696,
          14573,
          15343,
          791,
          14474,
          12586,
          16238,
          14768,
          15346,
          15834,
          15342,
          15324,
          15141,
          15038,
          14265,
          15238,
          16586,
          15895,
          13073,
          15664,
          14527,
          15707,
          15269,
          14845,
          13172,
          13996,
          15038,
          15864,
          14700,
          15440,
          15759,
          15706,
          11277,
          null,
          15448,
          15676,
          15731,
          13435,
          16525,
          15785,
          14699,
          16063,
          15718,
          14372,
          15881,
          793,
          14775,
          12771,
          15426,
          13291,
          16023,
          14661,
          15713,
          null,
          15675,
          15282,
          15927,
          15351,
          null,
          12791,
          13958,
          "13127-1",
          13853,
          15613,
          15921,
          11849,
          15478,
          15328,
          16121,
          16237,
          15461,
          15745,
          15621,
          13849,
          15683,
          15577,
          12639,
          15466,
          15184,
          null,
          13078,
          13904,
          14828,
          14000,
          15793,
          15612,
          304,
          15811,
          15425,
          15649,
          14599,
          15033,
          13959,
          15026,
          13032,
          16449,
          15095,
          15829,
          13965,
          16306,
          16276,
          15729,
          15303,
          13996,
          14679,
          15318,
          13599,
          15206,
          null,
          19816,
          16153,
          16067,
          15241,
          14981,
          16264,
          14915,
          15737,
          16289,
          15229,
          15713,
          7033,
          15654,
          15879,
          12586,
          15184,
          14692,
          16256,
          15710,
          null,
          16498,
          16289,
          15204,
          15349,
          11933,
          16462,
          14596,
          15296,
          16042,
          15887,
          15264,
          15307,
          null,
          16256,
          15369,
          14095,
          15868,
          16247,
          16307,
          null,
          15530,
          14371,
          12657,
          15478,
          null,
          15808,
          15787,
          16038,
          13604,
          13604,
          791,
          15605,
          15795,
          null,
          15566,
          16210,
          null,
          15732,
          15661,
          null,
          13814,
          16130,
          16003,
          14676,
          13516,
          14977,
          14945,
          12641,
          14469,
          15237,
          14905,
          15462,
          16031,
          15779,
          14599,
          14819,
          16191,
          3568,
          15080,
          14975,
          15353,
          15861,
          16529,
          16068,
          16081,
          14729,
          16077,
          15373,
          11049,
          null,
          16154,
          14809,
          15201,
          15073,
          15345,
          15756,
          13531,
          15373,
          16269,
          15614,
          7086,
          null,
          15784,
          14332,
          16320,
          null,
          14300,
          14141,
          15734,
          15456,
          805,
          16130,
          15766,
          13895,
          15667,
          16513,
          16081,
          16152,
          16318,
          15677,
          15185,
          15360,
          14696,
          16067,
          13517,
          7819,
          12771,
          15740,
          15930,
          16155,
          4679,
          15339,
          14950,
          13754,
          2179,
          15688,
          16525,
          13982,
          38,
          13853,
          15178,
          16209,
          14982,
          8463,
          13412,
          15298,
          14149,
          15770,
          15487,
          15205,
          13230,
          14220,
          15227,
          13172,
          14106,
          16094,
          15859,
          15811,
          15481,
          15179,
          14774,
          14944,
          16022,
          15767,
          15338,
          13913,
          14756,
          16152,
          15746,
          14332,
          16192,
          15763,
          12365,
          15868,
          9562,
          15767,
          16039,
          16328,
          16564,
          15196,
          15475,
          531,
          15810,
          15649,
          7086,
          2361,
          15402,
          14828,
          14220,
          15945,
          15807,
          15661,
          16210,
          14506,
          14100,
          null,
          15075,
          13765,
          12882,
          16093,
          10814,
          12942,
          null,
          1366,
          12857,
          12045,
          13515,
          11601,
          16148,
          12339,
          15095,
          14845,
          15351,
          15870,
          16567,
          15240,
          793,
          15414,
          812,
          16292,
          11736,
          null,
          15714,
          15120,
          15461,
          15141,
          13117,
          3383,
          1366,
          15631,
          null,
          15136,
          15145,
          13096,
          15857,
          15318,
          15241,
          null,
          14632,
          11641,
          15856,
          804,
          15807,
          15736,
          15136,
          15615,
          15574,
          16096,
          15564,
          15774,
          14930,
          15714,
          15670,
          15429,
          15941,
          16045,
          16246,
          15539,
          16230,
          14429,
          16010,
          15769,
          16265,
          14657,
          15741,
          15261,
          13765,
          16239,
          14141,
          15715,
          13453,
          16244,
          15147,
          16280,
          15564,
          14508,
          15465,
          11277,
          3510,
          14374,
          15880,
          16071,
          null,
          15930,
          16151,
          15465,
          13416,
          15343,
          15733,
          15183,
          15860,
          11467,
          null,
          11585,
          11602,
          14300,
          14485,
          16138,
          19822,
          14915,
          15155,
          11996,
          null,
          14626,
          15126,
          15026,
          13117,
          16330,
          15035,
          15404,
          8365,
          3507,
          14773,
          15360,
          12639,
          15967,
          14000,
          15812,
          16319,
          null,
          null,
          14699,
          16004,
          15310,
          16093,
          16097,
          12045,
          14856,
          19821,
          15881,
          15629,
          1364,
          15120,
          15116,
          14101,
          13531,
          14912,
          15036,
          16047,
          14184,
          14983,
          14983,
          16030,
          16283,
          16324,
          14756,
          null,
          15801,
          10014,
          12881,
          15660,
          16540,
          16005,
          15489,
          15306,
          16277,
          11641,
          15527,
          null,
          15428,
          15292,
          13957,
          15647,
          2179,
          12496,
          15399,
          15490,
          13969,
          13096,
          15525,
          15759,
          12942,
          13914,
          13211,
          12790,
          16498,
          null,
          13904,
          15296,
          16560,
          15720,
          13313,
          13291,
          null,
          15196,
          15928,
          15432,
          16077,
          13814,
          15655,
          16539,
          12589,
          15648,
          13127,
          null,
          15561,
          16011,
          null,
          15711,
          15892,
          15073,
          16146,
          15672,
          15030,
          15735,
          15769,
          null,
          14800,
          9937,
          16190,
          13217,
          13854,
          14856,
          16317,
          15871,
          16565,
          16131,
          15237,
          15891,
          15729,
          15730,
          16497,
          16124,
          14596,
          15566,
          16056,
          14626,
          15476,
          10459,
          19814,
          15863,
          15786,
          15791,
          15353,
          16135,
          16553,
          16147,
          12640,
          16066,
          15818,
          15791,
          15790,
          9636,
          15205,
          15648,
          8193,
          15282,
          16255,
          16189,
          15047,
          15966,
          16153,
          13078,
          14736,
          16120,
          16013,
          19815,
          798,
          null,
          1662,
          16416,
          7032,
          14581,
          16280,
          15047,
          15106,
          14944,
          15783,
          16144,
          5646,
          8344,
          15775,
          13514,
          15848,
          14451,
          15658,
          15161,
          null,
          16209,
          14680,
          14897,
          12194,
          10775,
          16304,
          15361,
          14980,
          13572,
          15035,
          14192,
          15715,
          15952,
          15717,
          14508,
          14099,
          16094,
          3506,
          15834,
          3568,
          15315,
          null,
          16144,
          12315,
          null,
          15125,
          13089,
          15655,
          16062,
          14923,
          15801,
          null,
          14839,
          11933,
          15576,
          13515,
          15657,
          1360,
          null,
          15583,
          14527,
          15457,
          13969,
          16275,
          "bon-cadeau-25-euros",
          15346,
          15797,
          15574,
          12366,
          14864,
          14095,
          15764,
          15080,
          11587,
          14632,
          16072,
          15426,
          15070,
          16323,
          15753,
          15575,
          15755,
          10814,
          15718,
          15582,
          13379,
          15704,
          14372,
          16515,
          13965,
          14265,
          12194,
          15482,
          11601,
          16192,
          15457,
          15861,
          15345,
          14101,
          15667,
          13072,
          15862,
          15533,
          16275,
          15441,
          16028,
          16186,
          12588,
          15148,
          10459,
          15473,
          14775,
          7032,
          14725,
          13647,
          15436,
          16261,
          15944,
          16146,
          15256,
          15576,
          523,
          15452,
          16322,
          15240,
          14729,
          16014,
          13089,
          15732,
          15631,
          14600,
          15316,
          15163,
          16244,
          16264,
          15776,
          14509,
          16211,
          14899,
          14955,
          13412,
          15471,
          13910,
          15134,
          19814,
          15434,
          16124,
          16262,
          13982,
          15813,
          14773,
          15808,
          15145,
          15794,
          15946,
          3383,
          16213,
          14855,
          3510,
          14827,
          14930,
          13520,
          14089,
          15283,
          15734,
          15629,
          null,
          15740,
          14647,
          null,
          15525,
          15036,
          11467,
          15781,
          16504,
          15849,
          15674,
          15794,
          16537,
          16062,
          13230,
          16416,
          15657,
          15658,
          15179,
          15945,
          38,
          41,
          13762,
          15399,
          null,
          16283,
          14570,
          null,
          13313,
          16041,
          15202,
          15180,
          15375,
          16046,
          15678,
          16034,
          16120,
          14092,
          14241,
          14982,
          15075,
          11997,
          15922,
          null,
          14844,
          15795,
          15444,
          14839,
          16047,
          15486,
          7819,
          15664,
          8344,
          14923,
          15378,
          14950,
          15621,
          11862,
          1662,
          807,
          14679,
          null,
          14905,
          13567,
          16281,
          13217,
          1364,
          15413,
          15213,
          15032,
          12366,
          16166,
          11849,
          13957,
          null,
          11225,
          16323,
          13567,
          15773,
          16003,
          16539,
          16160,
          19820,
          13599,
          7818,
          15116,
          10014,
          13379,
          14751,
          14712,
          15280,
          15786,
          15933,
          16277,
          14184,
          13627,
          16063,
          14429,
          13910,
          15403,
          14580,
          null,
          16024,
          14090,
          15432,
          3507,
          15860,
          15261,
          14561,
          14371,
          15227,
          12641,
          16068,
          16096,
          14797,
          12476,
          16304,
          15737,
          12494,
          16229,
          13659,
          null,
          16281,
          16578,
          15770,
          14802,
          15238,
          16029,
          15850,
          16306,
          16159,
          15704,
          15554,
          15839,
          16053,
          13052,
          15668,
          15375,
          15605,
          16034,
          null,
          15869,
          null,
          null,
          15444,
          15486,
          14604,
          16273,
          15875,
          15659,
          13905,
          812,
          16295,
          15785,
          null,
          15178,
          15404,
          16005,
          15329,
          16042,
          14573,
          14366,
          15283,
          16318,
          16031,
          16578,
          15307,
          15773,
          13854,
          3509,
          15125,
          15306,
          14253,
          "13127-1",
          13073,
          16213,
          14941,
          15567,
          15487,
          16132,
          16023,
          13627,
          14736,
          41,
          14746,
          16504,
          14955,
          15656,
          16066,
          16135,
          15070,
          null,
          16527,
          null,
          2361,
          15162,
          16045,
          15206,
          16154,
          16529,
          14580,
          7818,
          16326,
          16449,
          14657,
          15310,
          16501,
          null,
          15747,
          807,
          15818,
          12881,
          15654,
          15688,
          16119,
          14647,
          13914,
          15662,
          15526,
          15764,
          15344,
          13052,
          16330,
          15378,
          15864,
          16147,
          16046,
          16505,
          11996,
          13662,
          16011,
          15281,
          16586,
          15792,
          15776,
          15303,
          15676,
          15967,
          14800,
          14469,
          15787,
          14089,
          19816,
          15134,
          6616,
          16065,
          15958,
          1360,
          15466,
          14865,
          null,
          14897,
          16292,
          13215,
          15879,
          15848,
          16328,
          15656,
          11669,
          8365,
          15180,
          15660,
          15766,
          11669,
          15812,
          16013,
          304,
          15480,
          15746,
          15022,
          15162,
          15428,
          14395,
          14338,
          15127,
          14323,
          16229,
          15923,
          15155,
          14092,
          16565,
          13647,
          15147,
          14604,
          16296,
          14855,
          12791,
          null,
          15149,
          16239,
          12585,
          14570,
          15338,
          15958,
          14751,
          15933,
          14506,
          11668,
          11847,
          12599,
          null,
          5646,
          15850,
          16527,
          15583,
          16159,
          16133,
          15665,
          14797,
          15183,
          null,
          19820,
          13762,
          16305,
          15337,
          16121,
          14474,
          15382,
          16263,
          null,
          13736,
          802,
          11997,
          16138,
          15940,
          14809,
          13209,
          15146,
          13072,
          12587,
          16133,
          15705,
          14461,
          14805,
          15730,
          8193,
          15790,
          15748,
          15229,
          15298,
          16166,
          15663,
          15072,
          15004,
          15202,
          15755,
          16069,
          12496,
          15300,
          15952,
          14395,
          16037,
          15434,
          11585,
          16180,
          12203,
          15887,
          null,
          15342,
          15753,
          15325,
          16585,
          15927,
          15665,
          14600,
          15934,
          13659,
          15341,
          15403,
          15949,
          11225,
          13460,
          14725,
          10775,
          12857,
          14980,
          8463,
          15774,
          11049,
          16149,
          15414,
          16043,
          7033,
          15845,
          15745,
          null,
          16255,
          12599,
          null,
          16069,
          16132,
          15072,
          15138,
          14374,
          14945,
          15951,
          13514,
          15382,
          14302,
          16180,
          15829,
          15951,
          14241,
          11258,
          15675,
          15531,
          15944,
          16024,
          16119,
          13074,
          14192,
          15857,
          16022,
          15839,
          16028,
          15941,
          15949,
          16237,
          15663,
          16274,
          15946,
          15845,
          12589,
          16230,
          13453,
          11736,
          16501,
          15280,
          16097,
          16472,
          16276,
          14485,
          14100,
          15004,
          15533,
          15859,
          14099,
          14774,
          16342,
          13959,
          null,
          15033,
          15613,
          "bon-cadeau-25-euros",
          15149,
          16537,
          16462,
          14569,
          14977,
          16041,
          15813,
          16324,
          14676,
          15339,
          16160,
          15402,
          15922,
          16030,
          16190,
          16265,
          15479,
          15527,
          15966,
          15710,
          15452,
          15140,
          14981,
          12585,
          15213,
          15810,
          16211,
          12657,
          16149,
          16043,
          15891,
          13517,
          15567,
          15582,
          12339,
          19822,
          15612,
          14865,
          12790,
          15763,
          15462,
          null,
          523,
          13516,
          null,
          15862,
          16317,
          14899,
          16057,
          15614,
          9562,
          15784,
          13209,
          805,
          531,
          15440,
          15683,
          null,
          15674,
          15316,
          15880,
          15731,
          14569,
          15254,
          15910,
          2534,
          15953,
          14581,
          14941,
          null,
          16191,
          15344,
          15672,
          11847,
          798,
          16155,
          13913,
          15869,
          15928,
          15735,
          16148,
          16273,
          13416,
          6616,
          15647,
          16039,
          15720,
          12494,
          14746,
          16129,
          15756,
          15783,
          16567,
          15797,
          15863,
          16014,
          15706,
          14844,
          15256,
          14802,
          15615,
          15736,
          15349,
          16319,
          11668,
          16072,
          16497,
          15030,
          15456,
          15264,
          15369,
          14253,
          15415,
          14912,
          14461,
          13074,
          15748,
          16322,
          16261,
          12365,
          16326,
          15662,
          15329,
          14827,
          16004
         ],
         "xaxis": "x",
         "yaxis": "y"
        }
       ],
       "layout": {
        "autosize": true,
        "barmode": "relative",
        "legend": {
         "tracegroupgap": 0
        },
        "template": {
         "data": {
          "bar": [
           {
            "error_x": {
             "color": "#2a3f5f"
            },
            "error_y": {
             "color": "#2a3f5f"
            },
            "marker": {
             "line": {
              "color": "#E5ECF6",
              "width": 0.5
             },
             "pattern": {
              "fillmode": "overlay",
              "size": 10,
              "solidity": 0.2
             }
            },
            "type": "bar"
           }
          ],
          "barpolar": [
           {
            "marker": {
             "line": {
              "color": "#E5ECF6",
              "width": 0.5
             },
             "pattern": {
              "fillmode": "overlay",
              "size": 10,
              "solidity": 0.2
             }
            },
            "type": "barpolar"
           }
          ],
          "carpet": [
           {
            "aaxis": {
             "endlinecolor": "#2a3f5f",
             "gridcolor": "white",
             "linecolor": "white",
             "minorgridcolor": "white",
             "startlinecolor": "#2a3f5f"
            },
            "baxis": {
             "endlinecolor": "#2a3f5f",
             "gridcolor": "white",
             "linecolor": "white",
             "minorgridcolor": "white",
             "startlinecolor": "#2a3f5f"
            },
            "type": "carpet"
           }
          ],
          "choropleth": [
           {
            "colorbar": {
             "outlinewidth": 0,
             "ticks": ""
            },
            "type": "choropleth"
           }
          ],
          "contour": [
           {
            "colorbar": {
             "outlinewidth": 0,
             "ticks": ""
            },
            "colorscale": [
             [
              0,
              "#0d0887"
             ],
             [
              0.1111111111111111,
              "#46039f"
             ],
             [
              0.2222222222222222,
              "#7201a8"
             ],
             [
              0.3333333333333333,
              "#9c179e"
             ],
             [
              0.4444444444444444,
              "#bd3786"
             ],
             [
              0.5555555555555556,
              "#d8576b"
             ],
             [
              0.6666666666666666,
              "#ed7953"
             ],
             [
              0.7777777777777778,
              "#fb9f3a"
             ],
             [
              0.8888888888888888,
              "#fdca26"
             ],
             [
              1,
              "#f0f921"
             ]
            ],
            "type": "contour"
           }
          ],
          "contourcarpet": [
           {
            "colorbar": {
             "outlinewidth": 0,
             "ticks": ""
            },
            "type": "contourcarpet"
           }
          ],
          "heatmap": [
           {
            "colorbar": {
             "outlinewidth": 0,
             "ticks": ""
            },
            "colorscale": [
             [
              0,
              "#0d0887"
             ],
             [
              0.1111111111111111,
              "#46039f"
             ],
             [
              0.2222222222222222,
              "#7201a8"
             ],
             [
              0.3333333333333333,
              "#9c179e"
             ],
             [
              0.4444444444444444,
              "#bd3786"
             ],
             [
              0.5555555555555556,
              "#d8576b"
             ],
             [
              0.6666666666666666,
              "#ed7953"
             ],
             [
              0.7777777777777778,
              "#fb9f3a"
             ],
             [
              0.8888888888888888,
              "#fdca26"
             ],
             [
              1,
              "#f0f921"
             ]
            ],
            "type": "heatmap"
           }
          ],
          "heatmapgl": [
           {
            "colorbar": {
             "outlinewidth": 0,
             "ticks": ""
            },
            "colorscale": [
             [
              0,
              "#0d0887"
             ],
             [
              0.1111111111111111,
              "#46039f"
             ],
             [
              0.2222222222222222,
              "#7201a8"
             ],
             [
              0.3333333333333333,
              "#9c179e"
             ],
             [
              0.4444444444444444,
              "#bd3786"
             ],
             [
              0.5555555555555556,
              "#d8576b"
             ],
             [
              0.6666666666666666,
              "#ed7953"
             ],
             [
              0.7777777777777778,
              "#fb9f3a"
             ],
             [
              0.8888888888888888,
              "#fdca26"
             ],
             [
              1,
              "#f0f921"
             ]
            ],
            "type": "heatmapgl"
           }
          ],
          "histogram": [
           {
            "marker": {
             "pattern": {
              "fillmode": "overlay",
              "size": 10,
              "solidity": 0.2
             }
            },
            "type": "histogram"
           }
          ],
          "histogram2d": [
           {
            "colorbar": {
             "outlinewidth": 0,
             "ticks": ""
            },
            "colorscale": [
             [
              0,
              "#0d0887"
             ],
             [
              0.1111111111111111,
              "#46039f"
             ],
             [
              0.2222222222222222,
              "#7201a8"
             ],
             [
              0.3333333333333333,
              "#9c179e"
             ],
             [
              0.4444444444444444,
              "#bd3786"
             ],
             [
              0.5555555555555556,
              "#d8576b"
             ],
             [
              0.6666666666666666,
              "#ed7953"
             ],
             [
              0.7777777777777778,
              "#fb9f3a"
             ],
             [
              0.8888888888888888,
              "#fdca26"
             ],
             [
              1,
              "#f0f921"
             ]
            ],
            "type": "histogram2d"
           }
          ],
          "histogram2dcontour": [
           {
            "colorbar": {
             "outlinewidth": 0,
             "ticks": ""
            },
            "colorscale": [
             [
              0,
              "#0d0887"
             ],
             [
              0.1111111111111111,
              "#46039f"
             ],
             [
              0.2222222222222222,
              "#7201a8"
             ],
             [
              0.3333333333333333,
              "#9c179e"
             ],
             [
              0.4444444444444444,
              "#bd3786"
             ],
             [
              0.5555555555555556,
              "#d8576b"
             ],
             [
              0.6666666666666666,
              "#ed7953"
             ],
             [
              0.7777777777777778,
              "#fb9f3a"
             ],
             [
              0.8888888888888888,
              "#fdca26"
             ],
             [
              1,
              "#f0f921"
             ]
            ],
            "type": "histogram2dcontour"
           }
          ],
          "mesh3d": [
           {
            "colorbar": {
             "outlinewidth": 0,
             "ticks": ""
            },
            "type": "mesh3d"
           }
          ],
          "parcoords": [
           {
            "line": {
             "colorbar": {
              "outlinewidth": 0,
              "ticks": ""
             }
            },
            "type": "parcoords"
           }
          ],
          "pie": [
           {
            "automargin": true,
            "type": "pie"
           }
          ],
          "scatter": [
           {
            "fillpattern": {
             "fillmode": "overlay",
             "size": 10,
             "solidity": 0.2
            },
            "type": "scatter"
           }
          ],
          "scatter3d": [
           {
            "line": {
             "colorbar": {
              "outlinewidth": 0,
              "ticks": ""
             }
            },
            "marker": {
             "colorbar": {
              "outlinewidth": 0,
              "ticks": ""
             }
            },
            "type": "scatter3d"
           }
          ],
          "scattercarpet": [
           {
            "marker": {
             "colorbar": {
              "outlinewidth": 0,
              "ticks": ""
             }
            },
            "type": "scattercarpet"
           }
          ],
          "scattergeo": [
           {
            "marker": {
             "colorbar": {
              "outlinewidth": 0,
              "ticks": ""
             }
            },
            "type": "scattergeo"
           }
          ],
          "scattergl": [
           {
            "marker": {
             "colorbar": {
              "outlinewidth": 0,
              "ticks": ""
             }
            },
            "type": "scattergl"
           }
          ],
          "scattermapbox": [
           {
            "marker": {
             "colorbar": {
              "outlinewidth": 0,
              "ticks": ""
             }
            },
            "type": "scattermapbox"
           }
          ],
          "scatterpolar": [
           {
            "marker": {
             "colorbar": {
              "outlinewidth": 0,
              "ticks": ""
             }
            },
            "type": "scatterpolar"
           }
          ],
          "scatterpolargl": [
           {
            "marker": {
             "colorbar": {
              "outlinewidth": 0,
              "ticks": ""
             }
            },
            "type": "scatterpolargl"
           }
          ],
          "scatterternary": [
           {
            "marker": {
             "colorbar": {
              "outlinewidth": 0,
              "ticks": ""
             }
            },
            "type": "scatterternary"
           }
          ],
          "surface": [
           {
            "colorbar": {
             "outlinewidth": 0,
             "ticks": ""
            },
            "colorscale": [
             [
              0,
              "#0d0887"
             ],
             [
              0.1111111111111111,
              "#46039f"
             ],
             [
              0.2222222222222222,
              "#7201a8"
             ],
             [
              0.3333333333333333,
              "#9c179e"
             ],
             [
              0.4444444444444444,
              "#bd3786"
             ],
             [
              0.5555555555555556,
              "#d8576b"
             ],
             [
              0.6666666666666666,
              "#ed7953"
             ],
             [
              0.7777777777777778,
              "#fb9f3a"
             ],
             [
              0.8888888888888888,
              "#fdca26"
             ],
             [
              1,
              "#f0f921"
             ]
            ],
            "type": "surface"
           }
          ],
          "table": [
           {
            "cells": {
             "fill": {
              "color": "#EBF0F8"
             },
             "line": {
              "color": "white"
             }
            },
            "header": {
             "fill": {
              "color": "#C8D4E3"
             },
             "line": {
              "color": "white"
             }
            },
            "type": "table"
           }
          ]
         },
         "layout": {
          "annotationdefaults": {
           "arrowcolor": "#2a3f5f",
           "arrowhead": 0,
           "arrowwidth": 1
          },
          "autotypenumbers": "strict",
          "coloraxis": {
           "colorbar": {
            "outlinewidth": 0,
            "ticks": ""
           }
          },
          "colorscale": {
           "diverging": [
            [
             0,
             "#8e0152"
            ],
            [
             0.1,
             "#c51b7d"
            ],
            [
             0.2,
             "#de77ae"
            ],
            [
             0.3,
             "#f1b6da"
            ],
            [
             0.4,
             "#fde0ef"
            ],
            [
             0.5,
             "#f7f7f7"
            ],
            [
             0.6,
             "#e6f5d0"
            ],
            [
             0.7,
             "#b8e186"
            ],
            [
             0.8,
             "#7fbc41"
            ],
            [
             0.9,
             "#4d9221"
            ],
            [
             1,
             "#276419"
            ]
           ],
           "sequential": [
            [
             0,
             "#0d0887"
            ],
            [
             0.1111111111111111,
             "#46039f"
            ],
            [
             0.2222222222222222,
             "#7201a8"
            ],
            [
             0.3333333333333333,
             "#9c179e"
            ],
            [
             0.4444444444444444,
             "#bd3786"
            ],
            [
             0.5555555555555556,
             "#d8576b"
            ],
            [
             0.6666666666666666,
             "#ed7953"
            ],
            [
             0.7777777777777778,
             "#fb9f3a"
            ],
            [
             0.8888888888888888,
             "#fdca26"
            ],
            [
             1,
             "#f0f921"
            ]
           ],
           "sequentialminus": [
            [
             0,
             "#0d0887"
            ],
            [
             0.1111111111111111,
             "#46039f"
            ],
            [
             0.2222222222222222,
             "#7201a8"
            ],
            [
             0.3333333333333333,
             "#9c179e"
            ],
            [
             0.4444444444444444,
             "#bd3786"
            ],
            [
             0.5555555555555556,
             "#d8576b"
            ],
            [
             0.6666666666666666,
             "#ed7953"
            ],
            [
             0.7777777777777778,
             "#fb9f3a"
            ],
            [
             0.8888888888888888,
             "#fdca26"
            ],
            [
             1,
             "#f0f921"
            ]
           ]
          },
          "colorway": [
           "#636efa",
           "#EF553B",
           "#00cc96",
           "#ab63fa",
           "#FFA15A",
           "#19d3f3",
           "#FF6692",
           "#B6E880",
           "#FF97FF",
           "#FECB52"
          ],
          "font": {
           "color": "#2a3f5f"
          },
          "geo": {
           "bgcolor": "white",
           "lakecolor": "white",
           "landcolor": "#E5ECF6",
           "showlakes": true,
           "showland": true,
           "subunitcolor": "white"
          },
          "hoverlabel": {
           "align": "left"
          },
          "hovermode": "closest",
          "mapbox": {
           "style": "light"
          },
          "paper_bgcolor": "white",
          "plot_bgcolor": "#E5ECF6",
          "polar": {
           "angularaxis": {
            "gridcolor": "white",
            "linecolor": "white",
            "ticks": ""
           },
           "bgcolor": "#E5ECF6",
           "radialaxis": {
            "gridcolor": "white",
            "linecolor": "white",
            "ticks": ""
           }
          },
          "scene": {
           "xaxis": {
            "backgroundcolor": "#E5ECF6",
            "gridcolor": "white",
            "gridwidth": 2,
            "linecolor": "white",
            "showbackground": true,
            "ticks": "",
            "zerolinecolor": "white"
           },
           "yaxis": {
            "backgroundcolor": "#E5ECF6",
            "gridcolor": "white",
            "gridwidth": 2,
            "linecolor": "white",
            "showbackground": true,
            "ticks": "",
            "zerolinecolor": "white"
           },
           "zaxis": {
            "backgroundcolor": "#E5ECF6",
            "gridcolor": "white",
            "gridwidth": 2,
            "linecolor": "white",
            "showbackground": true,
            "ticks": "",
            "zerolinecolor": "white"
           }
          },
          "shapedefaults": {
           "line": {
            "color": "#2a3f5f"
           }
          },
          "ternary": {
           "aaxis": {
            "gridcolor": "white",
            "linecolor": "white",
            "ticks": ""
           },
           "baxis": {
            "gridcolor": "white",
            "linecolor": "white",
            "ticks": ""
           },
           "bgcolor": "#E5ECF6",
           "caxis": {
            "gridcolor": "white",
            "linecolor": "white",
            "ticks": ""
           }
          },
          "title": {
           "x": 0.05
          },
          "xaxis": {
           "automargin": true,
           "gridcolor": "white",
           "linecolor": "white",
           "ticks": "",
           "title": {
            "standoff": 15
           },
           "zerolinecolor": "white",
           "zerolinewidth": 2
          },
          "yaxis": {
           "automargin": true,
           "gridcolor": "white",
           "linecolor": "white",
           "ticks": "",
           "title": {
            "standoff": 15
           },
           "zerolinecolor": "white",
           "zerolinewidth": 2
          }
         }
        },
        "title": {
         "text": "Histogramme des valeurs SKU"
        },
        "xaxis": {
         "anchor": "y",
         "autorange": true,
         "domain": [
          0,
          1
         ],
         "range": [
          -0.5,
          19999.5
         ],
         "title": {
          "text": "sku"
         },
         "type": "linear"
        },
        "yaxis": {
         "anchor": "x",
         "autorange": true,
         "domain": [
          0,
          1
         ],
         "range": [
          0,
          347.36842105263156
         ],
         "title": {
          "text": "count"
         }
        }
       }
      },
      "image/png": "[encoded data removed]",
      "text/html": [
       "<div>                            <div id=\"ae99afe7-58c0-42e6-9869-5c31f415bd85\" class=\"plotly-graph-div\" style=\"height:525px; width:100%;\"></div>            <script type=\"text/javascript\">                require([\"plotly\"], function(Plotly) {                    window.PLOTLYENV=window.PLOTLYENV || {};                                    if (document.getElementById(\"ae99afe7-58c0-42e6-9869-5c31f415bd85\")) {                    Plotly.newPlot(                        \"ae99afe7-58c0-42e6-9869-5c31f415bd85\",                        [{\"alignmentgroup\":\"True\",\"bingroup\":\"x\",\"hovertemplate\":\"sku=%{x}\\u003cbr\\u003ecount=%{y}\\u003cextra\\u003e\\u003c\\u002fextra\\u003e\",\"legendgroup\":\"\",\"marker\":{\"color\":\"#636efa\",\"pattern\":{\"shape\":\"\"}},\"name\":\"\",\"offsetgroup\":\"\",\"orientation\":\"v\",\"showlegend\":false,\"x\":[11862,16057,14692,16295,15328,15471,16515,16246,null,13572,16513,16585,16269,15526,12869,15575,11586,14338,15425,16560,null,15361,13809,11587,15022,14323,16342,16029,15475,13754,null,14680,15875,9636,13849,13662,16564,null,13557,15429,14712,null,15032,15481,15448,16580,15441,null,804,15300,13958,16071,15678,13895,15711,null,12869,12882,16053,13766,16247,12640,15292,15476,15670,16189,16038,14864,16044,15324,15531,15953,15413,15733,13809,null,14366,15895,15892,16472,15185,16010,15793,15849,12315,15741,15934,15148,15781,15659,15106,15490,14507,14149,null,16307,13736,14090,16037,15758,14661,12587,15337,15489,15201,16305,16131,13435,15747,15758,12203,14509,14768,16262,14561,16505,15717,13766,16129,13460,15871,15940,11602,13127,13520,15480,13032,null,15436,15269,null,15910,19821,16263,15138,15146,null,16580,15126,15482,16186,13905,16540,15856,15677,13557,14700,15325,19815,3506,16056,14975,15341,null,15204,15415,16065,15479,16151,15127,15140,15779,null,15473,15530,14805,14106,9937,15281,null,16553,15315,15668,13211,15161,11258,16296,12588,15792,15921,15690,15775,15577,15870,null,802,15163,15707,15690,15561,15539,4679,16320,15923,3509,2534,16238,11586,null,null,14819,15705,15254,15554,14451,13215,14302,12476,16274,16044,14507,14696,14573,15343,791,14474,12586,16238,14768,15346,15834,15342,15324,15141,15038,14265,15238,16586,15895,13073,15664,14527,15707,15269,14845,13172,13996,15038,15864,14700,15440,15759,15706,11277,null,15448,15676,15731,13435,16525,15785,14699,16063,15718,14372,15881,793,14775,12771,15426,13291,16023,14661,15713,null,15675,15282,15927,15351,null,12791,13958,\"13127-1\",13853,15613,15921,11849,15478,15328,16121,16237,15461,15745,15621,13849,15683,15577,12639,15466,15184,null,13078,13904,14828,14000,15793,15612,304,15811,15425,15649,14599,15033,13959,15026,13032,16449,15095,15829,13965,16306,16276,15729,15303,13996,14679,15318,13599,15206,null,19816,16153,16067,15241,14981,16264,14915,15737,16289,15229,15713,7033,15654,15879,12586,15184,14692,16256,15710,null,16498,16289,15204,15349,11933,16462,14596,15296,16042,15887,15264,15307,null,16256,15369,14095,15868,16247,16307,null,15530,14371,12657,15478,null,15808,15787,16038,13604,13604,791,15605,15795,null,15566,16210,null,15732,15661,null,13814,16130,16003,14676,13516,14977,14945,12641,14469,15237,14905,15462,16031,15779,14599,14819,16191,3568,15080,14975,15353,15861,16529,16068,16081,14729,16077,15373,11049,null,16154,14809,15201,15073,15345,15756,13531,15373,16269,15614,7086,null,15784,14332,16320,null,14300,14141,15734,15456,805,16130,15766,13895,15667,16513,16081,16152,16318,15677,15185,15360,14696,16067,13517,7819,12771,15740,15930,16155,4679,15339,14950,13754,2179,15688,16525,13982,38,13853,15178,16209,14982,8463,13412,15298,14149,15770,15487,15205,13230,14220,15227,13172,14106,16094,15859,15811,15481,15179,14774,14944,16022,15767,15338,13913,14756,16152,15746,14332,16192,15763,12365,15868,9562,15767,16039,16328,16564,15196,15475,531,15810,15649,7086,2361,15402,14828,14220,15945,15807,15661,16210,14506,14100,null,15075,13765,12882,16093,10814,12942,null,1366,12857,12045,13515,11601,16148,12339,15095,14845,15351,15870,16567,15240,793,15414,812,16292,11736,null,15714,15120,15461,15141,13117,3383,1366,15631,null,15136,15145,13096,15857,15318,15241,null,14632,11641,15856,804,15807,15736,15136,15615,15574,16096,15564,15774,14930,15714,15670,15429,15941,16045,16246,15539,16230,14429,16010,15769,16265,14657,15741,15261,13765,16239,14141,15715,13453,16244,15147,16280,15564,14508,15465,11277,3510,14374,15880,16071,null,15930,16151,15465,13416,15343,15733,15183,15860,11467,null,11585,11602,14300,14485,16138,19822,14915,15155,11996,null,14626,15126,15026,13117,16330,15035,15404,8365,3507,14773,15360,12639,15967,14000,15812,16319,null,null,14699,16004,15310,16093,16097,12045,14856,19821,15881,15629,1364,15120,15116,14101,13531,14912,15036,16047,14184,14983,14983,16030,16283,16324,14756,null,15801,10014,12881,15660,16540,16005,15489,15306,16277,11641,15527,null,15428,15292,13957,15647,2179,12496,15399,15490,13969,13096,15525,15759,12942,13914,13211,12790,16498,null,13904,15296,16560,15720,13313,13291,null,15196,15928,15432,16077,13814,15655,16539,12589,15648,13127,null,15561,16011,null,15711,15892,15073,16146,15672,15030,15735,15769,null,14800,9937,16190,13217,13854,14856,16317,15871,16565,16131,15237,15891,15729,15730,16497,16124,14596,15566,16056,14626,15476,10459,19814,15863,15786,15791,15353,16135,16553,16147,12640,16066,15818,15791,15790,9636,15205,15648,8193,15282,16255,16189,15047,15966,16153,13078,14736,16120,16013,19815,798,null,1662,16416,7032,14581,16280,15047,15106,14944,15783,16144,5646,8344,15775,13514,15848,14451,15658,15161,null,16209,14680,14897,12194,10775,16304,15361,14980,13572,15035,14192,15715,15952,15717,14508,14099,16094,3506,15834,3568,15315,null,16144,12315,null,15125,13089,15655,16062,14923,15801,null,14839,11933,15576,13515,15657,1360,null,15583,14527,15457,13969,16275,\"bon-cadeau-25-euros\",15346,15797,15574,12366,14864,14095,15764,15080,11587,14632,16072,15426,15070,16323,15753,15575,15755,10814,15718,15582,13379,15704,14372,16515,13965,14265,12194,15482,11601,16192,15457,15861,15345,14101,15667,13072,15862,15533,16275,15441,16028,16186,12588,15148,10459,15473,14775,7032,14725,13647,15436,16261,15944,16146,15256,15576,523,15452,16322,15240,14729,16014,13089,15732,15631,14600,15316,15163,16244,16264,15776,14509,16211,14899,14955,13412,15471,13910,15134,19814,15434,16124,16262,13982,15813,14773,15808,15145,15794,15946,3383,16213,14855,3510,14827,14930,13520,14089,15283,15734,15629,null,15740,14647,null,15525,15036,11467,15781,16504,15849,15674,15794,16537,16062,13230,16416,15657,15658,15179,15945,38,41,13762,15399,null,16283,14570,null,13313,16041,15202,15180,15375,16046,15678,16034,16120,14092,14241,14982,15075,11997,15922,null,14844,15795,15444,14839,16047,15486,7819,15664,8344,14923,15378,14950,15621,11862,1662,807,14679,null,14905,13567,16281,13217,1364,15413,15213,15032,12366,16166,11849,13957,null,11225,16323,13567,15773,16003,16539,16160,19820,13599,7818,15116,10014,13379,14751,14712,15280,15786,15933,16277,14184,13627,16063,14429,13910,15403,14580,null,16024,14090,15432,3507,15860,15261,14561,14371,15227,12641,16068,16096,14797,12476,16304,15737,12494,16229,13659,null,16281,16578,15770,14802,15238,16029,15850,16306,16159,15704,15554,15839,16053,13052,15668,15375,15605,16034,null,15869,null,null,15444,15486,14604,16273,15875,15659,13905,812,16295,15785,null,15178,15404,16005,15329,16042,14573,14366,15283,16318,16031,16578,15307,15773,13854,3509,15125,15306,14253,\"13127-1\",13073,16213,14941,15567,15487,16132,16023,13627,14736,41,14746,16504,14955,15656,16066,16135,15070,null,16527,null,2361,15162,16045,15206,16154,16529,14580,7818,16326,16449,14657,15310,16501,null,15747,807,15818,12881,15654,15688,16119,14647,13914,15662,15526,15764,15344,13052,16330,15378,15864,16147,16046,16505,11996,13662,16011,15281,16586,15792,15776,15303,15676,15967,14800,14469,15787,14089,19816,15134,6616,16065,15958,1360,15466,14865,null,14897,16292,13215,15879,15848,16328,15656,11669,8365,15180,15660,15766,11669,15812,16013,304,15480,15746,15022,15162,15428,14395,14338,15127,14323,16229,15923,15155,14092,16565,13647,15147,14604,16296,14855,12791,null,15149,16239,12585,14570,15338,15958,14751,15933,14506,11668,11847,12599,null,5646,15850,16527,15583,16159,16133,15665,14797,15183,null,19820,13762,16305,15337,16121,14474,15382,16263,null,13736,802,11997,16138,15940,14809,13209,15146,13072,12587,16133,15705,14461,14805,15730,8193,15790,15748,15229,15298,16166,15663,15072,15004,15202,15755,16069,12496,15300,15952,14395,16037,15434,11585,16180,12203,15887,null,15342,15753,15325,16585,15927,15665,14600,15934,13659,15341,15403,15949,11225,13460,14725,10775,12857,14980,8463,15774,11049,16149,15414,16043,7033,15845,15745,null,16255,12599,null,16069,16132,15072,15138,14374,14945,15951,13514,15382,14302,16180,15829,15951,14241,11258,15675,15531,15944,16024,16119,13074,14192,15857,16022,15839,16028,15941,15949,16237,15663,16274,15946,15845,12589,16230,13453,11736,16501,15280,16097,16472,16276,14485,14100,15004,15533,15859,14099,14774,16342,13959,null,15033,15613,\"bon-cadeau-25-euros\",15149,16537,16462,14569,14977,16041,15813,16324,14676,15339,16160,15402,15922,16030,16190,16265,15479,15527,15966,15710,15452,15140,14981,12585,15213,15810,16211,12657,16149,16043,15891,13517,15567,15582,12339,19822,15612,14865,12790,15763,15462,null,523,13516,null,15862,16317,14899,16057,15614,9562,15784,13209,805,531,15440,15683,null,15674,15316,15880,15731,14569,15254,15910,2534,15953,14581,14941,null,16191,15344,15672,11847,798,16155,13913,15869,15928,15735,16148,16273,13416,6616,15647,16039,15720,12494,14746,16129,15756,15783,16567,15797,15863,16014,15706,14844,15256,14802,15615,15736,15349,16319,11668,16072,16497,15030,15456,15264,15369,14253,15415,14912,14461,13074,15748,16322,16261,12365,16326,15662,15329,14827,16004],\"xaxis\":\"x\",\"yaxis\":\"y\",\"type\":\"histogram\"}],                        {\"template\":{\"data\":{\"histogram2dcontour\":[{\"type\":\"histogram2dcontour\",\"colorbar\":{\"outlinewidth\":0,\"ticks\":\"\"},\"colorscale\":[[0.0,\"#0d0887\"],[0.1111111111111111,\"#46039f\"],[0.2222222222222222,\"#7201a8\"],[0.3333333333333333,\"#9c179e\"],[0.4444444444444444,\"#bd3786\"],[0.5555555555555556,\"#d8576b\"],[0.6666666666666666,\"#ed7953\"],[0.7777777777777778,\"#fb9f3a\"],[0.8888888888888888,\"#fdca26\"],[1.0,\"#f0f921\"]]}],\"choropleth\":[{\"type\":\"choropleth\",\"colorbar\":{\"outlinewidth\":0,\"ticks\":\"\"}}],\"histogram2d\":[{\"type\":\"histogram2d\",\"colorbar\":{\"outlinewidth\":0,\"ticks\":\"\"},\"colorscale\":[[0.0,\"#0d0887\"],[0.1111111111111111,\"#46039f\"],[0.2222222222222222,\"#7201a8\"],[0.3333333333333333,\"#9c179e\"],[0.4444444444444444,\"#bd3786\"],[0.5555555555555556,\"#d8576b\"],[0.6666666666666666,\"#ed7953\"],[0.7777777777777778,\"#fb9f3a\"],[0.8888888888888888,\"#fdca26\"],[1.0,\"#f0f921\"]]}],\"heatmap\":[{\"type\":\"heatmap\",\"colorbar\":{\"outlinewidth\":0,\"ticks\":\"\"},\"colorscale\":[[0.0,\"#0d0887\"],[0.1111111111111111,\"#46039f\"],[0.2222222222222222,\"#7201a8\"],[0.3333333333333333,\"#9c179e\"],[0.4444444444444444,\"#bd3786\"],[0.5555555555555556,\"#d8576b\"],[0.6666666666666666,\"#ed7953\"],[0.7777777777777778,\"#fb9f3a\"],[0.8888888888888888,\"#fdca26\"],[1.0,\"#f0f921\"]]}],\"heatmapgl\":[{\"type\":\"heatmapgl\",\"colorbar\":{\"outlinewidth\":0,\"ticks\":\"\"},\"colorscale\":[[0.0,\"#0d0887\"],[0.1111111111111111,\"#46039f\"],[0.2222222222222222,\"#7201a8\"],[0.3333333333333333,\"#9c179e\"],[0.4444444444444444,\"#bd3786\"],[0.5555555555555556,\"#d8576b\"],[0.6666666666666666,\"#ed7953\"],[0.7777777777777778,\"#fb9f3a\"],[0.8888888888888888,\"#fdca26\"],[1.0,\"#f0f921\"]]}],\"contourcarpet\":[{\"type\":\"contourcarpet\",\"colorbar\":{\"outlinewidth\":0,\"ticks\":\"\"}}],\"contour\":[{\"type\":\"contour\",\"colorbar\":{\"outlinewidth\":0,\"ticks\":\"\"},\"colorscale\":[[0.0,\"#0d0887\"],[0.1111111111111111,\"#46039f\"],[0.2222222222222222,\"#7201a8\"],[0.3333333333333333,\"#9c179e\"],[0.4444444444444444,\"#bd3786\"],[0.5555555555555556,\"#d8576b\"],[0.6666666666666666,\"#ed7953\"],[0.7777777777777778,\"#fb9f3a\"],[0.8888888888888888,\"#fdca26\"],[1.0,\"#f0f921\"]]}],\"surface\":[{\"type\":\"surface\",\"colorbar\":{\"outlinewidth\":0,\"ticks\":\"\"},\"colorscale\":[[0.0,\"#0d0887\"],[0.1111111111111111,\"#46039f\"],[0.2222222222222222,\"#7201a8\"],[0.3333333333333333,\"#9c179e\"],[0.4444444444444444,\"#bd3786\"],[0.5555555555555556,\"#d8576b\"],[0.6666666666666666,\"#ed7953\"],[0.7777777777777778,\"#fb9f3a\"],[0.8888888888888888,\"#fdca26\"],[1.0,\"#f0f921\"]]}],\"mesh3d\":[{\"type\":\"mesh3d\",\"colorbar\":{\"outlinewidth\":0,\"ticks\":\"\"}}],\"scatter\":[{\"fillpattern\":{\"fillmode\":\"overlay\",\"size\":10,\"solidity\":0.2},\"type\":\"scatter\"}],\"parcoords\":[{\"type\":\"parcoords\",\"line\":{\"colorbar\":{\"outlinewidth\":0,\"ticks\":\"\"}}}],\"scatterpolargl\":[{\"type\":\"scatterpolargl\",\"marker\":{\"colorbar\":{\"outlinewidth\":0,\"ticks\":\"\"}}}],\"bar\":[{\"error_x\":{\"color\":\"#2a3f5f\"},\"error_y\":{\"color\":\"#2a3f5f\"},\"marker\":{\"line\":{\"color\":\"#E5ECF6\",\"width\":0.5},\"pattern\":{\"fillmode\":\"overlay\",\"size\":10,\"solidity\":0.2}},\"type\":\"bar\"}],\"scattergeo\":[{\"type\":\"scattergeo\",\"marker\":{\"colorbar\":{\"outlinewidth\":0,\"ticks\":\"\"}}}],\"scatterpolar\":[{\"type\":\"scatterpolar\",\"marker\":{\"colorbar\":{\"outlinewidth\":0,\"ticks\":\"\"}}}],\"histogram\":[{\"marker\":{\"pattern\":{\"fillmode\":\"overlay\",\"size\":10,\"solidity\":0.2}},\"type\":\"histogram\"}],\"scattergl\":[{\"type\":\"scattergl\",\"marker\":{\"colorbar\":{\"outlinewidth\":0,\"ticks\":\"\"}}}],\"scatter3d\":[{\"type\":\"scatter3d\",\"line\":{\"colorbar\":{\"outlinewidth\":0,\"ticks\":\"\"}},\"marker\":{\"colorbar\":{\"outlinewidth\":0,\"ticks\":\"\"}}}],\"scattermapbox\":[{\"type\":\"scattermapbox\",\"marker\":{\"colorbar\":{\"outlinewidth\":0,\"ticks\":\"\"}}}],\"scatterternary\":[{\"type\":\"scatterternary\",\"marker\":{\"colorbar\":{\"outlinewidth\":0,\"ticks\":\"\"}}}],\"scattercarpet\":[{\"type\":\"scattercarpet\",\"marker\":{\"colorbar\":{\"outlinewidth\":0,\"ticks\":\"\"}}}],\"carpet\":[{\"aaxis\":{\"endlinecolor\":\"#2a3f5f\",\"gridcolor\":\"white\",\"linecolor\":\"white\",\"minorgridcolor\":\"white\",\"startlinecolor\":\"#2a3f5f\"},\"baxis\":{\"endlinecolor\":\"#2a3f5f\",\"gridcolor\":\"white\",\"linecolor\":\"white\",\"minorgridcolor\":\"white\",\"startlinecolor\":\"#2a3f5f\"},\"type\":\"carpet\"}],\"table\":[{\"cells\":{\"fill\":{\"color\":\"#EBF0F8\"},\"line\":{\"color\":\"white\"}},\"header\":{\"fill\":{\"color\":\"#C8D4E3\"},\"line\":{\"color\":\"white\"}},\"type\":\"table\"}],\"barpolar\":[{\"marker\":{\"line\":{\"color\":\"#E5ECF6\",\"width\":0.5},\"pattern\":{\"fillmode\":\"overlay\",\"size\":10,\"solidity\":0.2}},\"type\":\"barpolar\"}],\"pie\":[{\"automargin\":true,\"type\":\"pie\"}]},\"layout\":{\"autotypenumbers\":\"strict\",\"colorway\":[\"#636efa\",\"#EF553B\",\"#00cc96\",\"#ab63fa\",\"#FFA15A\",\"#19d3f3\",\"#FF6692\",\"#B6E880\",\"#FF97FF\",\"#FECB52\"],\"font\":{\"color\":\"#2a3f5f\"},\"hovermode\":\"closest\",\"hoverlabel\":{\"align\":\"left\"},\"paper_bgcolor\":\"white\",\"plot_bgcolor\":\"#E5ECF6\",\"polar\":{\"bgcolor\":\"#E5ECF6\",\"angularaxis\":{\"gridcolor\":\"white\",\"linecolor\":\"white\",\"ticks\":\"\"},\"radialaxis\":{\"gridcolor\":\"white\",\"linecolor\":\"white\",\"ticks\":\"\"}},\"ternary\":{\"bgcolor\":\"#E5ECF6\",\"aaxis\":{\"gridcolor\":\"white\",\"linecolor\":\"white\",\"ticks\":\"\"},\"baxis\":{\"gridcolor\":\"white\",\"linecolor\":\"white\",\"ticks\":\"\"},\"caxis\":{\"gridcolor\":\"white\",\"linecolor\":\"white\",\"ticks\":\"\"}},\"coloraxis\":{\"colorbar\":{\"outlinewidth\":0,\"ticks\":\"\"}},\"colorscale\":{\"sequential\":[[0.0,\"#0d0887\"],[0.1111111111111111,\"#46039f\"],[0.2222222222222222,\"#7201a8\"],[0.3333333333333333,\"#9c179e\"],[0.4444444444444444,\"#bd3786\"],[0.5555555555555556,\"#d8576b\"],[0.6666666666666666,\"#ed7953\"],[0.7777777777777778,\"#fb9f3a\"],[0.8888888888888888,\"#fdca26\"],[1.0,\"#f0f921\"]],\"sequentialminus\":[[0.0,\"#0d0887\"],[0.1111111111111111,\"#46039f\"],[0.2222222222222222,\"#7201a8\"],[0.3333333333333333,\"#9c179e\"],[0.4444444444444444,\"#bd3786\"],[0.5555555555555556,\"#d8576b\"],[0.6666666666666666,\"#ed7953\"],[0.7777777777777778,\"#fb9f3a\"],[0.8888888888888888,\"#fdca26\"],[1.0,\"#f0f921\"]],\"diverging\":[[0,\"#8e0152\"],[0.1,\"#c51b7d\"],[0.2,\"#de77ae\"],[0.3,\"#f1b6da\"],[0.4,\"#fde0ef\"],[0.5,\"#f7f7f7\"],[0.6,\"#e6f5d0\"],[0.7,\"#b8e186\"],[0.8,\"#7fbc41\"],[0.9,\"#4d9221\"],[1,\"#276419\"]]},\"xaxis\":{\"gridcolor\":\"white\",\"linecolor\":\"white\",\"ticks\":\"\",\"title\":{\"standoff\":15},\"zerolinecolor\":\"white\",\"automargin\":true,\"zerolinewidth\":2},\"yaxis\":{\"gridcolor\":\"white\",\"linecolor\":\"white\",\"ticks\":\"\",\"title\":{\"standoff\":15},\"zerolinecolor\":\"white\",\"automargin\":true,\"zerolinewidth\":2},\"scene\":{\"xaxis\":{\"backgroundcolor\":\"#E5ECF6\",\"gridcolor\":\"white\",\"linecolor\":\"white\",\"showbackground\":true,\"ticks\":\"\",\"zerolinecolor\":\"white\",\"gridwidth\":2},\"yaxis\":{\"backgroundcolor\":\"#E5ECF6\",\"gridcolor\":\"white\",\"linecolor\":\"white\",\"showbackground\":true,\"ticks\":\"\",\"zerolinecolor\":\"white\",\"gridwidth\":2},\"zaxis\":{\"backgroundcolor\":\"#E5ECF6\",\"gridcolor\":\"white\",\"linecolor\":\"white\",\"showbackground\":true,\"ticks\":\"\",\"zerolinecolor\":\"white\",\"gridwidth\":2}},\"shapedefaults\":{\"line\":{\"color\":\"#2a3f5f\"}},\"annotationdefaults\":{\"arrowcolor\":\"#2a3f5f\",\"arrowhead\":0,\"arrowwidth\":1},\"geo\":{\"bgcolor\":\"white\",\"landcolor\":\"#E5ECF6\",\"subunitcolor\":\"white\",\"showland\":true,\"showlakes\":true,\"lakecolor\":\"white\"},\"title\":{\"x\":0.05},\"mapbox\":{\"style\":\"light\"}}},\"xaxis\":{\"anchor\":\"y\",\"domain\":[0.0,1.0],\"title\":{\"text\":\"sku\"}},\"yaxis\":{\"anchor\":\"x\",\"domain\":[0.0,1.0],\"title\":{\"text\":\"count\"}},\"legend\":{\"tracegroupgap\":0},\"title\":{\"text\":\"Histogramme des valeurs SKU\"},\"barmode\":\"relative\"},                        {\"responsive\": true}                    ).then(function(){\n",
       "                            \n",
       "var gd = document.getElementById('ae99afe7-58c0-42e6-9869-5c31f415bd85');\n",
       "var x = new MutationObserver(function (mutations, observer) {{\n",
       "        var display = window.getComputedStyle(gd).display;\n",
       "        if (!display || display === 'none') {{\n",
       "            console.log([gd, 'removed!']);\n",
       "            Plotly.purge(gd);\n",
       "            observer.disconnect();\n",
       "        }}\n",
       "}});\n",
       "\n",
       "// Listen for the removal of the full notebook cells\n",
       "var notebookContainer = gd.closest('#notebook-container');\n",
       "if (notebookContainer) {{\n",
       "    x.observe(notebookContainer, {childList: true});\n",
       "}}\n",
       "\n",
       "// Listen for the clearing of the current output cell\n",
       "var outputEl = gd.closest('.output');\n",
       "if (outputEl) {{\n",
       "    x.observe(outputEl, {childList: true});\n",
       "}}\n",
       "\n",
       "                        })                };                });            </script>        </div>"
      ]
     },
     "metadata": {},
     "output_type": "display_data"
    }
   ],
   "source": [
    "#Visualisation des valeurs de la colonne sku\n",
    "fig = px.histogram(df_web, x='sku', title='Histogramme des valeurs SKU')\n",
    "fig.show()\n",
    "\n",
    "#Quelles sont les valeurs qui ne semblent pas respecter la régle de codification?\n",
    "# Fonction pour vérifier si un élément est un nombre\n",
    "def is_number(x):\n",
    "    try:\n",
    "        int(x)  # Conversion en entier (ou float si nécessaire)\n",
    "        return True\n",
    "    except (ValueError, TypeError):  # Capture des erreurs de conversion et des types non valides\n",
    "        return False\n",
    "\n",
    "# Appliquer la fonction sur la colonne 'sku'\n",
    "df_web[\"is_number\"] = df_web[\"sku\"].apply(is_number)\n"
   ]
  },
  {
   "cell_type": "code",
   "execution_count": 104,
   "id": "1226dcfd",
   "metadata": {},
   "outputs": [
    {
     "name": "stdout",
     "output_type": "stream",
     "text": [
      "                      sku  total_sales product_type  \\\n",
      "272               13127-1          4.0          Vin   \n",
      "842   bon-cadeau-25-euros          7.0        Autre   \n",
      "1117              13127-1          4.0          Vin   \n",
      "1387  bon-cadeau-25-euros          7.0          NaN   \n",
      "\n",
      "                                        post_title  \\\n",
      "272   Clos du Mont-Olivet Châteauneuf-du-Pape 2007   \n",
      "842                              Bon cadeau de 25€   \n",
      "1117  Clos du Mont-Olivet Châteauneuf-du-Pape 2007   \n",
      "1387                             Bon cadeau de 25€   \n",
      "\n",
      "                                           post_name  is_number  \n",
      "272   clos-du-mont-olivet-chateauneuf-du-pape-2007-2      False  \n",
      "842                           bon-cadeau-de-25-euros      False  \n",
      "1117  clos-du-mont-olivet-chateauneuf-du-pape-2007-2      False  \n",
      "1387                          bon-cadeau-de-25-euros      False  \n"
     ]
    }
   ],
   "source": [
    "#Si vous avez identifié des codes articles ne respectant pas la régle de codification, consultez-les?\n",
    "df_invalid_sku = df_web[~df_web[\"is_number\"] & df_web[\"sku\"].notna()]\n",
    "\n",
    "# Afficher les résultats\n",
    "print(df_invalid_sku)\n"
   ]
  },
  {
   "cell_type": "code",
   "execution_count": 105,
   "id": "8ac0573b-4bdc-46ec-aa7c-1a2cfd559b43",
   "metadata": {},
   "outputs": [],
   "source": [
    "# Correction manuelle des valeurs non conformes\n",
    "df_web.loc[df_web[\"sku\"] == '13127-1', \"sku\"] = '10020'\n",
    "# Correction manuelle des valeurs non conformes\n",
    "df_web.loc[df_web[\"sku\"] == 'bon-cadeau-25-euros', \"sku\"] = '10021'\n"
   ]
  },
  {
   "cell_type": "code",
   "execution_count": 106,
   "id": "983812ad-9578-4934-b344-0ec55cce27d0",
   "metadata": {},
   "outputs": [
    {
     "name": "stdout",
     "output_type": "stream",
     "text": [
      "                      sku  total_sales product_type  \\\n",
      "272               13127-1          4.0          Vin   \n",
      "842   bon-cadeau-25-euros          7.0        Autre   \n",
      "1117              13127-1          4.0          Vin   \n",
      "1387  bon-cadeau-25-euros          7.0          NaN   \n",
      "\n",
      "                                        post_title  \\\n",
      "272   Clos du Mont-Olivet Châteauneuf-du-Pape 2007   \n",
      "842                              Bon cadeau de 25€   \n",
      "1117  Clos du Mont-Olivet Châteauneuf-du-Pape 2007   \n",
      "1387                             Bon cadeau de 25€   \n",
      "\n",
      "                                           post_name  is_number  \n",
      "272   clos-du-mont-olivet-chateauneuf-du-pape-2007-2      False  \n",
      "842                           bon-cadeau-de-25-euros      False  \n",
      "1117  clos-du-mont-olivet-chateauneuf-du-pape-2007-2      False  \n",
      "1387                          bon-cadeau-de-25-euros      False  \n"
     ]
    }
   ],
   "source": [
    "print(df_invalid_sku)"
   ]
  },
  {
   "cell_type": "code",
   "execution_count": 107,
   "id": "eb8d31bf",
   "metadata": {},
   "outputs": [],
   "source": [
    "#Identifier les lignes sans code articles\n",
    "missing_sku_rows = df_web[df_web['sku'].isnull() | df_web['sku'].eq('')]"
   ]
  },
  {
   "cell_type": "code",
   "execution_count": 108,
   "id": "967495da",
   "metadata": {},
   "outputs": [
    {
     "name": "stdout",
     "output_type": "stream",
     "text": [
      "Nombre de lignes sans SKU : 85\n"
     ]
    }
   ],
   "source": [
    "#Pour les codes articles identifiés, réalisé une analyse et définissez l'action à entreprendre\n",
    "total_rows = len(df_web)\n",
    "missing_sku_count = len(missing_sku_rows)\n",
    "print(f\"Nombre de lignes sans SKU : {missing_sku_count}\")\n"
   ]
  },
  {
   "cell_type": "code",
   "execution_count": 109,
   "id": "23fbb063-7548-4af9-b817-d2b424a5604f",
   "metadata": {},
   "outputs": [
    {
     "name": "stdout",
     "output_type": "stream",
     "text": [
      "Nombre de lignes après suppression des SKU manquants : 1428\n"
     ]
    }
   ],
   "source": [
    "#Supprimer les lignes sans SKU\n",
    "df_web = df_web.dropna(subset=['sku']).reset_index(drop=True)\n",
    "\n",
    "#Vérification\n",
    "print(f\"Nombre de lignes après suppression des SKU manquants : {len(df_web)}\")\n"
   ]
  },
  {
   "cell_type": "code",
   "execution_count": 110,
   "id": "27bf30de",
   "metadata": {},
   "outputs": [],
   "source": [
    "#La clé pour chaque ligne est-elle uniques? ou autrement dit, y a-t-il des doublons?\n",
    "duplicate_skus = df_web[df_web.duplicated(subset=['sku'], keep=False)]"
   ]
  },
  {
   "cell_type": "code",
   "execution_count": 111,
   "id": "02a7fe29-9944-4011-9943-469a6b6ddab5",
   "metadata": {},
   "outputs": [
    {
     "name": "stdout",
     "output_type": "stream",
     "text": [
      "        sku  total_sales product_type  \\\n",
      "0     11862          3.0          Vin   \n",
      "1     16057          5.0          Vin   \n",
      "2     14692          5.0          Vin   \n",
      "3     16295         14.0          Vin   \n",
      "4     15328          2.0          Vin   \n",
      "...     ...          ...          ...   \n",
      "1423  16326          5.0          Vin   \n",
      "1424  15662         15.0          Vin   \n",
      "1425  15329          3.0          Vin   \n",
      "1426  14827          7.0          Vin   \n",
      "1427  16004          5.0          Vin   \n",
      "\n",
      "                                             post_title  \\\n",
      "0                     Gilles Robin Hermitage Rouge 2012   \n",
      "1     Domaine Pellé Sancerre Rouge La Croix Au Garde...   \n",
      "2         Château Fonréaud Bordeaux Blanc Le Cygne 2016   \n",
      "3     Moulin de Gassac IGP Pays d'Hérault Guilhem Ro...   \n",
      "4                  Agnès Levet Côte Rôtie Maestria 2017   \n",
      "...                                                 ...   \n",
      "1423    Camin Larredya Jurançon Moelleux Au Capcéu 2018   \n",
      "1424  Chermette Domaine du Vissoux Beaujolais Griott...   \n",
      "1425               Agnès Levet Côte Rôtie Péroline 2017   \n",
      "1426  Marc Colin Et Fils Chassagne-Montrachet Blanc ...   \n",
      "1427                    Château du Couvent Pomerol 2017   \n",
      "\n",
      "                                              post_name  is_number  \n",
      "0                           gilles-robin-hermitage-2012       True  \n",
      "1           pelle-sancerre-rouge-la-croix-au-garde-2017       True  \n",
      "2                 fonreaud-bordeaux-blanc-le-cygne-2016       True  \n",
      "3     moulin-de-gassac-igp-pays-dherault-guilhem-ros...       True  \n",
      "4                  agnes-levet-cote-rotie-maestria-2017       True  \n",
      "...                                                 ...        ...  \n",
      "1423       camin-larredya-jurancon-moelleux-capceu-2018       True  \n",
      "1424  chermette-domaine-du-vissoux-beaujolais-griott...       True  \n",
      "1425               agnes-levet-cote-rotie-peroline-2017       True  \n",
      "1426  marc-colin-et-fils-chassagne-montrachet-blanc-...       True  \n",
      "1427                    chateau-du-couvent-pomerol-2017       True  \n",
      "\n",
      "[1428 rows x 6 columns]\n"
     ]
    }
   ],
   "source": [
    "#Supprimer les doublons dans la colonne 'sku' et garder la première occurrence\n",
    "df_web = df_web.drop_duplicates(subset=['sku'], keep='first')\n",
    "\n",
    "# Afficher les doublons \n",
    "print(duplicate_skus)"
   ]
  },
  {
   "cell_type": "code",
   "execution_count": 112,
   "id": "8b81d617",
   "metadata": {},
   "outputs": [
    {
     "name": "stdout",
     "output_type": "stream",
     "text": [
      "Empty DataFrame\n",
      "Columns: [sku, total_sales, product_type, post_title, post_name, is_number]\n",
      "Index: []\n",
      "<class 'pandas.core.frame.DataFrame'>\n",
      "Index: 0 entries\n",
      "Data columns (total 6 columns):\n",
      " #   Column        Non-Null Count  Dtype  \n",
      "---  ------        --------------  -----  \n",
      " 0   sku           0 non-null      object \n",
      " 1   total_sales   0 non-null      float64\n",
      " 2   product_type  0 non-null      object \n",
      " 3   post_title    0 non-null      object \n",
      " 4   post_name     0 non-null      object \n",
      " 5   is_number     0 non-null      bool   \n",
      "dtypes: bool(1), float64(1), object(4)\n",
      "memory usage: 0.0+ bytes\n"
     ]
    }
   ],
   "source": [
    "#Les lignes sans code article semble être toutes non renseignés\n",
    "#Pour s'en assurer réaliser les étapes suivantes:\n",
    "#1 - Créer un dataframe avec uniquement les lignes sans code article\n",
    "\n",
    "df_missing_sku = df_web[df_web['sku'].isnull() | df_web['sku'].eq('')]\n",
    "# Afficher le nouveau DataFrame contenant les lignes sans SKU\n",
    "print(df_missing_sku)\n",
    "\n",
    "#2 - utiliser la fonction df.info() sur ce nouveau dataframe pour observer le nombre de valeur reseigner dans chacune des colonnes\n",
    "df_missing_sku.info()\n",
    "\n",
    "#3 - Que constatez-vous?\n",
    "# On constate que aucune valeur reseigner dans chacune des colonnes de la dataframe df_missing_sku.\n"
   ]
  },
  {
   "cell_type": "code",
   "execution_count": 113,
   "id": "b2077d43-0350-4d58-80df-48a69280cc4f",
   "metadata": {},
   "outputs": [
    {
     "name": "stdout",
     "output_type": "stream",
     "text": [
      "<class 'pandas.core.frame.DataFrame'>\n",
      "Index: 714 entries, 0 to 1310\n",
      "Data columns (total 6 columns):\n",
      " #   Column        Non-Null Count  Dtype \n",
      "---  ------        --------------  ----- \n",
      " 0   sku           714 non-null    int32 \n",
      " 1   total_sales   714 non-null    int32 \n",
      " 2   product_type  714 non-null    object\n",
      " 3   post_title    714 non-null    object\n",
      " 4   post_name     714 non-null    object\n",
      " 5   is_number     714 non-null    bool  \n",
      "dtypes: bool(1), int32(2), object(3)\n",
      "memory usage: 28.6+ KB\n"
     ]
    }
   ],
   "source": [
    "#Correction des types de données pour la variables 'sku' et 'total_sales'.\n",
    "df_web['sku'] = df_web['sku'].astype(int)\n",
    "df_web['total_sales'] = pd.to_numeric(df_web['total_sales'], errors='coerce').fillna(0).astype(int)\n",
    "df_web['total_sales'] = df_web['total_sales'].astype(int)\n",
    "df_web.info()"
   ]
  },
  {
   "cell_type": "markdown",
   "id": "dbff6403",
   "metadata": {},
   "source": [
    "<div style=\"border: 1px solid RGB(51,165,182);\" >\n",
    "<h3 style=\"margin: auto; padding: 20px; color: RGB(51,165,182); \">2.3 - Analyse exploratoire du fichier liaison.xlsx</h3>\n",
    "</div>"
   ]
  },
  {
   "cell_type": "code",
   "execution_count": 114,
   "id": "de426b74",
   "metadata": {},
   "outputs": [
    {
     "name": "stdout",
     "output_type": "stream",
     "text": [
      "La dimension du dataset est : (825, 2)\n",
      "Le nombre d'observations dans la DataFrame df_liaison est : 825\n",
      "Nombre de caractéristiques : 2\n"
     ]
    }
   ],
   "source": [
    "#Dimension du dataset\n",
    "dimension_df_liaison = df_liaison.shape\n",
    "print(f\"La dimension du dataset est : {dimension_df_liaison}\")\n",
    "\n",
    "\n",
    "#Nombre d'observations\n",
    "nombre_observations = df_liaison.shape[0]\n",
    "print(f\"Le nombre d'observations dans la DataFrame df_liaison est : {nombre_observations}\")\n",
    "\n",
    "#Nombre de caractéristiques\n",
    "nombre_de_colonnes = df_liaison.shape[1]\n",
    "print(f\"Nombre de caractéristiques : {nombre_de_colonnes}\")\n",
    "\n"
   ]
  },
  {
   "cell_type": "code",
   "execution_count": 115,
   "id": "9834ae33",
   "metadata": {},
   "outputs": [
    {
     "name": "stdout",
     "output_type": "stream",
     "text": [
      "2\n",
      "id_web        object\n",
      "product_id     int64\n",
      "dtype: object\n",
      "id_web        734\n",
      "product_id    825\n",
      "dtype: int64\n"
     ]
    }
   ],
   "source": [
    "#Consulter le nombre de colonnes\n",
    "nombre_de_colonnes = df_liaison.shape[1]\n",
    "print(nombre_de_colonnes)\n",
    "\n",
    "#La nature des données dans chacune des colonnes\n",
    "types_de_donnees = df_liaison.dtypes\n",
    "print(types_de_donnees)\n",
    "\n",
    "#Le nombre de valeurs présentes dans chacune des colonnes\n",
    "valeurs_presentes = df_liaison.count()\n",
    "print(valeurs_presentes)\n"
   ]
  },
  {
   "cell_type": "markdown",
   "id": "44f00259-4ffb-4e13-86f0-001878416f67",
   "metadata": {},
   "source": [
    "Correction des erreurs de typologie dans la colonne id_web."
   ]
  },
  {
   "cell_type": "code",
   "execution_count": 116,
   "id": "40b98e00-8dfe-4ba5-8f7e-be10c80d9c30",
   "metadata": {},
   "outputs": [
    {
     "name": "stdout",
     "output_type": "stream",
     "text": [
      "int32\n"
     ]
    }
   ],
   "source": [
    "#Remplacer les valeurs non numériques par NaN dans la colonne id_web\n",
    "df_liaison['id_web'] = df_liaison['id_web'].fillna(0)\n",
    "\n",
    "# Remplacer les valeurs non numériques par 0\n",
    "df_liaison['id_web'] = df_liaison['id_web'].apply(lambda x: x if str(x).isdigit() else 0)\n",
    "\n",
    "# convertir 'id_web' en int \n",
    "df_liaison['id_web'] = pd.to_numeric(df_liaison['id_web'], errors='coerce').astype(int)\n",
    "print (df_liaison['id_web'].dtype)\n"
   ]
  },
  {
   "cell_type": "code",
   "execution_count": 117,
   "id": "2b30d6b2",
   "metadata": {},
   "outputs": [
    {
     "name": "stdout",
     "output_type": "stream",
     "text": [
      "Toutes les valeurs de 'product_id' sont uniques : True\n"
     ]
    }
   ],
   "source": [
    "#Les valeurs de la colonne \"product_id\" sont elles toutes uniques?\n",
    "toutes_uniques = df_liaison['product_id'].is_unique\n",
    "print(f\"Toutes les valeurs de 'product_id' sont uniques : {toutes_uniques}\")\n"
   ]
  },
  {
   "cell_type": "code",
   "execution_count": 118,
   "id": "4d8ca13c",
   "metadata": {},
   "outputs": [
    {
     "name": "stdout",
     "output_type": "stream",
     "text": [
      "Toutes les valeurs de 'id_web' sont uniques : False\n"
     ]
    }
   ],
   "source": [
    "#Les valeurs de la colonne \"id_web\" sont-elles toutes uniques?\n",
    "toutes_uniques = df_liaison['id_web'].is_unique\n",
    "print(f\"Toutes les valeurs de 'id_web' sont uniques : {toutes_uniques}\")\n"
   ]
  },
  {
   "cell_type": "markdown",
   "id": "b0a560ae-d3a6-4198-977a-9b7c0d5564d5",
   "metadata": {},
   "source": [
    "Traitement des valeurs manquantes et des doublons dans la colonne id_web"
   ]
  },
  {
   "cell_type": "code",
   "execution_count": 119,
   "id": "0f90f06c-d9a5-4f3d-9862-71335ab868fd",
   "metadata": {},
   "outputs": [
    {
     "name": "stdout",
     "output_type": "stream",
     "text": [
      "Nombre de valeurs manquantes dans la colonne id_web : 0\n",
      "Nombre de valeurs manquantes dans la colonne product_id : 0\n"
     ]
    }
   ],
   "source": [
    "nombre_valeurs_manquantes = df_liaison['id_web'].isna().sum()\n",
    "print(f\"Nombre de valeurs manquantes dans la colonne id_web : {nombre_valeurs_manquantes}\")\n",
    "\n",
    "nombre_valeurs_manquantes = df_liaison['product_id'].isna().sum()\n",
    "print(f\"Nombre de valeurs manquantes dans la colonne product_id : {nombre_valeurs_manquantes}\")\n"
   ]
  },
  {
   "cell_type": "code",
   "execution_count": 120,
   "id": "2c6a526e-f708-4cd2-a78c-14ab06d3bac6",
   "metadata": {},
   "outputs": [],
   "source": [
    "# Supprimer les doublons \n",
    "df_liaison = df_liaison.drop_duplicates(subset='id_web', keep='first')"
   ]
  },
  {
   "cell_type": "code",
   "execution_count": 121,
   "id": "eec28435-2e30-490f-869a-4f05e30a2249",
   "metadata": {},
   "outputs": [
    {
     "name": "stdout",
     "output_type": "stream",
     "text": [
      "Toutes les valeurs de 'id_web' sont uniques : True\n"
     ]
    }
   ],
   "source": [
    "toutes_uniques = df_liaison['id_web'].is_unique\n",
    "print(f\"Toutes les valeurs de 'id_web' sont uniques : {toutes_uniques}\")"
   ]
  },
  {
   "cell_type": "code",
   "execution_count": 122,
   "id": "181ad3e2-9a46-4e96-937e-cde884ab676e",
   "metadata": {},
   "outputs": [
    {
     "name": "stdout",
     "output_type": "stream",
     "text": [
      "id_web        int32\n",
      "product_id    int64\n",
      "dtype: object\n",
      "id_web        732\n",
      "product_id    732\n",
      "dtype: int64\n"
     ]
    }
   ],
   "source": [
    "#La nature des données dans chacune des colonnes\n",
    "types_de_donnees = df_liaison.dtypes\n",
    "print(types_de_donnees)\n",
    "#Le nombre de valeurs présentes dans chacune des colonnes\n",
    "valeurs_presentes = df_liaison.count()\n",
    "print(valeurs_presentes)\n"
   ]
  },
  {
   "cell_type": "code",
   "execution_count": 123,
   "id": "52f7c843",
   "metadata": {},
   "outputs": [
    {
     "name": "stdout",
     "output_type": "stream",
     "text": [
      "Nombre d'articles sans correspondance : 730\n"
     ]
    }
   ],
   "source": [
    "#Avons-nous des articles sans correspondances?\n",
    "\n",
    "# Vérification des articles sans correspondance entre 'product_id' et 'id_web'\n",
    "articles_sans_correspondance = df_liaison[~df_liaison['product_id'].isin(df_liaison['id_web'])]\n",
    "\n",
    "# Compter le nombre d'articles sans correspondance\n",
    "nombre_articles_sans_correspondance = articles_sans_correspondance.shape[0]\n",
    "print(f\"Nombre d'articles sans correspondance : {nombre_articles_sans_correspondance}\")\n"
   ]
  },
  {
   "cell_type": "markdown",
   "id": "1a359137",
   "metadata": {},
   "source": [
    "<div style=\"background-color: RGB(51,165,182);\" >\n",
    "<h2 style=\"margin: auto; padding: 20px; color:#fff; \">Etape 3 - Jonction des fichiers</h2>\n",
    "</div>"
   ]
  },
  {
   "cell_type": "markdown",
   "id": "b7750c10",
   "metadata": {},
   "source": [
    "<div style=\"border: 1px solid RGB(51,165,182);\" >\n",
    "<h3 style=\"margin: auto; padding: 20px; color: RGB(51,165,182); \">Etape 3.1 - Jonction du fichier df_erp et df_liaison</h3>\n",
    "</div>"
   ]
  },
  {
   "cell_type": "code",
   "execution_count": 124,
   "id": "e756ec7d",
   "metadata": {},
   "outputs": [],
   "source": [
    "#Fusion des fichiers df_erp et df_liaison\n",
    "df_merge = pd.merge(df_erp, df_liaison, on='product_id', how='outer')"
   ]
  },
  {
   "cell_type": "code",
   "execution_count": 125,
   "id": "b7e1da5e",
   "metadata": {},
   "outputs": [
    {
     "name": "stdout",
     "output_type": "stream",
     "text": [
      "Nombre de lignes dans df_erp sans correspondance dans df_liaison : 90\n",
      "Nombre de lignes dans df_liaison sans correspondance dans df_erp : 0\n"
     ]
    }
   ],
   "source": [
    "#Y a t-il des lignes ne \"matchant\" entre les 2 fichiers?\n",
    "\n",
    "sans_correspondance_erp = df_erp[~df_erp['product_id'].isin(df_liaison['product_id'])]\n",
    "# Nombre de lignes sans correspondance\n",
    "nombre_sans_correspondance_erp = sans_correspondance_erp.shape[0]\n",
    "print(f\"Nombre de lignes dans df_erp sans correspondance dans df_liaison : {nombre_sans_correspondance_erp}\")\n",
    "\n",
    "sans_correspondance_liaison = df_liaison[~df_liaison['product_id'].isin(df_erp['product_id'])]\n",
    "# Nombre de lignes sans correspondance\n",
    "nombre_sans_correspondance_liaison = sans_correspondance_liaison.shape[0]\n",
    "print(f\"Nombre de lignes dans df_liaison sans correspondance dans df_erp : {nombre_sans_correspondance_liaison}\")\n"
   ]
  },
  {
   "cell_type": "markdown",
   "id": "fe4c51d7",
   "metadata": {},
   "source": [
    "<div style=\"border: 1px solid RGB(51,165,182);\" >\n",
    "<h3 style=\"margin: auto; padding: 20px; color: RGB(51,165,182); \">Etape 3.2 - Jonction du fichier df_merge et df_web</h3>\n",
    "</div>"
   ]
  },
  {
   "cell_type": "code",
   "execution_count": 126,
   "id": "46d9382b",
   "metadata": {},
   "outputs": [],
   "source": [
    "#Fusionnez les datasets df_merge et df_web\n",
    "\n",
    "#Fusionner les DataFrames en utilisant 'id_web' de df_merge et 'sku' de df_web\n",
    "merged_df = pd.merge(df_merge, df_web, left_on='id_web', right_on='sku', how='outer')\n"
   ]
  },
  {
   "cell_type": "code",
   "execution_count": 127,
   "id": "2021762f",
   "metadata": {},
   "outputs": [
    {
     "name": "stdout",
     "output_type": "stream",
     "text": [
      "Lignes sans correspondance dans df_merge: 92\n",
      "Lignes sans correspondance dans df_web: 110\n"
     ]
    }
   ],
   "source": [
    "#Avons-nous des lignes sans correspondances?\n",
    "\n",
    "# Nombre de lignes sans correspondance dans df_merge\n",
    "print(f\"Lignes sans correspondance dans df_merge: {merged_df['id_web'].isna().sum()}\")\n",
    "\n",
    "# Nombre de lignes sans correspondance dans df_web\n",
    "print(f\"Lignes sans correspondance dans df_web: {merged_df['sku'].isna().sum()}\")\n"
   ]
  },
  {
   "cell_type": "code",
   "execution_count": 128,
   "id": "4622f32f-3441-4635-9e27-d13c708cb47f",
   "metadata": {},
   "outputs": [],
   "source": [
    "#merged_df"
   ]
  },
  {
   "cell_type": "markdown",
   "id": "13d81fd6",
   "metadata": {},
   "source": [
    "<div style=\"background-color: RGB(51,165,182);\" >\n",
    "<h2 style=\"margin: auto; padding: 20px; color:#fff; \">Etape 4 - Analyse univarié des prix</h2>\n",
    "</div>"
   ]
  },
  {
   "cell_type": "markdown",
   "id": "9c8d0615",
   "metadata": {},
   "source": [
    "<div style=\"border: 1px solid RGB(51,165,182);\" >\n",
    "<h3 style=\"margin: auto; padding: 20px; color: RGB(51,165,182); \">Etape 4.1 - Exploration par la visualisation de données</h3>\n",
    "</div>"
   ]
  },
  {
   "cell_type": "code",
   "execution_count": 129,
   "id": "3be61f06",
   "metadata": {},
   "outputs": [
    {
     "data": {
      "image/png": "[encoded data removed]",
      "text/plain": [
       "<Figure size 640x480 with 1 Axes>"
      ]
     },
     "metadata": {},
     "output_type": "display_data"
    }
   ],
   "source": [
    "#Création d'une Boite à moustache de la répartition des prix grâce à Pandas\n",
    "df_erp.boxplot(column='price')\n",
    "\n",
    "# Ajouter un titre et des labels\n",
    "plt.title('Boîte à moustaches de la répartition des prix')\n",
    "plt.ylabel(\"Price\")\n",
    "\n",
    "# Afficher le graphique\n",
    "plt.show()\n"
   ]
  },
  {
   "cell_type": "code",
   "execution_count": 130,
   "id": "cbfe6346",
   "metadata": {},
   "outputs": [
    {
     "data": {
      "application/vnd.plotly.v1+json": {
       "config": {
        "plotlyServerURL": "https://plot.ly"
       },
       "data": [
        {
         "alignmentgroup": "True",
         "hovertemplate": "price=%{y}<extra></extra>",
         "legendgroup": "",
         "marker": {
          "color": "#636efa"
         },
         "name": "",
         "notched": false,
         "offsetgroup": "",
         "orientation": "v",
         "showlegend": false,
         "type": "box",
         "x0": " ",
         "xaxis": "x",
         "y": [
          24.2,
          34.3,
          20.8,
          14.1,
          46,
          34.3,
          32.7,
          31.2,
          60,
          42.6,
          80,
          18.3,
          22.8,
          19.3,
          21.8,
          7.7,
          33.7,
          44.3,
          71.6,
          86.1,
          12.7,
          8.7,
          8.7,
          8.7,
          11.9,
          11.9,
          14.5,
          14.4,
          19.5,
          20.8,
          22,
          16.6,
          60,
          23.4,
          33.2,
          32,
          77.8,
          12.7,
          14.7,
          14.05,
          22.9,
          44,
          37,
          39,
          17,
          23.2,
          19,
          16.4,
          14.4,
          73,
          47,
          13.7,
          12.6,
          22.8,
          12.8,
          22.1,
          12.8,
          15.8,
          15.8,
          16.3,
          16.3,
          9.7,
          6.8,
          12.6,
          35,
          31.7,
          100,
          23,
          88.4,
          29.8,
          25.7,
          77.4,
          39,
          53,
          49,
          29.5,
          33,
          37.5,
          69,
          59,
          13.7,
          19.2,
          29,
          9.8,
          14.5,
          20.35,
          12,
          18.5,
          9.3,
          9.3,
          11.6,
          14.3,
          10.8,
          7.6,
          12,
          20.5,
          14.3,
          18.2,
          9,
          7.8,
          5.7,
          5.7,
          5.7,
          13.5,
          13.5,
          11.5,
          24,
          24,
          11.9,
          16.7,
          21.4,
          16.6,
          13.3,
          9.5,
          12.1,
          9.3,
          17.8,
          13.5,
          10.8,
          14.1,
          27.2,
          9.4,
          5.8,
          5.8,
          38,
          38,
          9.9,
          11.3,
          23,
          6.7,
          7.6,
          73.5,
          79.8,
          48.5,
          39.8,
          58.8,
          26.5,
          13.4,
          17.1,
          16.7,
          11.6,
          12.8,
          8.9,
          9.7,
          17.2,
          16.9,
          12.6,
          29.9,
          9.6,
          11.1,
          11.1,
          17.1,
          28,
          28,
          8.9,
          8.6,
          13.5,
          8.9,
          15.3,
          14.8,
          19.5,
          14.1,
          59.6,
          26.9,
          24.4,
          31.7,
          32.1,
          12.2,
          9.9,
          15.8,
          15.8,
          17.8,
          9.6,
          19,
          15.2,
          10.2,
          15.5,
          16.6,
          9.2,
          12.9,
          14.9,
          17.6,
          24.8,
          21.5,
          10.8,
          18.9,
          11.6,
          27,
          41,
          69.8,
          38.6,
          26.7,
          22.8,
          19,
          23.2,
          39.1,
          44,
          17.5,
          30,
          8.1,
          10.7,
          10.9,
          49,
          35.5,
          83,
          59,
          79.5,
          225,
          79.5,
          12.65,
          51.6,
          39,
          77,
          85.6,
          49.5,
          49.5,
          49.5,
          57,
          59.8,
          27.5,
          62,
          59,
          59,
          59,
          44,
          62.5,
          176,
          108.5,
          68.1,
          157,
          104,
          28.1,
          21.7,
          30.5,
          28.5,
          21.5,
          67.2,
          49,
          40,
          109.6,
          32.3,
          144,
          43.9,
          61.6,
          41.8,
          36.9,
          26.5,
          16.1,
          31.5,
          31.5,
          49,
          32.2,
          50.1,
          13.4,
          11.8,
          13.1,
          26.2,
          20.6,
          16.9,
          19,
          24,
          57,
          67.5,
          30.6,
          59,
          11.9,
          16.5,
          52.4,
          52.9,
          58.3,
          39.6,
          52.4,
          62.4,
          76.8,
          50,
          52.4,
          41,
          62.4,
          50,
          21.5,
          28.5,
          24.3,
          16.5,
          25.3,
          49,
          36.2,
          33.4,
          40.2,
          43,
          43,
          48.8,
          23.6,
          20.8,
          16.4,
          14.4,
          21,
          12.3,
          20.2,
          17,
          21.9,
          17.8,
          19.8,
          19,
          10.7,
          12.9,
          9.5,
          29.8,
          13.2,
          6.3,
          7.1,
          9.1,
          9.1,
          18.1,
          14,
          30.1,
          12.8,
          12.8,
          12,
          18.5,
          34.5,
          20.5,
          23.8,
          19.8,
          18.2,
          31.6,
          16.8,
          22.8,
          32.6,
          44,
          55.4,
          15.8,
          18.4,
          13.3,
          11.1,
          18.6,
          23.4,
          18.2,
          12.5,
          15.9,
          20.2,
          13.7,
          29,
          23.4,
          12.7,
          26,
          29.5,
          8.6,
          14.3,
          22,
          16.8,
          15.3,
          13.5,
          7.4,
          9.7,
          12.4,
          13.8,
          14.5,
          11.9,
          16.4,
          27.9,
          12,
          7.4,
          26.5,
          24.3,
          16.9,
          6.8,
          13.9,
          7.8,
          13.7,
          9.8,
          29.5,
          28.5,
          10.1,
          12.1,
          12.3,
          11.1,
          11.1,
          13.6,
          21,
          18.7,
          41.6,
          12,
          78,
          12.7,
          14.9,
          6.5,
          8.7,
          8.5,
          9.9,
          8.2,
          8.3,
          9.8,
          9.9,
          17.2,
          9.3,
          14.6,
          22.8,
          18.7,
          28.4,
          27.9,
          25.3,
          17,
          27.9,
          20.1,
          27.9,
          21.2,
          20.8,
          41,
          46,
          102.3,
          137,
          22.9,
          53.2,
          25.9,
          17.3,
          23,
          25.9,
          28,
          25.9,
          25.9,
          37.2,
          24.4,
          24.4,
          13.8,
          21.5,
          7,
          12.8,
          23.2,
          7.9,
          6.5,
          7.9,
          16.7,
          17.5,
          27.8,
          25.7,
          18.4,
          22.2,
          11.1,
          9.9,
          12.5,
          12.9,
          20.5,
          25,
          11.3,
          7,
          12.1,
          7.1,
          49.5,
          10,
          23,
          23.7,
          16.45,
          16.3,
          18.5,
          26.5,
          78,
          78,
          78,
          27.3,
          217.5,
          64.9,
          48.7,
          59.4,
          48.7,
          105,
          105,
          55.6,
          9.3,
          15.4,
          19.8,
          10,
          17.1,
          45,
          112,
          86.8,
          62.1,
          22.5,
          7.5,
          52.6,
          45,
          67,
          59.9,
          59.9,
          65,
          84.7,
          43.3,
          15.2,
          19,
          11.1,
          18,
          22.8,
          19.5,
          28.8,
          16.1,
          24.2,
          35.3,
          10.7,
          12.7,
          17.1,
          24,
          39,
          13.2,
          23.6,
          15.5,
          16.3,
          16.2,
          7.2,
          54.8,
          42,
          19.8,
          10.2,
          10.4,
          11.5,
          17.9,
          21.6,
          33.4,
          49.5,
          43.5,
          43.5,
          26.5,
          13.8,
          10.1,
          18.2,
          12.9,
          38.6,
          48.4,
          60.4,
          38.6,
          12,
          61.6,
          65.9,
          15.2,
          24.6,
          48.8,
          34.3,
          36.3,
          57.7,
          38,
          27.9,
          47,
          58,
          58,
          30.8,
          92,
          27.5,
          19.9,
          22.5,
          34.7,
          59.6,
          83.7,
          30.5,
          38.6,
          18,
          63.4,
          124.8,
          19.2,
          19.2,
          56.4,
          38.4,
          27.8,
          71.3,
          71.3,
          25,
          10.3,
          28,
          44.6,
          13,
          12.7,
          6.5,
          17.5,
          29.9,
          44.5,
          29.4,
          16.9,
          19.8,
          10.3,
          10.8,
          31.7,
          25,
          57.6,
          13.7,
          7.1,
          14.9,
          11,
          14.6,
          10.7,
          73.3,
          42.1,
          57,
          24.5,
          10.1,
          42.2,
          13.1,
          19.5,
          12.9,
          35.6,
          175,
          35.6,
          33.6,
          34.4,
          38.4,
          29.7,
          32.8,
          5.7,
          5.8,
          5.8,
          21.7,
          23,
          12.5,
          17.2,
          40.2,
          32.3,
          24,
          23.8,
          17.1,
          25,
          29.2,
          17.4,
          27.3,
          34.2,
          17.9,
          24,
          16.6,
          16.9,
          57.6,
          63.5,
          56,
          63.5,
          41.2,
          55,
          57,
          19.3,
          19,
          191.3,
          26.6,
          15.4,
          24.7,
          28.1,
          18.25,
          35.1,
          27.3,
          18.8,
          43.9,
          19.8,
          17.7,
          57,
          36,
          36,
          93,
          122,
          114,
          48.5,
          49.5,
          14.1,
          59.9,
          46,
          74.5,
          42.5,
          47.5,
          18.8,
          27.3,
          17.2,
          39,
          8.7,
          15.4,
          12.7,
          30,
          13.5,
          16.3,
          56.3,
          71.5,
          69,
          17.9,
          48.5,
          71.7,
          8.5,
          10.9,
          21.8,
          38.5,
          9.3,
          13.6,
          24.5,
          12.6,
          13.4,
          29.8,
          12.9,
          36.9,
          40.7,
          33.2,
          34.8,
          74.8,
          62.4,
          46,
          39.2,
          14.2,
          135,
          10.6,
          10.6,
          5.2,
          46,
          105.6,
          116.4,
          31,
          20.2,
          25.2,
          25.2,
          115,
          121,
          99,
          115,
          121,
          23.5,
          26.4,
          26.7,
          20.4,
          20.4,
          40.2,
          9,
          45.9,
          10.4,
          78,
          40.5,
          92,
          27.9,
          28.5,
          22.4,
          28.4,
          72,
          29,
          29.2,
          44,
          68.3,
          41.8,
          40,
          13.5,
          19,
          24.4,
          32.8,
          15.4,
          9.9,
          13.5,
          51,
          35.2,
          42.2,
          33.2,
          41.8,
          32.2,
          37.7,
          47.2,
          52.7,
          22.4,
          50.4,
          35.6,
          27.7,
          48.5,
          15.4,
          46.5,
          46.5,
          28,
          28,
          24,
          18,
          40,
          40,
          40,
          40,
          46.5,
          42,
          21.8,
          30,
          26,
          30,
          20,
          31,
          27,
          31,
          21,
          31,
          27,
          31,
          21,
          50.5,
          49.9,
          19,
          8.4,
          40,
          40,
          47,
          45,
          27.5,
          69,
          45,
          45,
          30,
          26,
          30,
          20,
          45,
          45,
          45,
          45,
          45,
          31,
          21,
          27,
          31,
          31,
          45,
          45,
          45,
          31,
          27,
          31,
          21,
          31,
          31,
          31,
          45,
          45,
          54.8,
          26.5,
          16.3
         ],
         "y0": " ",
         "yaxis": "y"
        }
       ],
       "layout": {
        "autosize": true,
        "boxmode": "group",
        "legend": {
         "tracegroupgap": 0
        },
        "template": {
         "data": {
          "bar": [
           {
            "error_x": {
             "color": "#2a3f5f"
            },
            "error_y": {
             "color": "#2a3f5f"
            },
            "marker": {
             "line": {
              "color": "#E5ECF6",
              "width": 0.5
             },
             "pattern": {
              "fillmode": "overlay",
              "size": 10,
              "solidity": 0.2
             }
            },
            "type": "bar"
           }
          ],
          "barpolar": [
           {
            "marker": {
             "line": {
              "color": "#E5ECF6",
              "width": 0.5
             },
             "pattern": {
              "fillmode": "overlay",
              "size": 10,
              "solidity": 0.2
             }
            },
            "type": "barpolar"
           }
          ],
          "carpet": [
           {
            "aaxis": {
             "endlinecolor": "#2a3f5f",
             "gridcolor": "white",
             "linecolor": "white",
             "minorgridcolor": "white",
             "startlinecolor": "#2a3f5f"
            },
            "baxis": {
             "endlinecolor": "#2a3f5f",
             "gridcolor": "white",
             "linecolor": "white",
             "minorgridcolor": "white",
             "startlinecolor": "#2a3f5f"
            },
            "type": "carpet"
           }
          ],
          "choropleth": [
           {
            "colorbar": {
             "outlinewidth": 0,
             "ticks": ""
            },
            "type": "choropleth"
           }
          ],
          "contour": [
           {
            "colorbar": {
             "outlinewidth": 0,
             "ticks": ""
            },
            "colorscale": [
             [
              0,
              "#0d0887"
             ],
             [
              0.1111111111111111,
              "#46039f"
             ],
             [
              0.2222222222222222,
              "#7201a8"
             ],
             [
              0.3333333333333333,
              "#9c179e"
             ],
             [
              0.4444444444444444,
              "#bd3786"
             ],
             [
              0.5555555555555556,
              "#d8576b"
             ],
             [
              0.6666666666666666,
              "#ed7953"
             ],
             [
              0.7777777777777778,
              "#fb9f3a"
             ],
             [
              0.8888888888888888,
              "#fdca26"
             ],
             [
              1,
              "#f0f921"
             ]
            ],
            "type": "contour"
           }
          ],
          "contourcarpet": [
           {
            "colorbar": {
             "outlinewidth": 0,
             "ticks": ""
            },
            "type": "contourcarpet"
           }
          ],
          "heatmap": [
           {
            "colorbar": {
             "outlinewidth": 0,
             "ticks": ""
            },
            "colorscale": [
             [
              0,
              "#0d0887"
             ],
             [
              0.1111111111111111,
              "#46039f"
             ],
             [
              0.2222222222222222,
              "#7201a8"
             ],
             [
              0.3333333333333333,
              "#9c179e"
             ],
             [
              0.4444444444444444,
              "#bd3786"
             ],
             [
              0.5555555555555556,
              "#d8576b"
             ],
             [
              0.6666666666666666,
              "#ed7953"
             ],
             [
              0.7777777777777778,
              "#fb9f3a"
             ],
             [
              0.8888888888888888,
              "#fdca26"
             ],
             [
              1,
              "#f0f921"
             ]
            ],
            "type": "heatmap"
           }
          ],
          "heatmapgl": [
           {
            "colorbar": {
             "outlinewidth": 0,
             "ticks": ""
            },
            "colorscale": [
             [
              0,
              "#0d0887"
             ],
             [
              0.1111111111111111,
              "#46039f"
             ],
             [
              0.2222222222222222,
              "#7201a8"
             ],
             [
              0.3333333333333333,
              "#9c179e"
             ],
             [
              0.4444444444444444,
              "#bd3786"
             ],
             [
              0.5555555555555556,
              "#d8576b"
             ],
             [
              0.6666666666666666,
              "#ed7953"
             ],
             [
              0.7777777777777778,
              "#fb9f3a"
             ],
             [
              0.8888888888888888,
              "#fdca26"
             ],
             [
              1,
              "#f0f921"
             ]
            ],
            "type": "heatmapgl"
           }
          ],
          "histogram": [
           {
            "marker": {
             "pattern": {
              "fillmode": "overlay",
              "size": 10,
              "solidity": 0.2
             }
            },
            "type": "histogram"
           }
          ],
          "histogram2d": [
           {
            "colorbar": {
             "outlinewidth": 0,
             "ticks": ""
            },
            "colorscale": [
             [
              0,
              "#0d0887"
             ],
             [
              0.1111111111111111,
              "#46039f"
             ],
             [
              0.2222222222222222,
              "#7201a8"
             ],
             [
              0.3333333333333333,
              "#9c179e"
             ],
             [
              0.4444444444444444,
              "#bd3786"
             ],
             [
              0.5555555555555556,
              "#d8576b"
             ],
             [
              0.6666666666666666,
              "#ed7953"
             ],
             [
              0.7777777777777778,
              "#fb9f3a"
             ],
             [
              0.8888888888888888,
              "#fdca26"
             ],
             [
              1,
              "#f0f921"
             ]
            ],
            "type": "histogram2d"
           }
          ],
          "histogram2dcontour": [
           {
            "colorbar": {
             "outlinewidth": 0,
             "ticks": ""
            },
            "colorscale": [
             [
              0,
              "#0d0887"
             ],
             [
              0.1111111111111111,
              "#46039f"
             ],
             [
              0.2222222222222222,
              "#7201a8"
             ],
             [
              0.3333333333333333,
              "#9c179e"
             ],
             [
              0.4444444444444444,
              "#bd3786"
             ],
             [
              0.5555555555555556,
              "#d8576b"
             ],
             [
              0.6666666666666666,
              "#ed7953"
             ],
             [
              0.7777777777777778,
              "#fb9f3a"
             ],
             [
              0.8888888888888888,
              "#fdca26"
             ],
             [
              1,
              "#f0f921"
             ]
            ],
            "type": "histogram2dcontour"
           }
          ],
          "mesh3d": [
           {
            "colorbar": {
             "outlinewidth": 0,
             "ticks": ""
            },
            "type": "mesh3d"
           }
          ],
          "parcoords": [
           {
            "line": {
             "colorbar": {
              "outlinewidth": 0,
              "ticks": ""
             }
            },
            "type": "parcoords"
           }
          ],
          "pie": [
           {
            "automargin": true,
            "type": "pie"
           }
          ],
          "scatter": [
           {
            "fillpattern": {
             "fillmode": "overlay",
             "size": 10,
             "solidity": 0.2
            },
            "type": "scatter"
           }
          ],
          "scatter3d": [
           {
            "line": {
             "colorbar": {
              "outlinewidth": 0,
              "ticks": ""
             }
            },
            "marker": {
             "colorbar": {
              "outlinewidth": 0,
              "ticks": ""
             }
            },
            "type": "scatter3d"
           }
          ],
          "scattercarpet": [
           {
            "marker": {
             "colorbar": {
              "outlinewidth": 0,
              "ticks": ""
             }
            },
            "type": "scattercarpet"
           }
          ],
          "scattergeo": [
           {
            "marker": {
             "colorbar": {
              "outlinewidth": 0,
              "ticks": ""
             }
            },
            "type": "scattergeo"
           }
          ],
          "scattergl": [
           {
            "marker": {
             "colorbar": {
              "outlinewidth": 0,
              "ticks": ""
             }
            },
            "type": "scattergl"
           }
          ],
          "scattermapbox": [
           {
            "marker": {
             "colorbar": {
              "outlinewidth": 0,
              "ticks": ""
             }
            },
            "type": "scattermapbox"
           }
          ],
          "scatterpolar": [
           {
            "marker": {
             "colorbar": {
              "outlinewidth": 0,
              "ticks": ""
             }
            },
            "type": "scatterpolar"
           }
          ],
          "scatterpolargl": [
           {
            "marker": {
             "colorbar": {
              "outlinewidth": 0,
              "ticks": ""
             }
            },
            "type": "scatterpolargl"
           }
          ],
          "scatterternary": [
           {
            "marker": {
             "colorbar": {
              "outlinewidth": 0,
              "ticks": ""
             }
            },
            "type": "scatterternary"
           }
          ],
          "surface": [
           {
            "colorbar": {
             "outlinewidth": 0,
             "ticks": ""
            },
            "colorscale": [
             [
              0,
              "#0d0887"
             ],
             [
              0.1111111111111111,
              "#46039f"
             ],
             [
              0.2222222222222222,
              "#7201a8"
             ],
             [
              0.3333333333333333,
              "#9c179e"
             ],
             [
              0.4444444444444444,
              "#bd3786"
             ],
             [
              0.5555555555555556,
              "#d8576b"
             ],
             [
              0.6666666666666666,
              "#ed7953"
             ],
             [
              0.7777777777777778,
              "#fb9f3a"
             ],
             [
              0.8888888888888888,
              "#fdca26"
             ],
             [
              1,
              "#f0f921"
             ]
            ],
            "type": "surface"
           }
          ],
          "table": [
           {
            "cells": {
             "fill": {
              "color": "#EBF0F8"
             },
             "line": {
              "color": "white"
             }
            },
            "header": {
             "fill": {
              "color": "#C8D4E3"
             },
             "line": {
              "color": "white"
             }
            },
            "type": "table"
           }
          ]
         },
         "layout": {
          "annotationdefaults": {
           "arrowcolor": "#2a3f5f",
           "arrowhead": 0,
           "arrowwidth": 1
          },
          "autotypenumbers": "strict",
          "coloraxis": {
           "colorbar": {
            "outlinewidth": 0,
            "ticks": ""
           }
          },
          "colorscale": {
           "diverging": [
            [
             0,
             "#8e0152"
            ],
            [
             0.1,
             "#c51b7d"
            ],
            [
             0.2,
             "#de77ae"
            ],
            [
             0.3,
             "#f1b6da"
            ],
            [
             0.4,
             "#fde0ef"
            ],
            [
             0.5,
             "#f7f7f7"
            ],
            [
             0.6,
             "#e6f5d0"
            ],
            [
             0.7,
             "#b8e186"
            ],
            [
             0.8,
             "#7fbc41"
            ],
            [
             0.9,
             "#4d9221"
            ],
            [
             1,
             "#276419"
            ]
           ],
           "sequential": [
            [
             0,
             "#0d0887"
            ],
            [
             0.1111111111111111,
             "#46039f"
            ],
            [
             0.2222222222222222,
             "#7201a8"
            ],
            [
             0.3333333333333333,
             "#9c179e"
            ],
            [
             0.4444444444444444,
             "#bd3786"
            ],
            [
             0.5555555555555556,
             "#d8576b"
            ],
            [
             0.6666666666666666,
             "#ed7953"
            ],
            [
             0.7777777777777778,
             "#fb9f3a"
            ],
            [
             0.8888888888888888,
             "#fdca26"
            ],
            [
             1,
             "#f0f921"
            ]
           ],
           "sequentialminus": [
            [
             0,
             "#0d0887"
            ],
            [
             0.1111111111111111,
             "#46039f"
            ],
            [
             0.2222222222222222,
             "#7201a8"
            ],
            [
             0.3333333333333333,
             "#9c179e"
            ],
            [
             0.4444444444444444,
             "#bd3786"
            ],
            [
             0.5555555555555556,
             "#d8576b"
            ],
            [
             0.6666666666666666,
             "#ed7953"
            ],
            [
             0.7777777777777778,
             "#fb9f3a"
            ],
            [
             0.8888888888888888,
             "#fdca26"
            ],
            [
             1,
             "#f0f921"
            ]
           ]
          },
          "colorway": [
           "#636efa",
           "#EF553B",
           "#00cc96",
           "#ab63fa",
           "#FFA15A",
           "#19d3f3",
           "#FF6692",
           "#B6E880",
           "#FF97FF",
           "#FECB52"
          ],
          "font": {
           "color": "#2a3f5f"
          },
          "geo": {
           "bgcolor": "white",
           "lakecolor": "white",
           "landcolor": "#E5ECF6",
           "showlakes": true,
           "showland": true,
           "subunitcolor": "white"
          },
          "hoverlabel": {
           "align": "left"
          },
          "hovermode": "closest",
          "mapbox": {
           "style": "light"
          },
          "paper_bgcolor": "white",
          "plot_bgcolor": "#E5ECF6",
          "polar": {
           "angularaxis": {
            "gridcolor": "white",
            "linecolor": "white",
            "ticks": ""
           },
           "bgcolor": "#E5ECF6",
           "radialaxis": {
            "gridcolor": "white",
            "linecolor": "white",
            "ticks": ""
           }
          },
          "scene": {
           "xaxis": {
            "backgroundcolor": "#E5ECF6",
            "gridcolor": "white",
            "gridwidth": 2,
            "linecolor": "white",
            "showbackground": true,
            "ticks": "",
            "zerolinecolor": "white"
           },
           "yaxis": {
            "backgroundcolor": "#E5ECF6",
            "gridcolor": "white",
            "gridwidth": 2,
            "linecolor": "white",
            "showbackground": true,
            "ticks": "",
            "zerolinecolor": "white"
           },
           "zaxis": {
            "backgroundcolor": "#E5ECF6",
            "gridcolor": "white",
            "gridwidth": 2,
            "linecolor": "white",
            "showbackground": true,
            "ticks": "",
            "zerolinecolor": "white"
           }
          },
          "shapedefaults": {
           "line": {
            "color": "#2a3f5f"
           }
          },
          "ternary": {
           "aaxis": {
            "gridcolor": "white",
            "linecolor": "white",
            "ticks": ""
           },
           "baxis": {
            "gridcolor": "white",
            "linecolor": "white",
            "ticks": ""
           },
           "bgcolor": "#E5ECF6",
           "caxis": {
            "gridcolor": "white",
            "linecolor": "white",
            "ticks": ""
           }
          },
          "title": {
           "x": 0.05
          },
          "xaxis": {
           "automargin": true,
           "gridcolor": "white",
           "linecolor": "white",
           "ticks": "",
           "title": {
            "standoff": 15
           },
           "zerolinecolor": "white",
           "zerolinewidth": 2
          },
          "yaxis": {
           "automargin": true,
           "gridcolor": "white",
           "linecolor": "white",
           "ticks": "",
           "title": {
            "standoff": 15
           },
           "zerolinecolor": "white",
           "zerolinewidth": 2
          }
         }
        },
        "title": {
         "text": "Boîte à moustaches de la répartition des prix"
        },
        "xaxis": {
         "anchor": "y",
         "autorange": true,
         "domain": [
          0,
          1
         ],
         "range": [
          -0.5,
          0.5
         ],
         "type": "category"
        },
        "yaxis": {
         "anchor": "x",
         "autorange": true,
         "domain": [
          0,
          1
         ],
         "range": [
          -7.011111111111112,
          237.2111111111111
         ],
         "title": {
          "text": "price"
         },
         "type": "linear"
        }
       }
      },
      "image/png": "[encoded data removed]",
      "text/html": [
       "<div>                            <div id=\"1485a10f-a72c-4aa6-b85e-abfa35ea65cf\" class=\"plotly-graph-div\" style=\"height:525px; width:100%;\"></div>            <script type=\"text/javascript\">                require([\"plotly\"], function(Plotly) {                    window.PLOTLYENV=window.PLOTLYENV || {};                                    if (document.getElementById(\"1485a10f-a72c-4aa6-b85e-abfa35ea65cf\")) {                    Plotly.newPlot(                        \"1485a10f-a72c-4aa6-b85e-abfa35ea65cf\",                        [{\"alignmentgroup\":\"True\",\"hovertemplate\":\"price=%{y}\\u003cextra\\u003e\\u003c\\u002fextra\\u003e\",\"legendgroup\":\"\",\"marker\":{\"color\":\"#636efa\"},\"name\":\"\",\"notched\":false,\"offsetgroup\":\"\",\"orientation\":\"v\",\"showlegend\":false,\"x0\":\" \",\"xaxis\":\"x\",\"y\":[24.2,34.3,20.8,14.1,46.0,34.3,32.7,31.2,60.0,42.6,80.0,18.3,22.8,19.3,21.8,7.7,33.7,44.3,71.6,86.1,12.7,8.7,8.7,8.7,11.9,11.9,14.5,14.4,19.5,20.8,22.0,16.6,60.0,23.4,33.2,32.0,77.8,12.7,14.7,14.05,22.9,44.0,37.0,39.0,17.0,23.2,19.0,16.4,14.4,73.0,47.0,13.7,12.6,22.8,12.8,22.1,12.8,15.8,15.8,16.3,16.3,9.7,6.8,12.6,35.0,31.7,100.0,23.0,88.4,29.8,25.7,77.4,39.0,53.0,49.0,29.5,33.0,37.5,69.0,59.0,13.7,19.2,29.0,9.8,14.5,20.35,12.0,18.5,9.3,9.3,11.6,14.3,10.8,7.6,12.0,20.5,14.3,18.2,9.0,7.8,5.7,5.7,5.7,13.5,13.5,11.5,24.0,24.0,11.9,16.7,21.4,16.6,13.3,9.5,12.1,9.3,17.8,13.5,10.8,14.1,27.2,9.4,5.8,5.8,38.0,38.0,9.9,11.3,23.0,6.7,7.6,73.5,79.8,48.5,39.8,58.8,26.5,13.4,17.1,16.7,11.6,12.8,8.9,9.7,17.2,16.9,12.6,29.9,9.6,11.1,11.1,17.1,28.0,28.0,8.9,8.6,13.5,8.9,15.3,14.8,19.5,14.1,59.6,26.9,24.4,31.7,32.1,12.2,9.9,15.8,15.8,17.8,9.6,19.0,15.2,10.2,15.5,16.6,9.2,12.9,14.9,17.6,24.8,21.5,10.8,18.9,11.6,27.0,41.0,69.8,38.6,26.7,22.8,19.0,23.2,39.1,44.0,17.5,30.0,8.1,10.7,10.9,49.0,35.5,83.0,59.0,79.5,225.0,79.5,12.65,51.6,39.0,77.0,85.6,49.5,49.5,49.5,57.0,59.8,27.5,62.0,59.0,59.0,59.0,44.0,62.5,176.0,108.5,68.1,157.0,104.0,28.1,21.7,30.5,28.5,21.5,67.2,49.0,40.0,109.6,32.3,144.0,43.9,61.6,41.8,36.9,26.5,16.1,31.5,31.5,49.0,32.2,50.1,13.4,11.8,13.1,26.2,20.6,16.9,19.0,24.0,57.0,67.5,30.6,59.0,11.9,16.5,52.4,52.9,58.3,39.6,52.4,62.4,76.8,50.0,52.4,41.0,62.4,50.0,21.5,28.5,24.3,16.5,25.3,49.0,36.2,33.4,40.2,43.0,43.0,48.8,23.6,20.8,16.4,14.4,21.0,12.3,20.2,17.0,21.9,17.8,19.8,19.0,10.7,12.9,9.5,29.8,13.2,6.3,7.1,9.1,9.1,18.1,14.0,30.1,12.8,12.8,12.0,18.5,34.5,20.5,23.8,19.8,18.2,31.6,16.8,22.8,32.6,44.0,55.4,15.8,18.4,13.3,11.1,18.6,23.4,18.2,12.5,15.9,20.2,13.7,29.0,23.4,12.7,26.0,29.5,8.6,14.3,22.0,16.8,15.3,13.5,7.4,9.7,12.4,13.8,14.5,11.9,16.4,27.9,12.0,7.4,26.5,24.3,16.9,6.8,13.9,7.8,13.7,9.8,29.5,28.5,10.1,12.1,12.3,11.1,11.1,13.6,21.0,18.7,41.6,12.0,78.0,12.7,14.9,6.5,8.7,8.5,9.9,8.2,8.3,9.8,9.9,17.2,9.3,14.6,22.8,18.7,28.4,27.9,25.3,17.0,27.9,20.1,27.9,21.2,20.8,41.0,46.0,102.3,137.0,22.9,53.2,25.9,17.3,23.0,25.9,28.0,25.9,25.9,37.2,24.4,24.4,13.8,21.5,7.0,12.8,23.2,7.9,6.5,7.9,16.7,17.5,27.8,25.7,18.4,22.2,11.1,9.9,12.5,12.9,20.5,25.0,11.3,7.0,12.1,7.1,49.5,10.0,23.0,23.7,16.45,16.3,18.5,26.5,78.0,78.0,78.0,27.3,217.5,64.9,48.7,59.4,48.7,105.0,105.0,55.6,9.3,15.4,19.8,10.0,17.1,45.0,112.0,86.8,62.1,22.5,7.5,52.6,45.0,67.0,59.9,59.9,65.0,84.7,43.3,15.2,19.0,11.1,18.0,22.8,19.5,28.8,16.1,24.2,35.3,10.7,12.7,17.1,24.0,39.0,13.2,23.6,15.5,16.3,16.2,7.2,54.8,42.0,19.8,10.2,10.4,11.5,17.9,21.6,33.4,49.5,43.5,43.5,26.5,13.8,10.1,18.2,12.9,38.6,48.4,60.4,38.6,12.0,61.6,65.9,15.2,24.6,48.8,34.3,36.3,57.7,38.0,27.9,47.0,58.0,58.0,30.8,92.0,27.5,19.9,22.5,34.7,59.6,83.7,30.5,38.6,18.0,63.4,124.8,19.2,19.2,56.4,38.4,27.8,71.3,71.3,25.0,10.3,28.0,44.6,13.0,12.7,6.5,17.5,29.9,44.5,29.4,16.9,19.8,10.3,10.8,31.7,25.0,57.6,13.7,7.1,14.9,11.0,14.6,10.7,73.3,42.1,57.0,24.5,10.1,42.2,13.1,19.5,12.9,35.6,175.0,35.6,33.6,34.4,38.4,29.7,32.8,5.7,5.8,5.8,21.7,23.0,12.5,17.2,40.2,32.3,24.0,23.8,17.1,25.0,29.2,17.4,27.3,34.2,17.9,24.0,16.6,16.9,57.6,63.5,56.0,63.5,41.2,55.0,57.0,19.3,19.0,191.3,26.6,15.4,24.7,28.1,18.25,35.1,27.3,18.8,43.9,19.8,17.7,57.0,36.0,36.0,93.0,122.0,114.0,48.5,49.5,14.1,59.9,46.0,74.5,42.5,47.5,18.8,27.3,17.2,39.0,8.7,15.4,12.7,30.0,13.5,16.3,56.3,71.5,69.0,17.9,48.5,71.7,8.5,10.9,21.8,38.5,9.3,13.6,24.5,12.6,13.4,29.8,12.9,36.9,40.7,33.2,34.8,74.8,62.4,46.0,39.2,14.2,135.0,10.6,10.6,5.2,46.0,105.6,116.4,31.0,20.2,25.2,25.2,115.0,121.0,99.0,115.0,121.0,23.5,26.4,26.7,20.4,20.4,40.2,9.0,45.9,10.4,78.0,40.5,92.0,27.9,28.5,22.4,28.4,72.0,29.0,29.2,44.0,68.3,41.8,40.0,13.5,19.0,24.4,32.8,15.4,9.9,13.5,51.0,35.2,42.2,33.2,41.8,32.2,37.7,47.2,52.7,22.4,50.4,35.6,27.7,48.5,15.4,46.5,46.5,28.0,28.0,24.0,18.0,40.0,40.0,40.0,40.0,46.5,42.0,21.8,30.0,26.0,30.0,20.0,31.0,27.0,31.0,21.0,31.0,27.0,31.0,21.0,50.5,49.9,19.0,8.4,40.0,40.0,47.0,45.0,27.5,69.0,45.0,45.0,30.0,26.0,30.0,20.0,45.0,45.0,45.0,45.0,45.0,31.0,21.0,27.0,31.0,31.0,45.0,45.0,45.0,31.0,27.0,31.0,21.0,31.0,31.0,31.0,45.0,45.0,54.8,26.5,16.3],\"y0\":\" \",\"yaxis\":\"y\",\"type\":\"box\"}],                        {\"template\":{\"data\":{\"histogram2dcontour\":[{\"type\":\"histogram2dcontour\",\"colorbar\":{\"outlinewidth\":0,\"ticks\":\"\"},\"colorscale\":[[0.0,\"#0d0887\"],[0.1111111111111111,\"#46039f\"],[0.2222222222222222,\"#7201a8\"],[0.3333333333333333,\"#9c179e\"],[0.4444444444444444,\"#bd3786\"],[0.5555555555555556,\"#d8576b\"],[0.6666666666666666,\"#ed7953\"],[0.7777777777777778,\"#fb9f3a\"],[0.8888888888888888,\"#fdca26\"],[1.0,\"#f0f921\"]]}],\"choropleth\":[{\"type\":\"choropleth\",\"colorbar\":{\"outlinewidth\":0,\"ticks\":\"\"}}],\"histogram2d\":[{\"type\":\"histogram2d\",\"colorbar\":{\"outlinewidth\":0,\"ticks\":\"\"},\"colorscale\":[[0.0,\"#0d0887\"],[0.1111111111111111,\"#46039f\"],[0.2222222222222222,\"#7201a8\"],[0.3333333333333333,\"#9c179e\"],[0.4444444444444444,\"#bd3786\"],[0.5555555555555556,\"#d8576b\"],[0.6666666666666666,\"#ed7953\"],[0.7777777777777778,\"#fb9f3a\"],[0.8888888888888888,\"#fdca26\"],[1.0,\"#f0f921\"]]}],\"heatmap\":[{\"type\":\"heatmap\",\"colorbar\":{\"outlinewidth\":0,\"ticks\":\"\"},\"colorscale\":[[0.0,\"#0d0887\"],[0.1111111111111111,\"#46039f\"],[0.2222222222222222,\"#7201a8\"],[0.3333333333333333,\"#9c179e\"],[0.4444444444444444,\"#bd3786\"],[0.5555555555555556,\"#d8576b\"],[0.6666666666666666,\"#ed7953\"],[0.7777777777777778,\"#fb9f3a\"],[0.8888888888888888,\"#fdca26\"],[1.0,\"#f0f921\"]]}],\"heatmapgl\":[{\"type\":\"heatmapgl\",\"colorbar\":{\"outlinewidth\":0,\"ticks\":\"\"},\"colorscale\":[[0.0,\"#0d0887\"],[0.1111111111111111,\"#46039f\"],[0.2222222222222222,\"#7201a8\"],[0.3333333333333333,\"#9c179e\"],[0.4444444444444444,\"#bd3786\"],[0.5555555555555556,\"#d8576b\"],[0.6666666666666666,\"#ed7953\"],[0.7777777777777778,\"#fb9f3a\"],[0.8888888888888888,\"#fdca26\"],[1.0,\"#f0f921\"]]}],\"contourcarpet\":[{\"type\":\"contourcarpet\",\"colorbar\":{\"outlinewidth\":0,\"ticks\":\"\"}}],\"contour\":[{\"type\":\"contour\",\"colorbar\":{\"outlinewidth\":0,\"ticks\":\"\"},\"colorscale\":[[0.0,\"#0d0887\"],[0.1111111111111111,\"#46039f\"],[0.2222222222222222,\"#7201a8\"],[0.3333333333333333,\"#9c179e\"],[0.4444444444444444,\"#bd3786\"],[0.5555555555555556,\"#d8576b\"],[0.6666666666666666,\"#ed7953\"],[0.7777777777777778,\"#fb9f3a\"],[0.8888888888888888,\"#fdca26\"],[1.0,\"#f0f921\"]]}],\"surface\":[{\"type\":\"surface\",\"colorbar\":{\"outlinewidth\":0,\"ticks\":\"\"},\"colorscale\":[[0.0,\"#0d0887\"],[0.1111111111111111,\"#46039f\"],[0.2222222222222222,\"#7201a8\"],[0.3333333333333333,\"#9c179e\"],[0.4444444444444444,\"#bd3786\"],[0.5555555555555556,\"#d8576b\"],[0.6666666666666666,\"#ed7953\"],[0.7777777777777778,\"#fb9f3a\"],[0.8888888888888888,\"#fdca26\"],[1.0,\"#f0f921\"]]}],\"mesh3d\":[{\"type\":\"mesh3d\",\"colorbar\":{\"outlinewidth\":0,\"ticks\":\"\"}}],\"scatter\":[{\"fillpattern\":{\"fillmode\":\"overlay\",\"size\":10,\"solidity\":0.2},\"type\":\"scatter\"}],\"parcoords\":[{\"type\":\"parcoords\",\"line\":{\"colorbar\":{\"outlinewidth\":0,\"ticks\":\"\"}}}],\"scatterpolargl\":[{\"type\":\"scatterpolargl\",\"marker\":{\"colorbar\":{\"outlinewidth\":0,\"ticks\":\"\"}}}],\"bar\":[{\"error_x\":{\"color\":\"#2a3f5f\"},\"error_y\":{\"color\":\"#2a3f5f\"},\"marker\":{\"line\":{\"color\":\"#E5ECF6\",\"width\":0.5},\"pattern\":{\"fillmode\":\"overlay\",\"size\":10,\"solidity\":0.2}},\"type\":\"bar\"}],\"scattergeo\":[{\"type\":\"scattergeo\",\"marker\":{\"colorbar\":{\"outlinewidth\":0,\"ticks\":\"\"}}}],\"scatterpolar\":[{\"type\":\"scatterpolar\",\"marker\":{\"colorbar\":{\"outlinewidth\":0,\"ticks\":\"\"}}}],\"histogram\":[{\"marker\":{\"pattern\":{\"fillmode\":\"overlay\",\"size\":10,\"solidity\":0.2}},\"type\":\"histogram\"}],\"scattergl\":[{\"type\":\"scattergl\",\"marker\":{\"colorbar\":{\"outlinewidth\":0,\"ticks\":\"\"}}}],\"scatter3d\":[{\"type\":\"scatter3d\",\"line\":{\"colorbar\":{\"outlinewidth\":0,\"ticks\":\"\"}},\"marker\":{\"colorbar\":{\"outlinewidth\":0,\"ticks\":\"\"}}}],\"scattermapbox\":[{\"type\":\"scattermapbox\",\"marker\":{\"colorbar\":{\"outlinewidth\":0,\"ticks\":\"\"}}}],\"scatterternary\":[{\"type\":\"scatterternary\",\"marker\":{\"colorbar\":{\"outlinewidth\":0,\"ticks\":\"\"}}}],\"scattercarpet\":[{\"type\":\"scattercarpet\",\"marker\":{\"colorbar\":{\"outlinewidth\":0,\"ticks\":\"\"}}}],\"carpet\":[{\"aaxis\":{\"endlinecolor\":\"#2a3f5f\",\"gridcolor\":\"white\",\"linecolor\":\"white\",\"minorgridcolor\":\"white\",\"startlinecolor\":\"#2a3f5f\"},\"baxis\":{\"endlinecolor\":\"#2a3f5f\",\"gridcolor\":\"white\",\"linecolor\":\"white\",\"minorgridcolor\":\"white\",\"startlinecolor\":\"#2a3f5f\"},\"type\":\"carpet\"}],\"table\":[{\"cells\":{\"fill\":{\"color\":\"#EBF0F8\"},\"line\":{\"color\":\"white\"}},\"header\":{\"fill\":{\"color\":\"#C8D4E3\"},\"line\":{\"color\":\"white\"}},\"type\":\"table\"}],\"barpolar\":[{\"marker\":{\"line\":{\"color\":\"#E5ECF6\",\"width\":0.5},\"pattern\":{\"fillmode\":\"overlay\",\"size\":10,\"solidity\":0.2}},\"type\":\"barpolar\"}],\"pie\":[{\"automargin\":true,\"type\":\"pie\"}]},\"layout\":{\"autotypenumbers\":\"strict\",\"colorway\":[\"#636efa\",\"#EF553B\",\"#00cc96\",\"#ab63fa\",\"#FFA15A\",\"#19d3f3\",\"#FF6692\",\"#B6E880\",\"#FF97FF\",\"#FECB52\"],\"font\":{\"color\":\"#2a3f5f\"},\"hovermode\":\"closest\",\"hoverlabel\":{\"align\":\"left\"},\"paper_bgcolor\":\"white\",\"plot_bgcolor\":\"#E5ECF6\",\"polar\":{\"bgcolor\":\"#E5ECF6\",\"angularaxis\":{\"gridcolor\":\"white\",\"linecolor\":\"white\",\"ticks\":\"\"},\"radialaxis\":{\"gridcolor\":\"white\",\"linecolor\":\"white\",\"ticks\":\"\"}},\"ternary\":{\"bgcolor\":\"#E5ECF6\",\"aaxis\":{\"gridcolor\":\"white\",\"linecolor\":\"white\",\"ticks\":\"\"},\"baxis\":{\"gridcolor\":\"white\",\"linecolor\":\"white\",\"ticks\":\"\"},\"caxis\":{\"gridcolor\":\"white\",\"linecolor\":\"white\",\"ticks\":\"\"}},\"coloraxis\":{\"colorbar\":{\"outlinewidth\":0,\"ticks\":\"\"}},\"colorscale\":{\"sequential\":[[0.0,\"#0d0887\"],[0.1111111111111111,\"#46039f\"],[0.2222222222222222,\"#7201a8\"],[0.3333333333333333,\"#9c179e\"],[0.4444444444444444,\"#bd3786\"],[0.5555555555555556,\"#d8576b\"],[0.6666666666666666,\"#ed7953\"],[0.7777777777777778,\"#fb9f3a\"],[0.8888888888888888,\"#fdca26\"],[1.0,\"#f0f921\"]],\"sequentialminus\":[[0.0,\"#0d0887\"],[0.1111111111111111,\"#46039f\"],[0.2222222222222222,\"#7201a8\"],[0.3333333333333333,\"#9c179e\"],[0.4444444444444444,\"#bd3786\"],[0.5555555555555556,\"#d8576b\"],[0.6666666666666666,\"#ed7953\"],[0.7777777777777778,\"#fb9f3a\"],[0.8888888888888888,\"#fdca26\"],[1.0,\"#f0f921\"]],\"diverging\":[[0,\"#8e0152\"],[0.1,\"#c51b7d\"],[0.2,\"#de77ae\"],[0.3,\"#f1b6da\"],[0.4,\"#fde0ef\"],[0.5,\"#f7f7f7\"],[0.6,\"#e6f5d0\"],[0.7,\"#b8e186\"],[0.8,\"#7fbc41\"],[0.9,\"#4d9221\"],[1,\"#276419\"]]},\"xaxis\":{\"gridcolor\":\"white\",\"linecolor\":\"white\",\"ticks\":\"\",\"title\":{\"standoff\":15},\"zerolinecolor\":\"white\",\"automargin\":true,\"zerolinewidth\":2},\"yaxis\":{\"gridcolor\":\"white\",\"linecolor\":\"white\",\"ticks\":\"\",\"title\":{\"standoff\":15},\"zerolinecolor\":\"white\",\"automargin\":true,\"zerolinewidth\":2},\"scene\":{\"xaxis\":{\"backgroundcolor\":\"#E5ECF6\",\"gridcolor\":\"white\",\"linecolor\":\"white\",\"showbackground\":true,\"ticks\":\"\",\"zerolinecolor\":\"white\",\"gridwidth\":2},\"yaxis\":{\"backgroundcolor\":\"#E5ECF6\",\"gridcolor\":\"white\",\"linecolor\":\"white\",\"showbackground\":true,\"ticks\":\"\",\"zerolinecolor\":\"white\",\"gridwidth\":2},\"zaxis\":{\"backgroundcolor\":\"#E5ECF6\",\"gridcolor\":\"white\",\"linecolor\":\"white\",\"showbackground\":true,\"ticks\":\"\",\"zerolinecolor\":\"white\",\"gridwidth\":2}},\"shapedefaults\":{\"line\":{\"color\":\"#2a3f5f\"}},\"annotationdefaults\":{\"arrowcolor\":\"#2a3f5f\",\"arrowhead\":0,\"arrowwidth\":1},\"geo\":{\"bgcolor\":\"white\",\"landcolor\":\"#E5ECF6\",\"subunitcolor\":\"white\",\"showland\":true,\"showlakes\":true,\"lakecolor\":\"white\"},\"title\":{\"x\":0.05},\"mapbox\":{\"style\":\"light\"}}},\"xaxis\":{\"anchor\":\"y\",\"domain\":[0.0,1.0]},\"yaxis\":{\"anchor\":\"x\",\"domain\":[0.0,1.0],\"title\":{\"text\":\"price\"}},\"legend\":{\"tracegroupgap\":0},\"title\":{\"text\":\"Bo\\u00eete \\u00e0 moustaches de la r\\u00e9partition des prix\"},\"boxmode\":\"group\"},                        {\"responsive\": true}                    ).then(function(){\n",
       "                            \n",
       "var gd = document.getElementById('1485a10f-a72c-4aa6-b85e-abfa35ea65cf');\n",
       "var x = new MutationObserver(function (mutations, observer) {{\n",
       "        var display = window.getComputedStyle(gd).display;\n",
       "        if (!display || display === 'none') {{\n",
       "            console.log([gd, 'removed!']);\n",
       "            Plotly.purge(gd);\n",
       "            observer.disconnect();\n",
       "        }}\n",
       "}});\n",
       "\n",
       "// Listen for the removal of the full notebook cells\n",
       "var notebookContainer = gd.closest('#notebook-container');\n",
       "if (notebookContainer) {{\n",
       "    x.observe(notebookContainer, {childList: true});\n",
       "}}\n",
       "\n",
       "// Listen for the clearing of the current output cell\n",
       "var outputEl = gd.closest('.output');\n",
       "if (outputEl) {{\n",
       "    x.observe(outputEl, {childList: true});\n",
       "}}\n",
       "\n",
       "                        })                };                });            </script>        </div>"
      ]
     },
     "metadata": {},
     "output_type": "display_data"
    }
   ],
   "source": [
    "#Autre méthode avec plotly express\n",
    "fig = px.box(df_erp, y='price', title='Boîte à moustaches de la répartition des prix')\n",
    "\n",
    "# Afficher le graphique interactif\n",
    "fig.show()\n"
   ]
  },
  {
   "cell_type": "markdown",
   "id": "79e2f2eb",
   "metadata": {
    "jp-MarkdownHeadingCollapsed": true
   },
   "source": [
    "<div style=\"border: 1px solid RGB(51,165,182);\" >\n",
    "<h3 style=\"margin: auto; padding: 20px; color: RGB(51,165,182); \">Etape 4.2 - Exploration par l'utisation de méthodes statistique</h3>\n",
    "</div>"
   ]
  },
  {
   "cell_type": "markdown",
   "id": "0735c3b2",
   "metadata": {},
   "source": [
    "<div style=\"border: 1px solid RGB(51,165,182);\" >\n",
    "<h3 style=\"margin: auto; padding: 20px; color: RGB(51,165,182); \">Etape 4.2.1 - Identification par le Z-index</h3>\n",
    "</div>"
   ]
  },
  {
   "cell_type": "code",
   "execution_count": 131,
   "id": "1950ef8d",
   "metadata": {},
   "outputs": [
    {
     "name": "stdout",
     "output_type": "stream",
     "text": [
      "La moyenne du prix est : 32.35\n",
      "L'écart-type du prix est : 26.62\n",
      "\n",
      "0   -0.306144\n",
      "1    0.073235\n",
      "2   -0.433856\n",
      "3   -0.685523\n",
      "4    0.512714\n",
      "Name: z_score_prix, dtype: float64\n"
     ]
    }
   ],
   "source": [
    "#Calculer la moyenne du prix\n",
    "moyenne_prix = df_erp['price'].mean()\n",
    "\n",
    "# Afficher la moyenne du prix\n",
    "print(f'La moyenne du prix est : {moyenne_prix:,.2f}')\n",
    "\n",
    "#Calculer l'écart-type du prix\n",
    "ecart_type_prix = df_erp['price'].std()\n",
    "\n",
    "# Afficher l'écart-type\n",
    "print(f\"L'écart-type du prix est : {ecart_type_prix:,.2f}\\n\")\n",
    "\n",
    "#Calculer le Z-score\n",
    "df_erp['z_score_prix'] = (df_erp['price'] - moyenne_prix) / ecart_type_prix\n",
    "\n",
    "# Afficher le DataFrame avec le Z-score ajouté\n",
    "print(df_erp['z_score_prix'].head())\n"
   ]
  },
  {
   "cell_type": "code",
   "execution_count": 132,
   "id": "9c2f435f",
   "metadata": {},
   "outputs": [
    {
     "name": "stdout",
     "output_type": "stream",
     "text": [
      "Les prix dont le Z-score est supérieur à 3 sont : [225.0, 176.0, 157.0, 144.0, 137.0, 217.5, 124.8, 175.0, 191.3, 122.0, 114.0, 135.0, 116.4, 115.0, 121.0, 115.0, 121.0]\n"
     ]
    }
   ],
   "source": [
    "#Quel est le seuil prix dont z-score est supérieur à 3?\n",
    "prix_seuil = df_erp[df_erp['z_score_prix'] > 3]['price']\n",
    "\n",
    "# Afficher le seuil\n",
    "print(f\"Les prix dont le Z-score est supérieur à 3 sont : {prix_seuil.tolist()}\")\n"
   ]
  },
  {
   "cell_type": "markdown",
   "id": "750f54f3",
   "metadata": {},
   "source": [
    "<div style=\"border: 1px solid RGB(51,165,182);\" >\n",
    "<h3 style=\"margin: auto; padding: 20px; color: RGB(51,165,182); \">Etape 4.2.2 - Identification par l'interval interquartile</h3>\n",
    "</div>"
   ]
  },
  {
   "cell_type": "code",
   "execution_count": 133,
   "id": "6c0db8c0",
   "metadata": {},
   "outputs": [
    {
     "data": {
      "text/plain": [
       "count    822.000000\n",
       "mean      32.350304\n",
       "std       26.622453\n",
       "min        5.200000\n",
       "25%       14.600000\n",
       "50%       24.400000\n",
       "75%       42.000000\n",
       "max      225.000000\n",
       "Name: price, dtype: float64"
      ]
     },
     "execution_count": 133,
     "metadata": {},
     "output_type": "execute_result"
    }
   ],
   "source": [
    "#Utilisation de la fonction describe de Pandas pour l'etude des mesures de dispersions\n",
    "df_erp['price'].describe()\n"
   ]
  },
  {
   "cell_type": "code",
   "execution_count": 134,
   "id": "a458ca14",
   "metadata": {},
   "outputs": [],
   "source": [
    "#Définissez un seuil pour les articles \"outliers\" en prix\n",
    "\n",
    "#calcule des quartiles\n",
    "Q1 = df_erp['price'].quantile(0.25)\n",
    "Q3 = df_erp['price'].quantile(0.75)\n",
    "#calcule IQR\n",
    "IQR = Q3-Q1\n",
    "lower_bound = Q1 - 1.5 * IQR\n",
    "upper_bound = Q3 + 1.5 * IQR\n"
   ]
  },
  {
   "cell_type": "code",
   "execution_count": 135,
   "id": "7d05cde7",
   "metadata": {},
   "outputs": [
    {
     "name": "stdout",
     "output_type": "stream",
     "text": [
      "Nombre d'outliers : 36\n"
     ]
    }
   ],
   "source": [
    "#Définissez le nombre d'articles et la proportion de l'ensemble du catalogue \"outliers\"\n",
    "\n",
    "# Filtrer les articles dont le prix est un outlier\n",
    "outliers = df_erp[(df_erp['price'] < lower_bound) | (df_erp['price'] > upper_bound)]\n",
    "\n",
    "# print (outliers)\n",
    "number_of_outliers = outliers.shape[0]  # Le nombre de lignes (outliers)\n",
    "print(f\"Nombre d'outliers : {number_of_outliers}\")\n"
   ]
  },
  {
   "cell_type": "code",
   "execution_count": 136,
   "id": "06138432",
   "metadata": {},
   "outputs": [
    {
     "name": "stdout",
     "output_type": "stream",
     "text": [
      "Corrélation entre 'price' et 'purchase_price': 0.97\n"
     ]
    },
    {
     "data": {
      "image/png": "[encoded data removed]",
      "text/plain": [
       "<Figure size 500x500 with 1 Axes>"
      ]
     },
     "metadata": {},
     "output_type": "display_data"
    }
   ],
   "source": [
    "#Selon vous, ces outliers sont-ils justifiés ? \n",
    "#Comment le démontrer si cela est possible ?\n",
    "import seaborn as sns\n",
    "correlation = df_erp[['price', 'purchase_price']].corr().loc['price', 'purchase_price']\n",
    "\n",
    "print(f\"Corrélation entre 'price' et 'purchase_price': {correlation:.2f}\")\n",
    "sns.lmplot(x='price', y='purchase_price', data=df_erp)\n",
    "plt.title('Relation entre Price et Purchase Price')\n",
    "plt.show()\n"
   ]
  },
  {
   "cell_type": "markdown",
   "id": "05c732ef-a9a4-4cd1-bc35-b811a605bba0",
   "metadata": {},
   "source": [
    "Corrélation entre 'price' et 'purchase_price': 0.97 (forte relation positive entre les deux variables).\n",
    "L'analyse des corrélations entre price et purchase_price montre qu'un prix de vente plus élevé est lié à un prix d'achat élevé : \n",
    "par exmple un vin rare ou haut de gamme coûte naturellement plus cher que la plupart des autres produits."
   ]
  },
  {
   "cell_type": "markdown",
   "id": "640da2c8",
   "metadata": {},
   "source": [
    "<div style=\"background-color: RGB(51,165,182);\" >\n",
    "<h2 style=\"margin: auto; padding: 20px; color:#fff; \">Etape 5 - Analyse univarié du CA, des quantités vendues, des stocks et de la marge ainsi qu'une analyse multivarié  </h2>\n",
    "</div>"
   ]
  },
  {
   "cell_type": "markdown",
   "id": "5871c808",
   "metadata": {},
   "source": [
    "<div style=\"border: 1px solid RGB(51,165,182);\" >\n",
    "<h3 style=\"margin: auto; padding: 20px; color: RGB(51,165,182); \">Etape 5.1 - Analyse des ventes en CA</h3>\n",
    "</div>"
   ]
  },
  {
   "cell_type": "code",
   "execution_count": 137,
   "id": "da0d5834",
   "metadata": {},
   "outputs": [
    {
     "name": "stdout",
     "output_type": "stream",
     "text": [
      "Le chiffre d'affaires total généré par les ventes sur le site web est : 153353.90\n"
     ]
    }
   ],
   "source": [
    "##############################\n",
    "# Calculer le CA su site web #\n",
    "##############################\n",
    "\n",
    "#Créez une colonne calculant le CA par article\n",
    "merged_df['ca_par_article'] = merged_df['total_sales'] * merged_df['price']\n",
    "\n",
    "#Calculez la somme de la colonne \"ca_par_article\"\n",
    "total_ca = merged_df['ca_par_article'].sum()\n",
    "\n",
    "print(f\"Le chiffre d'affaires total généré par les ventes sur le site web est : {total_ca:.2f}\")\n",
    "\n",
    "#Ce résultat correspond au chiffre d'affaire du site web? \n",
    "\n",
    "#Oui ce résultat correspond bien au chiffre d'affaire total généré par les ventes sur le site web car la colonne 'total_sales' représente bien le nombre \n",
    "#d'articles vendus sur le site pour chaque article et la colonne 'price' est le prix unitaire de chaque article tel qu'il a été vendu sur le site web."
   ]
  },
  {
   "cell_type": "code",
   "execution_count": 138,
   "id": "4040ced7",
   "metadata": {},
   "outputs": [
    {
     "data": {
      "application/vnd.plotly.v1+json": {
       "config": {
        "plotlyServerURL": "https://plot.ly"
       },
       "data": [
        {
         "alignmentgroup": "True",
         "hovertemplate": "Product ID=%{x}<br>Chiffre d'Affaires=%{marker.color}<extra></extra>",
         "legendgroup": "",
         "marker": {
          "color": [
           6844,
           2475,
           1549.3999999999999,
           1317.8,
           1232.1,
           1147.8000000000002,
           1113,
           824,
           805,
           781.1999999999999,
           735,
           700,
           675,
           672,
           633.5999999999999,
           628,
           627,
           616,
           599.1999999999999,
           594
          ],
          "coloraxis": "coloraxis",
          "pattern": {
           "shape": ""
          }
         },
         "name": "",
         "offsetgroup": "",
         "orientation": "v",
         "showlegend": false,
         "text": [
          6844,
          2475,
          1549.3999999999999,
          1317.8,
          1232.1,
          1147.8000000000002,
          1113,
          824,
          805,
          781.1999999999999,
          735,
          700,
          675,
          672,
          633.5999999999999,
          628,
          627,
          616,
          599.1999999999999,
          594
         ],
         "textposition": "outside",
         "texttemplate": "%{text:.2s}",
         "type": "bar",
         "x": [
          "4150.0",
          "4352.0",
          "4726.0",
          "5067.0",
          "5379.0",
          "5892.0",
          "4353.0",
          "5826.0",
          "6212.0",
          "5026.0",
          "5008.0",
          "5767.0",
          "6126.0",
          "5025.0",
          "6201.0",
          "4406.0",
          "4647.0",
          "4358.0",
          "4359.0",
          "6214.0"
         ],
         "xaxis": "x",
         "y": [
          6844,
          2475,
          1549.3999999999999,
          1317.8,
          1232.1,
          1147.8000000000002,
          1113,
          824,
          805,
          781.1999999999999,
          735,
          700,
          675,
          672,
          633.5999999999999,
          628,
          627,
          616,
          599.1999999999999,
          594
         ],
         "yaxis": "y"
        }
       ],
       "layout": {
        "autosize": true,
        "barmode": "relative",
        "coloraxis": {
         "colorbar": {
          "title": {
           "text": "Chiffre d'Affaires"
          }
         },
         "colorscale": [
          [
           0,
           "#0d0887"
          ],
          [
           0.1111111111111111,
           "#46039f"
          ],
          [
           0.2222222222222222,
           "#7201a8"
          ],
          [
           0.3333333333333333,
           "#9c179e"
          ],
          [
           0.4444444444444444,
           "#bd3786"
          ],
          [
           0.5555555555555556,
           "#d8576b"
          ],
          [
           0.6666666666666666,
           "#ed7953"
          ],
          [
           0.7777777777777778,
           "#fb9f3a"
          ],
          [
           0.8888888888888888,
           "#fdca26"
          ],
          [
           1,
           "#f0f921"
          ]
         ]
        },
        "legend": {
         "tracegroupgap": 0
        },
        "margin": {
         "b": 50,
         "t": 50
        },
        "template": {
         "data": {
          "bar": [
           {
            "error_x": {
             "color": "#2a3f5f"
            },
            "error_y": {
             "color": "#2a3f5f"
            },
            "marker": {
             "line": {
              "color": "#E5ECF6",
              "width": 0.5
             },
             "pattern": {
              "fillmode": "overlay",
              "size": 10,
              "solidity": 0.2
             }
            },
            "type": "bar"
           }
          ],
          "barpolar": [
           {
            "marker": {
             "line": {
              "color": "#E5ECF6",
              "width": 0.5
             },
             "pattern": {
              "fillmode": "overlay",
              "size": 10,
              "solidity": 0.2
             }
            },
            "type": "barpolar"
           }
          ],
          "carpet": [
           {
            "aaxis": {
             "endlinecolor": "#2a3f5f",
             "gridcolor": "white",
             "linecolor": "white",
             "minorgridcolor": "white",
             "startlinecolor": "#2a3f5f"
            },
            "baxis": {
             "endlinecolor": "#2a3f5f",
             "gridcolor": "white",
             "linecolor": "white",
             "minorgridcolor": "white",
             "startlinecolor": "#2a3f5f"
            },
            "type": "carpet"
           }
          ],
          "choropleth": [
           {
            "colorbar": {
             "outlinewidth": 0,
             "ticks": ""
            },
            "type": "choropleth"
           }
          ],
          "contour": [
           {
            "colorbar": {
             "outlinewidth": 0,
             "ticks": ""
            },
            "colorscale": [
             [
              0,
              "#0d0887"
             ],
             [
              0.1111111111111111,
              "#46039f"
             ],
             [
              0.2222222222222222,
              "#7201a8"
             ],
             [
              0.3333333333333333,
              "#9c179e"
             ],
             [
              0.4444444444444444,
              "#bd3786"
             ],
             [
              0.5555555555555556,
              "#d8576b"
             ],
             [
              0.6666666666666666,
              "#ed7953"
             ],
             [
              0.7777777777777778,
              "#fb9f3a"
             ],
             [
              0.8888888888888888,
              "#fdca26"
             ],
             [
              1,
              "#f0f921"
             ]
            ],
            "type": "contour"
           }
          ],
          "contourcarpet": [
           {
            "colorbar": {
             "outlinewidth": 0,
             "ticks": ""
            },
            "type": "contourcarpet"
           }
          ],
          "heatmap": [
           {
            "colorbar": {
             "outlinewidth": 0,
             "ticks": ""
            },
            "colorscale": [
             [
              0,
              "#0d0887"
             ],
             [
              0.1111111111111111,
              "#46039f"
             ],
             [
              0.2222222222222222,
              "#7201a8"
             ],
             [
              0.3333333333333333,
              "#9c179e"
             ],
             [
              0.4444444444444444,
              "#bd3786"
             ],
             [
              0.5555555555555556,
              "#d8576b"
             ],
             [
              0.6666666666666666,
              "#ed7953"
             ],
             [
              0.7777777777777778,
              "#fb9f3a"
             ],
             [
              0.8888888888888888,
              "#fdca26"
             ],
             [
              1,
              "#f0f921"
             ]
            ],
            "type": "heatmap"
           }
          ],
          "heatmapgl": [
           {
            "colorbar": {
             "outlinewidth": 0,
             "ticks": ""
            },
            "colorscale": [
             [
              0,
              "#0d0887"
             ],
             [
              0.1111111111111111,
              "#46039f"
             ],
             [
              0.2222222222222222,
              "#7201a8"
             ],
             [
              0.3333333333333333,
              "#9c179e"
             ],
             [
              0.4444444444444444,
              "#bd3786"
             ],
             [
              0.5555555555555556,
              "#d8576b"
             ],
             [
              0.6666666666666666,
              "#ed7953"
             ],
             [
              0.7777777777777778,
              "#fb9f3a"
             ],
             [
              0.8888888888888888,
              "#fdca26"
             ],
             [
              1,
              "#f0f921"
             ]
            ],
            "type": "heatmapgl"
           }
          ],
          "histogram": [
           {
            "marker": {
             "pattern": {
              "fillmode": "overlay",
              "size": 10,
              "solidity": 0.2
             }
            },
            "type": "histogram"
           }
          ],
          "histogram2d": [
           {
            "colorbar": {
             "outlinewidth": 0,
             "ticks": ""
            },
            "colorscale": [
             [
              0,
              "#0d0887"
             ],
             [
              0.1111111111111111,
              "#46039f"
             ],
             [
              0.2222222222222222,
              "#7201a8"
             ],
             [
              0.3333333333333333,
              "#9c179e"
             ],
             [
              0.4444444444444444,
              "#bd3786"
             ],
             [
              0.5555555555555556,
              "#d8576b"
             ],
             [
              0.6666666666666666,
              "#ed7953"
             ],
             [
              0.7777777777777778,
              "#fb9f3a"
             ],
             [
              0.8888888888888888,
              "#fdca26"
             ],
             [
              1,
              "#f0f921"
             ]
            ],
            "type": "histogram2d"
           }
          ],
          "histogram2dcontour": [
           {
            "colorbar": {
             "outlinewidth": 0,
             "ticks": ""
            },
            "colorscale": [
             [
              0,
              "#0d0887"
             ],
             [
              0.1111111111111111,
              "#46039f"
             ],
             [
              0.2222222222222222,
              "#7201a8"
             ],
             [
              0.3333333333333333,
              "#9c179e"
             ],
             [
              0.4444444444444444,
              "#bd3786"
             ],
             [
              0.5555555555555556,
              "#d8576b"
             ],
             [
              0.6666666666666666,
              "#ed7953"
             ],
             [
              0.7777777777777778,
              "#fb9f3a"
             ],
             [
              0.8888888888888888,
              "#fdca26"
             ],
             [
              1,
              "#f0f921"
             ]
            ],
            "type": "histogram2dcontour"
           }
          ],
          "mesh3d": [
           {
            "colorbar": {
             "outlinewidth": 0,
             "ticks": ""
            },
            "type": "mesh3d"
           }
          ],
          "parcoords": [
           {
            "line": {
             "colorbar": {
              "outlinewidth": 0,
              "ticks": ""
             }
            },
            "type": "parcoords"
           }
          ],
          "pie": [
           {
            "automargin": true,
            "type": "pie"
           }
          ],
          "scatter": [
           {
            "fillpattern": {
             "fillmode": "overlay",
             "size": 10,
             "solidity": 0.2
            },
            "type": "scatter"
           }
          ],
          "scatter3d": [
           {
            "line": {
             "colorbar": {
              "outlinewidth": 0,
              "ticks": ""
             }
            },
            "marker": {
             "colorbar": {
              "outlinewidth": 0,
              "ticks": ""
             }
            },
            "type": "scatter3d"
           }
          ],
          "scattercarpet": [
           {
            "marker": {
             "colorbar": {
              "outlinewidth": 0,
              "ticks": ""
             }
            },
            "type": "scattercarpet"
           }
          ],
          "scattergeo": [
           {
            "marker": {
             "colorbar": {
              "outlinewidth": 0,
              "ticks": ""
             }
            },
            "type": "scattergeo"
           }
          ],
          "scattergl": [
           {
            "marker": {
             "colorbar": {
              "outlinewidth": 0,
              "ticks": ""
             }
            },
            "type": "scattergl"
           }
          ],
          "scattermapbox": [
           {
            "marker": {
             "colorbar": {
              "outlinewidth": 0,
              "ticks": ""
             }
            },
            "type": "scattermapbox"
           }
          ],
          "scatterpolar": [
           {
            "marker": {
             "colorbar": {
              "outlinewidth": 0,
              "ticks": ""
             }
            },
            "type": "scatterpolar"
           }
          ],
          "scatterpolargl": [
           {
            "marker": {
             "colorbar": {
              "outlinewidth": 0,
              "ticks": ""
             }
            },
            "type": "scatterpolargl"
           }
          ],
          "scatterternary": [
           {
            "marker": {
             "colorbar": {
              "outlinewidth": 0,
              "ticks": ""
             }
            },
            "type": "scatterternary"
           }
          ],
          "surface": [
           {
            "colorbar": {
             "outlinewidth": 0,
             "ticks": ""
            },
            "colorscale": [
             [
              0,
              "#0d0887"
             ],
             [
              0.1111111111111111,
              "#46039f"
             ],
             [
              0.2222222222222222,
              "#7201a8"
             ],
             [
              0.3333333333333333,
              "#9c179e"
             ],
             [
              0.4444444444444444,
              "#bd3786"
             ],
             [
              0.5555555555555556,
              "#d8576b"
             ],
             [
              0.6666666666666666,
              "#ed7953"
             ],
             [
              0.7777777777777778,
              "#fb9f3a"
             ],
             [
              0.8888888888888888,
              "#fdca26"
             ],
             [
              1,
              "#f0f921"
             ]
            ],
            "type": "surface"
           }
          ],
          "table": [
           {
            "cells": {
             "fill": {
              "color": "#EBF0F8"
             },
             "line": {
              "color": "white"
             }
            },
            "header": {
             "fill": {
              "color": "#C8D4E3"
             },
             "line": {
              "color": "white"
             }
            },
            "type": "table"
           }
          ]
         },
         "layout": {
          "annotationdefaults": {
           "arrowcolor": "#2a3f5f",
           "arrowhead": 0,
           "arrowwidth": 1
          },
          "autotypenumbers": "strict",
          "coloraxis": {
           "colorbar": {
            "outlinewidth": 0,
            "ticks": ""
           }
          },
          "colorscale": {
           "diverging": [
            [
             0,
             "#8e0152"
            ],
            [
             0.1,
             "#c51b7d"
            ],
            [
             0.2,
             "#de77ae"
            ],
            [
             0.3,
             "#f1b6da"
            ],
            [
             0.4,
             "#fde0ef"
            ],
            [
             0.5,
             "#f7f7f7"
            ],
            [
             0.6,
             "#e6f5d0"
            ],
            [
             0.7,
             "#b8e186"
            ],
            [
             0.8,
             "#7fbc41"
            ],
            [
             0.9,
             "#4d9221"
            ],
            [
             1,
             "#276419"
            ]
           ],
           "sequential": [
            [
             0,
             "#0d0887"
            ],
            [
             0.1111111111111111,
             "#46039f"
            ],
            [
             0.2222222222222222,
             "#7201a8"
            ],
            [
             0.3333333333333333,
             "#9c179e"
            ],
            [
             0.4444444444444444,
             "#bd3786"
            ],
            [
             0.5555555555555556,
             "#d8576b"
            ],
            [
             0.6666666666666666,
             "#ed7953"
            ],
            [
             0.7777777777777778,
             "#fb9f3a"
            ],
            [
             0.8888888888888888,
             "#fdca26"
            ],
            [
             1,
             "#f0f921"
            ]
           ],
           "sequentialminus": [
            [
             0,
             "#0d0887"
            ],
            [
             0.1111111111111111,
             "#46039f"
            ],
            [
             0.2222222222222222,
             "#7201a8"
            ],
            [
             0.3333333333333333,
             "#9c179e"
            ],
            [
             0.4444444444444444,
             "#bd3786"
            ],
            [
             0.5555555555555556,
             "#d8576b"
            ],
            [
             0.6666666666666666,
             "#ed7953"
            ],
            [
             0.7777777777777778,
             "#fb9f3a"
            ],
            [
             0.8888888888888888,
             "#fdca26"
            ],
            [
             1,
             "#f0f921"
            ]
           ]
          },
          "colorway": [
           "#636efa",
           "#EF553B",
           "#00cc96",
           "#ab63fa",
           "#FFA15A",
           "#19d3f3",
           "#FF6692",
           "#B6E880",
           "#FF97FF",
           "#FECB52"
          ],
          "font": {
           "color": "#2a3f5f"
          },
          "geo": {
           "bgcolor": "white",
           "lakecolor": "white",
           "landcolor": "#E5ECF6",
           "showlakes": true,
           "showland": true,
           "subunitcolor": "white"
          },
          "hoverlabel": {
           "align": "left"
          },
          "hovermode": "closest",
          "mapbox": {
           "style": "light"
          },
          "paper_bgcolor": "white",
          "plot_bgcolor": "#E5ECF6",
          "polar": {
           "angularaxis": {
            "gridcolor": "white",
            "linecolor": "white",
            "ticks": ""
           },
           "bgcolor": "#E5ECF6",
           "radialaxis": {
            "gridcolor": "white",
            "linecolor": "white",
            "ticks": ""
           }
          },
          "scene": {
           "xaxis": {
            "backgroundcolor": "#E5ECF6",
            "gridcolor": "white",
            "gridwidth": 2,
            "linecolor": "white",
            "showbackground": true,
            "ticks": "",
            "zerolinecolor": "white"
           },
           "yaxis": {
            "backgroundcolor": "#E5ECF6",
            "gridcolor": "white",
            "gridwidth": 2,
            "linecolor": "white",
            "showbackground": true,
            "ticks": "",
            "zerolinecolor": "white"
           },
           "zaxis": {
            "backgroundcolor": "#E5ECF6",
            "gridcolor": "white",
            "gridwidth": 2,
            "linecolor": "white",
            "showbackground": true,
            "ticks": "",
            "zerolinecolor": "white"
           }
          },
          "shapedefaults": {
           "line": {
            "color": "#2a3f5f"
           }
          },
          "ternary": {
           "aaxis": {
            "gridcolor": "white",
            "linecolor": "white",
            "ticks": ""
           },
           "baxis": {
            "gridcolor": "white",
            "linecolor": "white",
            "ticks": ""
           },
           "bgcolor": "#E5ECF6",
           "caxis": {
            "gridcolor": "white",
            "linecolor": "white",
            "ticks": ""
           }
          },
          "title": {
           "x": 0.05
          },
          "xaxis": {
           "automargin": true,
           "gridcolor": "white",
           "linecolor": "white",
           "ticks": "",
           "title": {
            "standoff": 15
           },
           "zerolinecolor": "white",
           "zerolinewidth": 2
          },
          "yaxis": {
           "automargin": true,
           "gridcolor": "white",
           "linecolor": "white",
           "ticks": "",
           "title": {
            "standoff": 15
           },
           "zerolinecolor": "white",
           "zerolinewidth": 2
          }
         }
        },
        "title": {
         "text": "Top 20 des articles par chiffre d'affaires"
        },
        "xaxis": {
         "anchor": "y",
         "autorange": true,
         "domain": [
          0,
          1
         ],
         "range": [
          -0.5,
          19.5
         ],
         "title": {
          "text": "Product ID"
         },
         "type": "category"
        },
        "yaxis": {
         "anchor": "x",
         "autorange": true,
         "domain": [
          0,
          1
         ],
         "range": [
          0,
          7204.210526315789
         ],
         "title": {
          "text": "Chiffre d'Affaires"
         },
         "type": "linear"
        }
       }
      },
      "image/png": "[encoded data removed]",
      "text/html": [
       "<div>                            <div id=\"1f3d6018-85e2-47e4-adb4-2c0efe2c7306\" class=\"plotly-graph-div\" style=\"height:500px; width:100%;\"></div>            <script type=\"text/javascript\">                require([\"plotly\"], function(Plotly) {                    window.PLOTLYENV=window.PLOTLYENV || {};                                    if (document.getElementById(\"1f3d6018-85e2-47e4-adb4-2c0efe2c7306\")) {                    Plotly.newPlot(                        \"1f3d6018-85e2-47e4-adb4-2c0efe2c7306\",                        [{\"alignmentgroup\":\"True\",\"hovertemplate\":\"Product ID=%{x}\\u003cbr\\u003eChiffre d'Affaires=%{marker.color}\\u003cextra\\u003e\\u003c\\u002fextra\\u003e\",\"legendgroup\":\"\",\"marker\":{\"color\":[6844.0,2475.0,1549.3999999999999,1317.8,1232.1,1147.8000000000002,1113.0,824.0,805.0,781.1999999999999,735.0,700.0,675.0,672.0,633.5999999999999,628.0,627.0,616.0,599.1999999999999,594.0],\"coloraxis\":\"coloraxis\",\"pattern\":{\"shape\":\"\"}},\"name\":\"\",\"offsetgroup\":\"\",\"orientation\":\"v\",\"showlegend\":false,\"text\":[6844.0,2475.0,1549.3999999999999,1317.8,1232.1,1147.8000000000002,1113.0,824.0,805.0,781.1999999999999,735.0,700.0,675.0,672.0,633.5999999999999,628.0,627.0,616.0,599.1999999999999,594.0],\"textposition\":\"outside\",\"x\":[\"4150.0\",\"4352.0\",\"4726.0\",\"5067.0\",\"5379.0\",\"5892.0\",\"4353.0\",\"5826.0\",\"6212.0\",\"5026.0\",\"5008.0\",\"5767.0\",\"6126.0\",\"5025.0\",\"6201.0\",\"4406.0\",\"4647.0\",\"4358.0\",\"4359.0\",\"6214.0\"],\"xaxis\":\"x\",\"y\":[6844.0,2475.0,1549.3999999999999,1317.8,1232.1,1147.8000000000002,1113.0,824.0,805.0,781.1999999999999,735.0,700.0,675.0,672.0,633.5999999999999,628.0,627.0,616.0,599.1999999999999,594.0],\"yaxis\":\"y\",\"type\":\"bar\",\"texttemplate\":\"%{text:.2s}\"}],                        {\"template\":{\"data\":{\"histogram2dcontour\":[{\"type\":\"histogram2dcontour\",\"colorbar\":{\"outlinewidth\":0,\"ticks\":\"\"},\"colorscale\":[[0.0,\"#0d0887\"],[0.1111111111111111,\"#46039f\"],[0.2222222222222222,\"#7201a8\"],[0.3333333333333333,\"#9c179e\"],[0.4444444444444444,\"#bd3786\"],[0.5555555555555556,\"#d8576b\"],[0.6666666666666666,\"#ed7953\"],[0.7777777777777778,\"#fb9f3a\"],[0.8888888888888888,\"#fdca26\"],[1.0,\"#f0f921\"]]}],\"choropleth\":[{\"type\":\"choropleth\",\"colorbar\":{\"outlinewidth\":0,\"ticks\":\"\"}}],\"histogram2d\":[{\"type\":\"histogram2d\",\"colorbar\":{\"outlinewidth\":0,\"ticks\":\"\"},\"colorscale\":[[0.0,\"#0d0887\"],[0.1111111111111111,\"#46039f\"],[0.2222222222222222,\"#7201a8\"],[0.3333333333333333,\"#9c179e\"],[0.4444444444444444,\"#bd3786\"],[0.5555555555555556,\"#d8576b\"],[0.6666666666666666,\"#ed7953\"],[0.7777777777777778,\"#fb9f3a\"],[0.8888888888888888,\"#fdca26\"],[1.0,\"#f0f921\"]]}],\"heatmap\":[{\"type\":\"heatmap\",\"colorbar\":{\"outlinewidth\":0,\"ticks\":\"\"},\"colorscale\":[[0.0,\"#0d0887\"],[0.1111111111111111,\"#46039f\"],[0.2222222222222222,\"#7201a8\"],[0.3333333333333333,\"#9c179e\"],[0.4444444444444444,\"#bd3786\"],[0.5555555555555556,\"#d8576b\"],[0.6666666666666666,\"#ed7953\"],[0.7777777777777778,\"#fb9f3a\"],[0.8888888888888888,\"#fdca26\"],[1.0,\"#f0f921\"]]}],\"heatmapgl\":[{\"type\":\"heatmapgl\",\"colorbar\":{\"outlinewidth\":0,\"ticks\":\"\"},\"colorscale\":[[0.0,\"#0d0887\"],[0.1111111111111111,\"#46039f\"],[0.2222222222222222,\"#7201a8\"],[0.3333333333333333,\"#9c179e\"],[0.4444444444444444,\"#bd3786\"],[0.5555555555555556,\"#d8576b\"],[0.6666666666666666,\"#ed7953\"],[0.7777777777777778,\"#fb9f3a\"],[0.8888888888888888,\"#fdca26\"],[1.0,\"#f0f921\"]]}],\"contourcarpet\":[{\"type\":\"contourcarpet\",\"colorbar\":{\"outlinewidth\":0,\"ticks\":\"\"}}],\"contour\":[{\"type\":\"contour\",\"colorbar\":{\"outlinewidth\":0,\"ticks\":\"\"},\"colorscale\":[[0.0,\"#0d0887\"],[0.1111111111111111,\"#46039f\"],[0.2222222222222222,\"#7201a8\"],[0.3333333333333333,\"#9c179e\"],[0.4444444444444444,\"#bd3786\"],[0.5555555555555556,\"#d8576b\"],[0.6666666666666666,\"#ed7953\"],[0.7777777777777778,\"#fb9f3a\"],[0.8888888888888888,\"#fdca26\"],[1.0,\"#f0f921\"]]}],\"surface\":[{\"type\":\"surface\",\"colorbar\":{\"outlinewidth\":0,\"ticks\":\"\"},\"colorscale\":[[0.0,\"#0d0887\"],[0.1111111111111111,\"#46039f\"],[0.2222222222222222,\"#7201a8\"],[0.3333333333333333,\"#9c179e\"],[0.4444444444444444,\"#bd3786\"],[0.5555555555555556,\"#d8576b\"],[0.6666666666666666,\"#ed7953\"],[0.7777777777777778,\"#fb9f3a\"],[0.8888888888888888,\"#fdca26\"],[1.0,\"#f0f921\"]]}],\"mesh3d\":[{\"type\":\"mesh3d\",\"colorbar\":{\"outlinewidth\":0,\"ticks\":\"\"}}],\"scatter\":[{\"fillpattern\":{\"fillmode\":\"overlay\",\"size\":10,\"solidity\":0.2},\"type\":\"scatter\"}],\"parcoords\":[{\"type\":\"parcoords\",\"line\":{\"colorbar\":{\"outlinewidth\":0,\"ticks\":\"\"}}}],\"scatterpolargl\":[{\"type\":\"scatterpolargl\",\"marker\":{\"colorbar\":{\"outlinewidth\":0,\"ticks\":\"\"}}}],\"bar\":[{\"error_x\":{\"color\":\"#2a3f5f\"},\"error_y\":{\"color\":\"#2a3f5f\"},\"marker\":{\"line\":{\"color\":\"#E5ECF6\",\"width\":0.5},\"pattern\":{\"fillmode\":\"overlay\",\"size\":10,\"solidity\":0.2}},\"type\":\"bar\"}],\"scattergeo\":[{\"type\":\"scattergeo\",\"marker\":{\"colorbar\":{\"outlinewidth\":0,\"ticks\":\"\"}}}],\"scatterpolar\":[{\"type\":\"scatterpolar\",\"marker\":{\"colorbar\":{\"outlinewidth\":0,\"ticks\":\"\"}}}],\"histogram\":[{\"marker\":{\"pattern\":{\"fillmode\":\"overlay\",\"size\":10,\"solidity\":0.2}},\"type\":\"histogram\"}],\"scattergl\":[{\"type\":\"scattergl\",\"marker\":{\"colorbar\":{\"outlinewidth\":0,\"ticks\":\"\"}}}],\"scatter3d\":[{\"type\":\"scatter3d\",\"line\":{\"colorbar\":{\"outlinewidth\":0,\"ticks\":\"\"}},\"marker\":{\"colorbar\":{\"outlinewidth\":0,\"ticks\":\"\"}}}],\"scattermapbox\":[{\"type\":\"scattermapbox\",\"marker\":{\"colorbar\":{\"outlinewidth\":0,\"ticks\":\"\"}}}],\"scatterternary\":[{\"type\":\"scatterternary\",\"marker\":{\"colorbar\":{\"outlinewidth\":0,\"ticks\":\"\"}}}],\"scattercarpet\":[{\"type\":\"scattercarpet\",\"marker\":{\"colorbar\":{\"outlinewidth\":0,\"ticks\":\"\"}}}],\"carpet\":[{\"aaxis\":{\"endlinecolor\":\"#2a3f5f\",\"gridcolor\":\"white\",\"linecolor\":\"white\",\"minorgridcolor\":\"white\",\"startlinecolor\":\"#2a3f5f\"},\"baxis\":{\"endlinecolor\":\"#2a3f5f\",\"gridcolor\":\"white\",\"linecolor\":\"white\",\"minorgridcolor\":\"white\",\"startlinecolor\":\"#2a3f5f\"},\"type\":\"carpet\"}],\"table\":[{\"cells\":{\"fill\":{\"color\":\"#EBF0F8\"},\"line\":{\"color\":\"white\"}},\"header\":{\"fill\":{\"color\":\"#C8D4E3\"},\"line\":{\"color\":\"white\"}},\"type\":\"table\"}],\"barpolar\":[{\"marker\":{\"line\":{\"color\":\"#E5ECF6\",\"width\":0.5},\"pattern\":{\"fillmode\":\"overlay\",\"size\":10,\"solidity\":0.2}},\"type\":\"barpolar\"}],\"pie\":[{\"automargin\":true,\"type\":\"pie\"}]},\"layout\":{\"autotypenumbers\":\"strict\",\"colorway\":[\"#636efa\",\"#EF553B\",\"#00cc96\",\"#ab63fa\",\"#FFA15A\",\"#19d3f3\",\"#FF6692\",\"#B6E880\",\"#FF97FF\",\"#FECB52\"],\"font\":{\"color\":\"#2a3f5f\"},\"hovermode\":\"closest\",\"hoverlabel\":{\"align\":\"left\"},\"paper_bgcolor\":\"white\",\"plot_bgcolor\":\"#E5ECF6\",\"polar\":{\"bgcolor\":\"#E5ECF6\",\"angularaxis\":{\"gridcolor\":\"white\",\"linecolor\":\"white\",\"ticks\":\"\"},\"radialaxis\":{\"gridcolor\":\"white\",\"linecolor\":\"white\",\"ticks\":\"\"}},\"ternary\":{\"bgcolor\":\"#E5ECF6\",\"aaxis\":{\"gridcolor\":\"white\",\"linecolor\":\"white\",\"ticks\":\"\"},\"baxis\":{\"gridcolor\":\"white\",\"linecolor\":\"white\",\"ticks\":\"\"},\"caxis\":{\"gridcolor\":\"white\",\"linecolor\":\"white\",\"ticks\":\"\"}},\"coloraxis\":{\"colorbar\":{\"outlinewidth\":0,\"ticks\":\"\"}},\"colorscale\":{\"sequential\":[[0.0,\"#0d0887\"],[0.1111111111111111,\"#46039f\"],[0.2222222222222222,\"#7201a8\"],[0.3333333333333333,\"#9c179e\"],[0.4444444444444444,\"#bd3786\"],[0.5555555555555556,\"#d8576b\"],[0.6666666666666666,\"#ed7953\"],[0.7777777777777778,\"#fb9f3a\"],[0.8888888888888888,\"#fdca26\"],[1.0,\"#f0f921\"]],\"sequentialminus\":[[0.0,\"#0d0887\"],[0.1111111111111111,\"#46039f\"],[0.2222222222222222,\"#7201a8\"],[0.3333333333333333,\"#9c179e\"],[0.4444444444444444,\"#bd3786\"],[0.5555555555555556,\"#d8576b\"],[0.6666666666666666,\"#ed7953\"],[0.7777777777777778,\"#fb9f3a\"],[0.8888888888888888,\"#fdca26\"],[1.0,\"#f0f921\"]],\"diverging\":[[0,\"#8e0152\"],[0.1,\"#c51b7d\"],[0.2,\"#de77ae\"],[0.3,\"#f1b6da\"],[0.4,\"#fde0ef\"],[0.5,\"#f7f7f7\"],[0.6,\"#e6f5d0\"],[0.7,\"#b8e186\"],[0.8,\"#7fbc41\"],[0.9,\"#4d9221\"],[1,\"#276419\"]]},\"xaxis\":{\"gridcolor\":\"white\",\"linecolor\":\"white\",\"ticks\":\"\",\"title\":{\"standoff\":15},\"zerolinecolor\":\"white\",\"automargin\":true,\"zerolinewidth\":2},\"yaxis\":{\"gridcolor\":\"white\",\"linecolor\":\"white\",\"ticks\":\"\",\"title\":{\"standoff\":15},\"zerolinecolor\":\"white\",\"automargin\":true,\"zerolinewidth\":2},\"scene\":{\"xaxis\":{\"backgroundcolor\":\"#E5ECF6\",\"gridcolor\":\"white\",\"linecolor\":\"white\",\"showbackground\":true,\"ticks\":\"\",\"zerolinecolor\":\"white\",\"gridwidth\":2},\"yaxis\":{\"backgroundcolor\":\"#E5ECF6\",\"gridcolor\":\"white\",\"linecolor\":\"white\",\"showbackground\":true,\"ticks\":\"\",\"zerolinecolor\":\"white\",\"gridwidth\":2},\"zaxis\":{\"backgroundcolor\":\"#E5ECF6\",\"gridcolor\":\"white\",\"linecolor\":\"white\",\"showbackground\":true,\"ticks\":\"\",\"zerolinecolor\":\"white\",\"gridwidth\":2}},\"shapedefaults\":{\"line\":{\"color\":\"#2a3f5f\"}},\"annotationdefaults\":{\"arrowcolor\":\"#2a3f5f\",\"arrowhead\":0,\"arrowwidth\":1},\"geo\":{\"bgcolor\":\"white\",\"landcolor\":\"#E5ECF6\",\"subunitcolor\":\"white\",\"showland\":true,\"showlakes\":true,\"lakecolor\":\"white\"},\"title\":{\"x\":0.05},\"mapbox\":{\"style\":\"light\"}}},\"xaxis\":{\"anchor\":\"y\",\"domain\":[0.0,1.0],\"title\":{\"text\":\"Product ID\"}},\"yaxis\":{\"anchor\":\"x\",\"domain\":[0.0,1.0],\"title\":{\"text\":\"Chiffre d'Affaires\"}},\"coloraxis\":{\"colorbar\":{\"title\":{\"text\":\"Chiffre d'Affaires\"}},\"colorscale\":[[0.0,\"#0d0887\"],[0.1111111111111111,\"#46039f\"],[0.2222222222222222,\"#7201a8\"],[0.3333333333333333,\"#9c179e\"],[0.4444444444444444,\"#bd3786\"],[0.5555555555555556,\"#d8576b\"],[0.6666666666666666,\"#ed7953\"],[0.7777777777777778,\"#fb9f3a\"],[0.8888888888888888,\"#fdca26\"],[1.0,\"#f0f921\"]]},\"legend\":{\"tracegroupgap\":0},\"title\":{\"text\":\"Top 20 des articles par chiffre d'affaires\"},\"barmode\":\"relative\",\"margin\":{\"t\":50,\"b\":50},\"height\":500},                        {\"responsive\": true}                    ).then(function(){\n",
       "                            \n",
       "var gd = document.getElementById('1f3d6018-85e2-47e4-adb4-2c0efe2c7306');\n",
       "var x = new MutationObserver(function (mutations, observer) {{\n",
       "        var display = window.getComputedStyle(gd).display;\n",
       "        if (!display || display === 'none') {{\n",
       "            console.log([gd, 'removed!']);\n",
       "            Plotly.purge(gd);\n",
       "            observer.disconnect();\n",
       "        }}\n",
       "}});\n",
       "\n",
       "// Listen for the removal of the full notebook cells\n",
       "var notebookContainer = gd.closest('#notebook-container');\n",
       "if (notebookContainer) {{\n",
       "    x.observe(notebookContainer, {childList: true});\n",
       "}}\n",
       "\n",
       "// Listen for the clearing of the current output cell\n",
       "var outputEl = gd.closest('.output');\n",
       "if (outputEl) {{\n",
       "    x.observe(outputEl, {childList: true});\n",
       "}}\n",
       "\n",
       "                        })                };                });            </script>        </div>"
      ]
     },
     "metadata": {},
     "output_type": "display_data"
    }
   ],
   "source": [
    "###############################\n",
    "# Palmares des articles en CA #\n",
    "###############################\n",
    "\n",
    "# Effectuer le tri dans l'ordre décroissant du CA du dataset merged_df\n",
    "df_trié = merged_df.sort_values(by='ca_par_article', ascending=False).copy()\n",
    "\n",
    "# Réinitialiser l'index du dataset par un reset_index\n",
    "df_trié = df_trié.reset_index(drop=True)\n",
    "\n",
    "# Afficher les top 20 premiers articles en CA\n",
    "top_20_articles = df_trié.head(20).copy()  \n",
    "#print(top_20_articles)\n",
    "\n",
    "top_20_articles [\"product_id\"] =top_20_articles [\"product_id\"].astype(str)\n",
    "\n",
    "# Graphique en barre des 20 premiers articles avec plotly express\n",
    "\n",
    "fig = px.bar(top_20_articles, \n",
    "             x='product_id', \n",
    "             y='ca_par_article', \n",
    "             title='Top 20 des articles par chiffre d\\'affaires',\n",
    "             labels={'product_id': 'Product ID', 'ca_par_article': 'Chiffre d\\'Affaires'},\n",
    "             color='ca_par_article', \n",
    "             color_continuous_scale=px.colors.sequential.Plasma,\n",
    "             text='ca_par_article')  # Ajout des étiquettes de données\n",
    "\n",
    "# Mise à jour des étiquettes (position et format)\n",
    "fig.update_traces(texttemplate='%{text:.2s}', textposition='outside')\n",
    "\n",
    "# Ajustement des marges pour éviter que les étiquettes soient coupées\n",
    "fig.update_layout(\n",
    "    margin=dict(t=50, b=50),\n",
    "    height=500  # Ajuste la hauteur si nécessaire\n",
    ")\n",
    "\n",
    "# Afficher le graphique\n",
    "fig.show()"
   ]
  },
  {
   "cell_type": "code",
   "execution_count": 139,
   "id": "d7e5e87b",
   "metadata": {},
   "outputs": [
    {
     "name": "stdout",
     "output_type": "stream",
     "text": [
      "Le nombre d'articles représentant 80% du CA est : 540\n",
      "Ces articles représentent 65.53% du catalogue total.\n"
     ]
    }
   ],
   "source": [
    "#############################\n",
    "# Calculer le 20 / 80 en CA #\n",
    "#############################\n",
    "\n",
    "# Créer une colonne calculant la part du CA de chaque ligne dans le dataset (en pourcentage)\n",
    "merged_df['part_ca'] = (merged_df['ca_par_article'] / total_ca) * 100\n",
    "\n",
    "#Créer une colonne réalisant la somme cumulative de la colonne 'part_ca'\n",
    "merged_df['total_part_ca'] = merged_df['part_ca'].cumsum()\n",
    "\n",
    "#Grâce aux deux colonnes créées précedemment, calculer le nombre d'articles représentant 80% du CA\n",
    "#Déterminer le seuil de 80% du CA\n",
    "threshold = 80\n",
    "\n",
    "# le nombre d'articles nécessaires pour atteindre ou dépasser 80% du CA\n",
    "articles_80_percent = merged_df[merged_df['total_part_ca'] <= threshold]\n",
    "number_of_articles = len(articles_80_percent)\n",
    "\n",
    "# Calculer la proportion des articles représentant 80% du CA par rapport au nombre total d'articles\n",
    "total_articles = len(merged_df)\n",
    "proportion_articles = (number_of_articles / total_articles) * 100\n",
    "\n",
    "# Afficher les résultats\n",
    "print(f\"Le nombre d'articles représentant 80% du CA est : {number_of_articles}\")\n",
    "print(f\"Ces articles représentent {proportion_articles:.2f}% du catalogue total.\")\n"
   ]
  },
  {
   "cell_type": "markdown",
   "id": "8de7af87",
   "metadata": {},
   "source": [
    "<div style=\"border: 1px solid RGB(51,165,182);\" >\n",
    "<h3 style=\"margin: auto; padding: 20px; color: RGB(51,165,182); \">Etape 5.2 - Analyse des ventes en Quantités</h3>\n",
    "</div>"
   ]
  },
  {
   "cell_type": "code",
   "execution_count": 140,
   "id": "ab222e08",
   "metadata": {},
   "outputs": [
    {
     "data": {
      "application/vnd.plotly.v1+json": {
       "config": {
        "plotlyServerURL": "https://plot.ly"
       },
       "data": [
        {
         "alignmentgroup": "True",
         "hovertemplate": "ID Produit=%{x}<br>Quantité Vendue=%{marker.color}<extra></extra>",
         "legendgroup": "",
         "marker": {
          "color": [
           122,
           116,
           111,
           36,
           27,
           24,
           22,
           22,
           20,
           20,
           18,
           17,
           17,
           17,
           16,
           16,
           16,
           16,
           16,
           16
          ],
          "coloraxis": "coloraxis",
          "pattern": {
           "shape": ""
          }
         },
         "name": "",
         "offsetgroup": "",
         "orientation": "v",
         "showlegend": false,
         "text": [
          122,
          116,
          111,
          36,
          27,
          24,
          22,
          22,
          20,
          20,
          18,
          17,
          17,
          17,
          16,
          16,
          16,
          16,
          16,
          16
         ],
         "textfont": {
          "size": 12
         },
         "textposition": "inside",
         "texttemplate": "%{text:.0f}",
         "type": "bar",
         "x": [
          "4726.0",
          "4150.0",
          "5379.0",
          "4867.0",
          "4203.0",
          "4275.0",
          "4647.0",
          "5067.0",
          "6129.0",
          "5826.0",
          "4220.0",
          "5803.0",
          "6569.0",
          "5778.0",
          "4863.0",
          "4188.0",
          "4105.0",
          "4059.0",
          "5695.0",
          "4870.0"
         ],
         "xaxis": "x",
         "y": [
          122,
          116,
          111,
          36,
          27,
          24,
          22,
          22,
          20,
          20,
          18,
          17,
          17,
          17,
          16,
          16,
          16,
          16,
          16,
          16
         ],
         "yaxis": "y"
        }
       ],
       "layout": {
        "autosize": true,
        "barmode": "relative",
        "coloraxis": {
         "colorbar": {
          "title": {
           "text": "Quantité Vendue"
          }
         },
         "colorscale": [
          [
           0,
           "#0d0887"
          ],
          [
           0.1111111111111111,
           "#46039f"
          ],
          [
           0.2222222222222222,
           "#7201a8"
          ],
          [
           0.3333333333333333,
           "#9c179e"
          ],
          [
           0.4444444444444444,
           "#bd3786"
          ],
          [
           0.5555555555555556,
           "#d8576b"
          ],
          [
           0.6666666666666666,
           "#ed7953"
          ],
          [
           0.7777777777777778,
           "#fb9f3a"
          ],
          [
           0.8888888888888888,
           "#fdca26"
          ],
          [
           1,
           "#f0f921"
          ]
         ]
        },
        "legend": {
         "tracegroupgap": 0
        },
        "margin": {
         "b": 50,
         "t": 50
        },
        "template": {
         "data": {
          "bar": [
           {
            "error_x": {
             "color": "#2a3f5f"
            },
            "error_y": {
             "color": "#2a3f5f"
            },
            "marker": {
             "line": {
              "color": "#E5ECF6",
              "width": 0.5
             },
             "pattern": {
              "fillmode": "overlay",
              "size": 10,
              "solidity": 0.2
             }
            },
            "type": "bar"
           }
          ],
          "barpolar": [
           {
            "marker": {
             "line": {
              "color": "#E5ECF6",
              "width": 0.5
             },
             "pattern": {
              "fillmode": "overlay",
              "size": 10,
              "solidity": 0.2
             }
            },
            "type": "barpolar"
           }
          ],
          "carpet": [
           {
            "aaxis": {
             "endlinecolor": "#2a3f5f",
             "gridcolor": "white",
             "linecolor": "white",
             "minorgridcolor": "white",
             "startlinecolor": "#2a3f5f"
            },
            "baxis": {
             "endlinecolor": "#2a3f5f",
             "gridcolor": "white",
             "linecolor": "white",
             "minorgridcolor": "white",
             "startlinecolor": "#2a3f5f"
            },
            "type": "carpet"
           }
          ],
          "choropleth": [
           {
            "colorbar": {
             "outlinewidth": 0,
             "ticks": ""
            },
            "type": "choropleth"
           }
          ],
          "contour": [
           {
            "colorbar": {
             "outlinewidth": 0,
             "ticks": ""
            },
            "colorscale": [
             [
              0,
              "#0d0887"
             ],
             [
              0.1111111111111111,
              "#46039f"
             ],
             [
              0.2222222222222222,
              "#7201a8"
             ],
             [
              0.3333333333333333,
              "#9c179e"
             ],
             [
              0.4444444444444444,
              "#bd3786"
             ],
             [
              0.5555555555555556,
              "#d8576b"
             ],
             [
              0.6666666666666666,
              "#ed7953"
             ],
             [
              0.7777777777777778,
              "#fb9f3a"
             ],
             [
              0.8888888888888888,
              "#fdca26"
             ],
             [
              1,
              "#f0f921"
             ]
            ],
            "type": "contour"
           }
          ],
          "contourcarpet": [
           {
            "colorbar": {
             "outlinewidth": 0,
             "ticks": ""
            },
            "type": "contourcarpet"
           }
          ],
          "heatmap": [
           {
            "colorbar": {
             "outlinewidth": 0,
             "ticks": ""
            },
            "colorscale": [
             [
              0,
              "#0d0887"
             ],
             [
              0.1111111111111111,
              "#46039f"
             ],
             [
              0.2222222222222222,
              "#7201a8"
             ],
             [
              0.3333333333333333,
              "#9c179e"
             ],
             [
              0.4444444444444444,
              "#bd3786"
             ],
             [
              0.5555555555555556,
              "#d8576b"
             ],
             [
              0.6666666666666666,
              "#ed7953"
             ],
             [
              0.7777777777777778,
              "#fb9f3a"
             ],
             [
              0.8888888888888888,
              "#fdca26"
             ],
             [
              1,
              "#f0f921"
             ]
            ],
            "type": "heatmap"
           }
          ],
          "heatmapgl": [
           {
            "colorbar": {
             "outlinewidth": 0,
             "ticks": ""
            },
            "colorscale": [
             [
              0,
              "#0d0887"
             ],
             [
              0.1111111111111111,
              "#46039f"
             ],
             [
              0.2222222222222222,
              "#7201a8"
             ],
             [
              0.3333333333333333,
              "#9c179e"
             ],
             [
              0.4444444444444444,
              "#bd3786"
             ],
             [
              0.5555555555555556,
              "#d8576b"
             ],
             [
              0.6666666666666666,
              "#ed7953"
             ],
             [
              0.7777777777777778,
              "#fb9f3a"
             ],
             [
              0.8888888888888888,
              "#fdca26"
             ],
             [
              1,
              "#f0f921"
             ]
            ],
            "type": "heatmapgl"
           }
          ],
          "histogram": [
           {
            "marker": {
             "pattern": {
              "fillmode": "overlay",
              "size": 10,
              "solidity": 0.2
             }
            },
            "type": "histogram"
           }
          ],
          "histogram2d": [
           {
            "colorbar": {
             "outlinewidth": 0,
             "ticks": ""
            },
            "colorscale": [
             [
              0,
              "#0d0887"
             ],
             [
              0.1111111111111111,
              "#46039f"
             ],
             [
              0.2222222222222222,
              "#7201a8"
             ],
             [
              0.3333333333333333,
              "#9c179e"
             ],
             [
              0.4444444444444444,
              "#bd3786"
             ],
             [
              0.5555555555555556,
              "#d8576b"
             ],
             [
              0.6666666666666666,
              "#ed7953"
             ],
             [
              0.7777777777777778,
              "#fb9f3a"
             ],
             [
              0.8888888888888888,
              "#fdca26"
             ],
             [
              1,
              "#f0f921"
             ]
            ],
            "type": "histogram2d"
           }
          ],
          "histogram2dcontour": [
           {
            "colorbar": {
             "outlinewidth": 0,
             "ticks": ""
            },
            "colorscale": [
             [
              0,
              "#0d0887"
             ],
             [
              0.1111111111111111,
              "#46039f"
             ],
             [
              0.2222222222222222,
              "#7201a8"
             ],
             [
              0.3333333333333333,
              "#9c179e"
             ],
             [
              0.4444444444444444,
              "#bd3786"
             ],
             [
              0.5555555555555556,
              "#d8576b"
             ],
             [
              0.6666666666666666,
              "#ed7953"
             ],
             [
              0.7777777777777778,
              "#fb9f3a"
             ],
             [
              0.8888888888888888,
              "#fdca26"
             ],
             [
              1,
              "#f0f921"
             ]
            ],
            "type": "histogram2dcontour"
           }
          ],
          "mesh3d": [
           {
            "colorbar": {
             "outlinewidth": 0,
             "ticks": ""
            },
            "type": "mesh3d"
           }
          ],
          "parcoords": [
           {
            "line": {
             "colorbar": {
              "outlinewidth": 0,
              "ticks": ""
             }
            },
            "type": "parcoords"
           }
          ],
          "pie": [
           {
            "automargin": true,
            "type": "pie"
           }
          ],
          "scatter": [
           {
            "fillpattern": {
             "fillmode": "overlay",
             "size": 10,
             "solidity": 0.2
            },
            "type": "scatter"
           }
          ],
          "scatter3d": [
           {
            "line": {
             "colorbar": {
              "outlinewidth": 0,
              "ticks": ""
             }
            },
            "marker": {
             "colorbar": {
              "outlinewidth": 0,
              "ticks": ""
             }
            },
            "type": "scatter3d"
           }
          ],
          "scattercarpet": [
           {
            "marker": {
             "colorbar": {
              "outlinewidth": 0,
              "ticks": ""
             }
            },
            "type": "scattercarpet"
           }
          ],
          "scattergeo": [
           {
            "marker": {
             "colorbar": {
              "outlinewidth": 0,
              "ticks": ""
             }
            },
            "type": "scattergeo"
           }
          ],
          "scattergl": [
           {
            "marker": {
             "colorbar": {
              "outlinewidth": 0,
              "ticks": ""
             }
            },
            "type": "scattergl"
           }
          ],
          "scattermapbox": [
           {
            "marker": {
             "colorbar": {
              "outlinewidth": 0,
              "ticks": ""
             }
            },
            "type": "scattermapbox"
           }
          ],
          "scatterpolar": [
           {
            "marker": {
             "colorbar": {
              "outlinewidth": 0,
              "ticks": ""
             }
            },
            "type": "scatterpolar"
           }
          ],
          "scatterpolargl": [
           {
            "marker": {
             "colorbar": {
              "outlinewidth": 0,
              "ticks": ""
             }
            },
            "type": "scatterpolargl"
           }
          ],
          "scatterternary": [
           {
            "marker": {
             "colorbar": {
              "outlinewidth": 0,
              "ticks": ""
             }
            },
            "type": "scatterternary"
           }
          ],
          "surface": [
           {
            "colorbar": {
             "outlinewidth": 0,
             "ticks": ""
            },
            "colorscale": [
             [
              0,
              "#0d0887"
             ],
             [
              0.1111111111111111,
              "#46039f"
             ],
             [
              0.2222222222222222,
              "#7201a8"
             ],
             [
              0.3333333333333333,
              "#9c179e"
             ],
             [
              0.4444444444444444,
              "#bd3786"
             ],
             [
              0.5555555555555556,
              "#d8576b"
             ],
             [
              0.6666666666666666,
              "#ed7953"
             ],
             [
              0.7777777777777778,
              "#fb9f3a"
             ],
             [
              0.8888888888888888,
              "#fdca26"
             ],
             [
              1,
              "#f0f921"
             ]
            ],
            "type": "surface"
           }
          ],
          "table": [
           {
            "cells": {
             "fill": {
              "color": "#EBF0F8"
             },
             "line": {
              "color": "white"
             }
            },
            "header": {
             "fill": {
              "color": "#C8D4E3"
             },
             "line": {
              "color": "white"
             }
            },
            "type": "table"
           }
          ]
         },
         "layout": {
          "annotationdefaults": {
           "arrowcolor": "#2a3f5f",
           "arrowhead": 0,
           "arrowwidth": 1
          },
          "autotypenumbers": "strict",
          "coloraxis": {
           "colorbar": {
            "outlinewidth": 0,
            "ticks": ""
           }
          },
          "colorscale": {
           "diverging": [
            [
             0,
             "#8e0152"
            ],
            [
             0.1,
             "#c51b7d"
            ],
            [
             0.2,
             "#de77ae"
            ],
            [
             0.3,
             "#f1b6da"
            ],
            [
             0.4,
             "#fde0ef"
            ],
            [
             0.5,
             "#f7f7f7"
            ],
            [
             0.6,
             "#e6f5d0"
            ],
            [
             0.7,
             "#b8e186"
            ],
            [
             0.8,
             "#7fbc41"
            ],
            [
             0.9,
             "#4d9221"
            ],
            [
             1,
             "#276419"
            ]
           ],
           "sequential": [
            [
             0,
             "#0d0887"
            ],
            [
             0.1111111111111111,
             "#46039f"
            ],
            [
             0.2222222222222222,
             "#7201a8"
            ],
            [
             0.3333333333333333,
             "#9c179e"
            ],
            [
             0.4444444444444444,
             "#bd3786"
            ],
            [
             0.5555555555555556,
             "#d8576b"
            ],
            [
             0.6666666666666666,
             "#ed7953"
            ],
            [
             0.7777777777777778,
             "#fb9f3a"
            ],
            [
             0.8888888888888888,
             "#fdca26"
            ],
            [
             1,
             "#f0f921"
            ]
           ],
           "sequentialminus": [
            [
             0,
             "#0d0887"
            ],
            [
             0.1111111111111111,
             "#46039f"
            ],
            [
             0.2222222222222222,
             "#7201a8"
            ],
            [
             0.3333333333333333,
             "#9c179e"
            ],
            [
             0.4444444444444444,
             "#bd3786"
            ],
            [
             0.5555555555555556,
             "#d8576b"
            ],
            [
             0.6666666666666666,
             "#ed7953"
            ],
            [
             0.7777777777777778,
             "#fb9f3a"
            ],
            [
             0.8888888888888888,
             "#fdca26"
            ],
            [
             1,
             "#f0f921"
            ]
           ]
          },
          "colorway": [
           "#636efa",
           "#EF553B",
           "#00cc96",
           "#ab63fa",
           "#FFA15A",
           "#19d3f3",
           "#FF6692",
           "#B6E880",
           "#FF97FF",
           "#FECB52"
          ],
          "font": {
           "color": "#2a3f5f"
          },
          "geo": {
           "bgcolor": "white",
           "lakecolor": "white",
           "landcolor": "#E5ECF6",
           "showlakes": true,
           "showland": true,
           "subunitcolor": "white"
          },
          "hoverlabel": {
           "align": "left"
          },
          "hovermode": "closest",
          "mapbox": {
           "style": "light"
          },
          "paper_bgcolor": "white",
          "plot_bgcolor": "#E5ECF6",
          "polar": {
           "angularaxis": {
            "gridcolor": "white",
            "linecolor": "white",
            "ticks": ""
           },
           "bgcolor": "#E5ECF6",
           "radialaxis": {
            "gridcolor": "white",
            "linecolor": "white",
            "ticks": ""
           }
          },
          "scene": {
           "xaxis": {
            "backgroundcolor": "#E5ECF6",
            "gridcolor": "white",
            "gridwidth": 2,
            "linecolor": "white",
            "showbackground": true,
            "ticks": "",
            "zerolinecolor": "white"
           },
           "yaxis": {
            "backgroundcolor": "#E5ECF6",
            "gridcolor": "white",
            "gridwidth": 2,
            "linecolor": "white",
            "showbackground": true,
            "ticks": "",
            "zerolinecolor": "white"
           },
           "zaxis": {
            "backgroundcolor": "#E5ECF6",
            "gridcolor": "white",
            "gridwidth": 2,
            "linecolor": "white",
            "showbackground": true,
            "ticks": "",
            "zerolinecolor": "white"
           }
          },
          "shapedefaults": {
           "line": {
            "color": "#2a3f5f"
           }
          },
          "ternary": {
           "aaxis": {
            "gridcolor": "white",
            "linecolor": "white",
            "ticks": ""
           },
           "baxis": {
            "gridcolor": "white",
            "linecolor": "white",
            "ticks": ""
           },
           "bgcolor": "#E5ECF6",
           "caxis": {
            "gridcolor": "white",
            "linecolor": "white",
            "ticks": ""
           }
          },
          "title": {
           "x": 0.05
          },
          "xaxis": {
           "automargin": true,
           "gridcolor": "white",
           "linecolor": "white",
           "ticks": "",
           "title": {
            "standoff": 15
           },
           "zerolinecolor": "white",
           "zerolinewidth": 2
          },
          "yaxis": {
           "automargin": true,
           "gridcolor": "white",
           "linecolor": "white",
           "ticks": "",
           "title": {
            "standoff": 15
           },
           "zerolinecolor": "white",
           "zerolinewidth": 2
          }
         }
        },
        "title": {
         "text": "Top 20 des articles par quantité vendue"
        },
        "xaxis": {
         "anchor": "y",
         "autorange": true,
         "domain": [
          0,
          1
         ],
         "range": [
          -0.5,
          19.5
         ],
         "title": {
          "text": "ID Produit"
         },
         "type": "category"
        },
        "yaxis": {
         "anchor": "x",
         "autorange": true,
         "domain": [
          0,
          1
         ],
         "range": [
          0,
          128.42105263157896
         ],
         "title": {
          "text": "Quantité Vendue"
         },
         "type": "linear"
        }
       }
      },
      "image/png": "[encoded data removed]",
      "text/html": [
       "<div>                            <div id=\"7746a8e3-b690-4b2f-9193-f2bec33f3e6b\" class=\"plotly-graph-div\" style=\"height:400px; width:100%;\"></div>            <script type=\"text/javascript\">                require([\"plotly\"], function(Plotly) {                    window.PLOTLYENV=window.PLOTLYENV || {};                                    if (document.getElementById(\"7746a8e3-b690-4b2f-9193-f2bec33f3e6b\")) {                    Plotly.newPlot(                        \"7746a8e3-b690-4b2f-9193-f2bec33f3e6b\",                        [{\"alignmentgroup\":\"True\",\"hovertemplate\":\"ID Produit=%{x}\\u003cbr\\u003eQuantit\\u00e9 Vendue=%{marker.color}\\u003cextra\\u003e\\u003c\\u002fextra\\u003e\",\"legendgroup\":\"\",\"marker\":{\"color\":[122.0,116.0,111.0,36.0,27.0,24.0,22.0,22.0,20.0,20.0,18.0,17.0,17.0,17.0,16.0,16.0,16.0,16.0,16.0,16.0],\"coloraxis\":\"coloraxis\",\"pattern\":{\"shape\":\"\"}},\"name\":\"\",\"offsetgroup\":\"\",\"orientation\":\"v\",\"showlegend\":false,\"text\":[122.0,116.0,111.0,36.0,27.0,24.0,22.0,22.0,20.0,20.0,18.0,17.0,17.0,17.0,16.0,16.0,16.0,16.0,16.0,16.0],\"textposition\":\"inside\",\"x\":[\"4726.0\",\"4150.0\",\"5379.0\",\"4867.0\",\"4203.0\",\"4275.0\",\"4647.0\",\"5067.0\",\"6129.0\",\"5826.0\",\"4220.0\",\"5803.0\",\"6569.0\",\"5778.0\",\"4863.0\",\"4188.0\",\"4105.0\",\"4059.0\",\"5695.0\",\"4870.0\"],\"xaxis\":\"x\",\"y\":[122.0,116.0,111.0,36.0,27.0,24.0,22.0,22.0,20.0,20.0,18.0,17.0,17.0,17.0,16.0,16.0,16.0,16.0,16.0,16.0],\"yaxis\":\"y\",\"type\":\"bar\",\"textfont\":{\"size\":12},\"texttemplate\":\"%{text:.0f}\"}],                        {\"template\":{\"data\":{\"histogram2dcontour\":[{\"type\":\"histogram2dcontour\",\"colorbar\":{\"outlinewidth\":0,\"ticks\":\"\"},\"colorscale\":[[0.0,\"#0d0887\"],[0.1111111111111111,\"#46039f\"],[0.2222222222222222,\"#7201a8\"],[0.3333333333333333,\"#9c179e\"],[0.4444444444444444,\"#bd3786\"],[0.5555555555555556,\"#d8576b\"],[0.6666666666666666,\"#ed7953\"],[0.7777777777777778,\"#fb9f3a\"],[0.8888888888888888,\"#fdca26\"],[1.0,\"#f0f921\"]]}],\"choropleth\":[{\"type\":\"choropleth\",\"colorbar\":{\"outlinewidth\":0,\"ticks\":\"\"}}],\"histogram2d\":[{\"type\":\"histogram2d\",\"colorbar\":{\"outlinewidth\":0,\"ticks\":\"\"},\"colorscale\":[[0.0,\"#0d0887\"],[0.1111111111111111,\"#46039f\"],[0.2222222222222222,\"#7201a8\"],[0.3333333333333333,\"#9c179e\"],[0.4444444444444444,\"#bd3786\"],[0.5555555555555556,\"#d8576b\"],[0.6666666666666666,\"#ed7953\"],[0.7777777777777778,\"#fb9f3a\"],[0.8888888888888888,\"#fdca26\"],[1.0,\"#f0f921\"]]}],\"heatmap\":[{\"type\":\"heatmap\",\"colorbar\":{\"outlinewidth\":0,\"ticks\":\"\"},\"colorscale\":[[0.0,\"#0d0887\"],[0.1111111111111111,\"#46039f\"],[0.2222222222222222,\"#7201a8\"],[0.3333333333333333,\"#9c179e\"],[0.4444444444444444,\"#bd3786\"],[0.5555555555555556,\"#d8576b\"],[0.6666666666666666,\"#ed7953\"],[0.7777777777777778,\"#fb9f3a\"],[0.8888888888888888,\"#fdca26\"],[1.0,\"#f0f921\"]]}],\"heatmapgl\":[{\"type\":\"heatmapgl\",\"colorbar\":{\"outlinewidth\":0,\"ticks\":\"\"},\"colorscale\":[[0.0,\"#0d0887\"],[0.1111111111111111,\"#46039f\"],[0.2222222222222222,\"#7201a8\"],[0.3333333333333333,\"#9c179e\"],[0.4444444444444444,\"#bd3786\"],[0.5555555555555556,\"#d8576b\"],[0.6666666666666666,\"#ed7953\"],[0.7777777777777778,\"#fb9f3a\"],[0.8888888888888888,\"#fdca26\"],[1.0,\"#f0f921\"]]}],\"contourcarpet\":[{\"type\":\"contourcarpet\",\"colorbar\":{\"outlinewidth\":0,\"ticks\":\"\"}}],\"contour\":[{\"type\":\"contour\",\"colorbar\":{\"outlinewidth\":0,\"ticks\":\"\"},\"colorscale\":[[0.0,\"#0d0887\"],[0.1111111111111111,\"#46039f\"],[0.2222222222222222,\"#7201a8\"],[0.3333333333333333,\"#9c179e\"],[0.4444444444444444,\"#bd3786\"],[0.5555555555555556,\"#d8576b\"],[0.6666666666666666,\"#ed7953\"],[0.7777777777777778,\"#fb9f3a\"],[0.8888888888888888,\"#fdca26\"],[1.0,\"#f0f921\"]]}],\"surface\":[{\"type\":\"surface\",\"colorbar\":{\"outlinewidth\":0,\"ticks\":\"\"},\"colorscale\":[[0.0,\"#0d0887\"],[0.1111111111111111,\"#46039f\"],[0.2222222222222222,\"#7201a8\"],[0.3333333333333333,\"#9c179e\"],[0.4444444444444444,\"#bd3786\"],[0.5555555555555556,\"#d8576b\"],[0.6666666666666666,\"#ed7953\"],[0.7777777777777778,\"#fb9f3a\"],[0.8888888888888888,\"#fdca26\"],[1.0,\"#f0f921\"]]}],\"mesh3d\":[{\"type\":\"mesh3d\",\"colorbar\":{\"outlinewidth\":0,\"ticks\":\"\"}}],\"scatter\":[{\"fillpattern\":{\"fillmode\":\"overlay\",\"size\":10,\"solidity\":0.2},\"type\":\"scatter\"}],\"parcoords\":[{\"type\":\"parcoords\",\"line\":{\"colorbar\":{\"outlinewidth\":0,\"ticks\":\"\"}}}],\"scatterpolargl\":[{\"type\":\"scatterpolargl\",\"marker\":{\"colorbar\":{\"outlinewidth\":0,\"ticks\":\"\"}}}],\"bar\":[{\"error_x\":{\"color\":\"#2a3f5f\"},\"error_y\":{\"color\":\"#2a3f5f\"},\"marker\":{\"line\":{\"color\":\"#E5ECF6\",\"width\":0.5},\"pattern\":{\"fillmode\":\"overlay\",\"size\":10,\"solidity\":0.2}},\"type\":\"bar\"}],\"scattergeo\":[{\"type\":\"scattergeo\",\"marker\":{\"colorbar\":{\"outlinewidth\":0,\"ticks\":\"\"}}}],\"scatterpolar\":[{\"type\":\"scatterpolar\",\"marker\":{\"colorbar\":{\"outlinewidth\":0,\"ticks\":\"\"}}}],\"histogram\":[{\"marker\":{\"pattern\":{\"fillmode\":\"overlay\",\"size\":10,\"solidity\":0.2}},\"type\":\"histogram\"}],\"scattergl\":[{\"type\":\"scattergl\",\"marker\":{\"colorbar\":{\"outlinewidth\":0,\"ticks\":\"\"}}}],\"scatter3d\":[{\"type\":\"scatter3d\",\"line\":{\"colorbar\":{\"outlinewidth\":0,\"ticks\":\"\"}},\"marker\":{\"colorbar\":{\"outlinewidth\":0,\"ticks\":\"\"}}}],\"scattermapbox\":[{\"type\":\"scattermapbox\",\"marker\":{\"colorbar\":{\"outlinewidth\":0,\"ticks\":\"\"}}}],\"scatterternary\":[{\"type\":\"scatterternary\",\"marker\":{\"colorbar\":{\"outlinewidth\":0,\"ticks\":\"\"}}}],\"scattercarpet\":[{\"type\":\"scattercarpet\",\"marker\":{\"colorbar\":{\"outlinewidth\":0,\"ticks\":\"\"}}}],\"carpet\":[{\"aaxis\":{\"endlinecolor\":\"#2a3f5f\",\"gridcolor\":\"white\",\"linecolor\":\"white\",\"minorgridcolor\":\"white\",\"startlinecolor\":\"#2a3f5f\"},\"baxis\":{\"endlinecolor\":\"#2a3f5f\",\"gridcolor\":\"white\",\"linecolor\":\"white\",\"minorgridcolor\":\"white\",\"startlinecolor\":\"#2a3f5f\"},\"type\":\"carpet\"}],\"table\":[{\"cells\":{\"fill\":{\"color\":\"#EBF0F8\"},\"line\":{\"color\":\"white\"}},\"header\":{\"fill\":{\"color\":\"#C8D4E3\"},\"line\":{\"color\":\"white\"}},\"type\":\"table\"}],\"barpolar\":[{\"marker\":{\"line\":{\"color\":\"#E5ECF6\",\"width\":0.5},\"pattern\":{\"fillmode\":\"overlay\",\"size\":10,\"solidity\":0.2}},\"type\":\"barpolar\"}],\"pie\":[{\"automargin\":true,\"type\":\"pie\"}]},\"layout\":{\"autotypenumbers\":\"strict\",\"colorway\":[\"#636efa\",\"#EF553B\",\"#00cc96\",\"#ab63fa\",\"#FFA15A\",\"#19d3f3\",\"#FF6692\",\"#B6E880\",\"#FF97FF\",\"#FECB52\"],\"font\":{\"color\":\"#2a3f5f\"},\"hovermode\":\"closest\",\"hoverlabel\":{\"align\":\"left\"},\"paper_bgcolor\":\"white\",\"plot_bgcolor\":\"#E5ECF6\",\"polar\":{\"bgcolor\":\"#E5ECF6\",\"angularaxis\":{\"gridcolor\":\"white\",\"linecolor\":\"white\",\"ticks\":\"\"},\"radialaxis\":{\"gridcolor\":\"white\",\"linecolor\":\"white\",\"ticks\":\"\"}},\"ternary\":{\"bgcolor\":\"#E5ECF6\",\"aaxis\":{\"gridcolor\":\"white\",\"linecolor\":\"white\",\"ticks\":\"\"},\"baxis\":{\"gridcolor\":\"white\",\"linecolor\":\"white\",\"ticks\":\"\"},\"caxis\":{\"gridcolor\":\"white\",\"linecolor\":\"white\",\"ticks\":\"\"}},\"coloraxis\":{\"colorbar\":{\"outlinewidth\":0,\"ticks\":\"\"}},\"colorscale\":{\"sequential\":[[0.0,\"#0d0887\"],[0.1111111111111111,\"#46039f\"],[0.2222222222222222,\"#7201a8\"],[0.3333333333333333,\"#9c179e\"],[0.4444444444444444,\"#bd3786\"],[0.5555555555555556,\"#d8576b\"],[0.6666666666666666,\"#ed7953\"],[0.7777777777777778,\"#fb9f3a\"],[0.8888888888888888,\"#fdca26\"],[1.0,\"#f0f921\"]],\"sequentialminus\":[[0.0,\"#0d0887\"],[0.1111111111111111,\"#46039f\"],[0.2222222222222222,\"#7201a8\"],[0.3333333333333333,\"#9c179e\"],[0.4444444444444444,\"#bd3786\"],[0.5555555555555556,\"#d8576b\"],[0.6666666666666666,\"#ed7953\"],[0.7777777777777778,\"#fb9f3a\"],[0.8888888888888888,\"#fdca26\"],[1.0,\"#f0f921\"]],\"diverging\":[[0,\"#8e0152\"],[0.1,\"#c51b7d\"],[0.2,\"#de77ae\"],[0.3,\"#f1b6da\"],[0.4,\"#fde0ef\"],[0.5,\"#f7f7f7\"],[0.6,\"#e6f5d0\"],[0.7,\"#b8e186\"],[0.8,\"#7fbc41\"],[0.9,\"#4d9221\"],[1,\"#276419\"]]},\"xaxis\":{\"gridcolor\":\"white\",\"linecolor\":\"white\",\"ticks\":\"\",\"title\":{\"standoff\":15},\"zerolinecolor\":\"white\",\"automargin\":true,\"zerolinewidth\":2},\"yaxis\":{\"gridcolor\":\"white\",\"linecolor\":\"white\",\"ticks\":\"\",\"title\":{\"standoff\":15},\"zerolinecolor\":\"white\",\"automargin\":true,\"zerolinewidth\":2},\"scene\":{\"xaxis\":{\"backgroundcolor\":\"#E5ECF6\",\"gridcolor\":\"white\",\"linecolor\":\"white\",\"showbackground\":true,\"ticks\":\"\",\"zerolinecolor\":\"white\",\"gridwidth\":2},\"yaxis\":{\"backgroundcolor\":\"#E5ECF6\",\"gridcolor\":\"white\",\"linecolor\":\"white\",\"showbackground\":true,\"ticks\":\"\",\"zerolinecolor\":\"white\",\"gridwidth\":2},\"zaxis\":{\"backgroundcolor\":\"#E5ECF6\",\"gridcolor\":\"white\",\"linecolor\":\"white\",\"showbackground\":true,\"ticks\":\"\",\"zerolinecolor\":\"white\",\"gridwidth\":2}},\"shapedefaults\":{\"line\":{\"color\":\"#2a3f5f\"}},\"annotationdefaults\":{\"arrowcolor\":\"#2a3f5f\",\"arrowhead\":0,\"arrowwidth\":1},\"geo\":{\"bgcolor\":\"white\",\"landcolor\":\"#E5ECF6\",\"subunitcolor\":\"white\",\"showland\":true,\"showlakes\":true,\"lakecolor\":\"white\"},\"title\":{\"x\":0.05},\"mapbox\":{\"style\":\"light\"}}},\"xaxis\":{\"anchor\":\"y\",\"domain\":[0.0,1.0],\"title\":{\"text\":\"ID Produit\"}},\"yaxis\":{\"anchor\":\"x\",\"domain\":[0.0,1.0],\"title\":{\"text\":\"Quantit\\u00e9 Vendue\"}},\"coloraxis\":{\"colorbar\":{\"title\":{\"text\":\"Quantit\\u00e9 Vendue\"}},\"colorscale\":[[0.0,\"#0d0887\"],[0.1111111111111111,\"#46039f\"],[0.2222222222222222,\"#7201a8\"],[0.3333333333333333,\"#9c179e\"],[0.4444444444444444,\"#bd3786\"],[0.5555555555555556,\"#d8576b\"],[0.6666666666666666,\"#ed7953\"],[0.7777777777777778,\"#fb9f3a\"],[0.8888888888888888,\"#fdca26\"],[1.0,\"#f0f921\"]]},\"legend\":{\"tracegroupgap\":0},\"title\":{\"text\":\"Top 20 des articles par quantit\\u00e9 vendue\"},\"barmode\":\"relative\",\"margin\":{\"t\":50,\"b\":50},\"height\":400},                        {\"responsive\": true}                    ).then(function(){\n",
       "                            \n",
       "var gd = document.getElementById('7746a8e3-b690-4b2f-9193-f2bec33f3e6b');\n",
       "var x = new MutationObserver(function (mutations, observer) {{\n",
       "        var display = window.getComputedStyle(gd).display;\n",
       "        if (!display || display === 'none') {{\n",
       "            console.log([gd, 'removed!']);\n",
       "            Plotly.purge(gd);\n",
       "            observer.disconnect();\n",
       "        }}\n",
       "}});\n",
       "\n",
       "// Listen for the removal of the full notebook cells\n",
       "var notebookContainer = gd.closest('#notebook-container');\n",
       "if (notebookContainer) {{\n",
       "    x.observe(notebookContainer, {childList: true});\n",
       "}}\n",
       "\n",
       "// Listen for the clearing of the current output cell\n",
       "var outputEl = gd.closest('.output');\n",
       "if (outputEl) {{\n",
       "    x.observe(outputEl, {childList: true});\n",
       "}}\n",
       "\n",
       "                        })                };                });            </script>        </div>"
      ]
     },
     "metadata": {},
     "output_type": "display_data"
    }
   ],
   "source": [
    "#####################################\n",
    "# Palmares des articles en quantité #\n",
    "#####################################\n",
    "\n",
    "#Effectuer le tri dans l'ordre décroissant de quantités vendues du dataset merged_df\n",
    "df_sorted_quantity = merged_df.sort_values(by='total_sales', ascending=False).copy()\n",
    "\n",
    "#Réinitialiser l'index du dataset par un reset_index\n",
    "df_sorted_quantity = df_sorted_quantity.reset_index(drop=True)\n",
    "\n",
    "#Afficher les 20 premier articles en quantité\n",
    "top_20_quantity = df_sorted_quantity.head(20).copy()\n",
    "#print(top_20_quantity)\n",
    "\n",
    "top_20_quantity  [\"product_id\"] =top_20_quantity [\"product_id\"].astype(str)\n",
    "\n",
    "# Graphique en barre des 20 premiers articles avec plotly express \n",
    "\n",
    "fig = px.bar(\n",
    "    top_20_quantity, \n",
    "    x='product_id', \n",
    "    y='total_sales',\n",
    "    title='Top 20 des articles par quantité vendue',\n",
    "    labels={'product_id': 'ID Produit', 'total_sales': 'Quantité Vendue'},\n",
    "    color='total_sales', \n",
    "    color_continuous_scale=px.colors.sequential.Plasma,\n",
    "    text='total_sales'  # Ajout des étiquettes de données\n",
    ")\n",
    "\n",
    "# Affichage automatique des étiquettes avec ajustement\n",
    "fig.update_traces(texttemplate='%{text:.0f}', textposition='inside', textfont_size=12)\n",
    "\n",
    "# Ajustement des marges du graphique pour éviter les étiquettes coupées\n",
    "fig.update_layout(\n",
    "    margin=dict(t=50, b=50),\n",
    "    height=400  # Augmente la hauteur si nécessaire\n",
    ")\n",
    "\n",
    "# Affichage du graphique\n",
    "fig.show()"
   ]
  },
  {
   "cell_type": "code",
   "execution_count": 141,
   "id": "2aad021e",
   "metadata": {},
   "outputs": [
    {
     "name": "stdout",
     "output_type": "stream",
     "text": [
      "Le nombre d'articles représentant 80% des ventes en quantité est : 587\n",
      "La proportion des articles représentant 80% des ventes en quantité dans le catalogue entier est : 79.94%\n"
     ]
    }
   ],
   "source": [
    "#############################\n",
    "# Calculer le 20 / 80 en CA #\n",
    "#############################\n",
    "\n",
    "#Créer une colonne calculant la part en quantité de la ligne dans le dataset\n",
    "total_quantity = merged_df['total_sales'].sum()\n",
    "merged_df['part_quantity'] = (merged_df['total_sales'] / total_quantity) * 100\n",
    "\n",
    "#Créer une colonne réalisant la somme cumulative de la colonne précedemment créée\n",
    "merged_df['cumulative_part_quantity'] = merged_df['part_quantity'].cumsum()\n",
    "\n",
    "# Afficher le DataFrame avec les nouvelles colonnes\n",
    "#print(merged_df)\n",
    "\n",
    "#Grâce au deux colonnes créées précedemment, calculer le nombre d'articles représentant 80% des ventes en quantité\n",
    "#Déterminer le seuil de 80% des ventes en quantité\n",
    "threshold = 80\n",
    "\n",
    "# Trouver le nombre d'articles nécessaires pour atteindre ou dépasser 80% du total des ventes en quantité\n",
    "articles_80_percent = merged_df[merged_df['cumulative_part_quantity'] <= threshold]\n",
    "number_of_articles = len(articles_80_percent)\n",
    "print(f\"Le nombre d'articles représentant 80% des ventes en quantité est : {number_of_articles}\")\n",
    "\n",
    "#Afficher la proportion que représentent ce groupe d'articles dans le catalogue entier du site web\n",
    "quantity_80_percent_group = articles_80_percent['total_sales'].sum()\n",
    "\n",
    "# Calculer la proportion de cette somme par rapport au total des quantités vendues\n",
    "proportion_80_percent_group = (quantity_80_percent_group / total_quantity) * 100\n",
    "print(f\"La proportion des articles représentant 80% des ventes en quantité dans le catalogue entier est : {proportion_80_percent_group:.2f}%\")\n"
   ]
  },
  {
   "cell_type": "markdown",
   "id": "077789b1",
   "metadata": {},
   "source": [
    "<div style=\"border: 1px solid RGB(51,165,182);\" >\n",
    "<h3 style=\"margin: auto; padding: 20px; color: RGB(51,165,182); \">Etape 5.3 - Analyse des stocks</h3>\n",
    "</div>"
   ]
  },
  {
   "cell_type": "code",
   "execution_count": 142,
   "id": "14e45472",
   "metadata": {},
   "outputs": [
    {
     "data": {
      "application/vnd.plotly.v1+json": {
       "config": {
        "plotlyServerURL": "https://plot.ly"
       },
       "data": [
        {
         "alignmentgroup": "True",
         "hovertemplate": "ID Produit=%{x}<br>Nombre de Mois de Stock=%{marker.color}<extra></extra>",
         "legendgroup": "",
         "marker": {
          "color": [
           968.75,
           855.6,
           837,
           775,
           733.6666666666667,
           713,
           705.25,
           702.6666666666667,
           642.1428571428571,
           628.8571428571429,
           626.2,
           589,
           558,
           532.1666666666666,
           516.6666666666666,
           506.33333333333337,
           496,
           476.625,
           444.33333333333337,
           408.1666666666667
          ],
          "coloraxis": "coloraxis",
          "pattern": {
           "shape": ""
          }
         },
         "name": "",
         "offsetgroup": "",
         "orientation": "v",
         "showlegend": false,
         "text": [
          968.75,
          855.6,
          837,
          775,
          733.6666666666667,
          713,
          705.25,
          702.6666666666667,
          642.1428571428571,
          628.8571428571429,
          626.2,
          589,
          558,
          532.1666666666666,
          516.6666666666666,
          506.33333333333337,
          496,
          476.625,
          444.33333333333337,
          408.1666666666667
         ],
         "textfont": {
          "size": 12
         },
         "textposition": "outside",
         "texttemplate": "%{text:.1f}",
         "type": "bar",
         "x": [
          "4142.0",
          "6126.0",
          "4356.0",
          "4348.0",
          "4148.0",
          "4357.0",
          "4144.0",
          "5025.0",
          "4350.0",
          "4334.0",
          "4149.0",
          "5612.0",
          "4582.0",
          "5024.0",
          "4970.0",
          "5892.0",
          "4359.0",
          "4141.0",
          "4146.0",
          "5027.0"
         ],
         "xaxis": "x",
         "y": [
          968.75,
          855.6,
          837,
          775,
          733.6666666666667,
          713,
          705.25,
          702.6666666666667,
          642.1428571428571,
          628.8571428571429,
          626.2,
          589,
          558,
          532.1666666666666,
          516.6666666666666,
          506.33333333333337,
          496,
          476.625,
          444.33333333333337,
          408.1666666666667
         ],
         "yaxis": "y"
        }
       ],
       "layout": {
        "autosize": true,
        "barmode": "relative",
        "coloraxis": {
         "colorbar": {
          "title": {
           "text": "Nombre de Mois de Stock"
          }
         },
         "colorscale": [
          [
           0,
           "#0d0887"
          ],
          [
           0.1111111111111111,
           "#46039f"
          ],
          [
           0.2222222222222222,
           "#7201a8"
          ],
          [
           0.3333333333333333,
           "#9c179e"
          ],
          [
           0.4444444444444444,
           "#bd3786"
          ],
          [
           0.5555555555555556,
           "#d8576b"
          ],
          [
           0.6666666666666666,
           "#ed7953"
          ],
          [
           0.7777777777777778,
           "#fb9f3a"
          ],
          [
           0.8888888888888888,
           "#fdca26"
          ],
          [
           1,
           "#f0f921"
          ]
         ]
        },
        "legend": {
         "tracegroupgap": 0
        },
        "margin": {
         "b": 50,
         "t": 50
        },
        "template": {
         "data": {
          "bar": [
           {
            "error_x": {
             "color": "#2a3f5f"
            },
            "error_y": {
             "color": "#2a3f5f"
            },
            "marker": {
             "line": {
              "color": "#E5ECF6",
              "width": 0.5
             },
             "pattern": {
              "fillmode": "overlay",
              "size": 10,
              "solidity": 0.2
             }
            },
            "type": "bar"
           }
          ],
          "barpolar": [
           {
            "marker": {
             "line": {
              "color": "#E5ECF6",
              "width": 0.5
             },
             "pattern": {
              "fillmode": "overlay",
              "size": 10,
              "solidity": 0.2
             }
            },
            "type": "barpolar"
           }
          ],
          "carpet": [
           {
            "aaxis": {
             "endlinecolor": "#2a3f5f",
             "gridcolor": "white",
             "linecolor": "white",
             "minorgridcolor": "white",
             "startlinecolor": "#2a3f5f"
            },
            "baxis": {
             "endlinecolor": "#2a3f5f",
             "gridcolor": "white",
             "linecolor": "white",
             "minorgridcolor": "white",
             "startlinecolor": "#2a3f5f"
            },
            "type": "carpet"
           }
          ],
          "choropleth": [
           {
            "colorbar": {
             "outlinewidth": 0,
             "ticks": ""
            },
            "type": "choropleth"
           }
          ],
          "contour": [
           {
            "colorbar": {
             "outlinewidth": 0,
             "ticks": ""
            },
            "colorscale": [
             [
              0,
              "#0d0887"
             ],
             [
              0.1111111111111111,
              "#46039f"
             ],
             [
              0.2222222222222222,
              "#7201a8"
             ],
             [
              0.3333333333333333,
              "#9c179e"
             ],
             [
              0.4444444444444444,
              "#bd3786"
             ],
             [
              0.5555555555555556,
              "#d8576b"
             ],
             [
              0.6666666666666666,
              "#ed7953"
             ],
             [
              0.7777777777777778,
              "#fb9f3a"
             ],
             [
              0.8888888888888888,
              "#fdca26"
             ],
             [
              1,
              "#f0f921"
             ]
            ],
            "type": "contour"
           }
          ],
          "contourcarpet": [
           {
            "colorbar": {
             "outlinewidth": 0,
             "ticks": ""
            },
            "type": "contourcarpet"
           }
          ],
          "heatmap": [
           {
            "colorbar": {
             "outlinewidth": 0,
             "ticks": ""
            },
            "colorscale": [
             [
              0,
              "#0d0887"
             ],
             [
              0.1111111111111111,
              "#46039f"
             ],
             [
              0.2222222222222222,
              "#7201a8"
             ],
             [
              0.3333333333333333,
              "#9c179e"
             ],
             [
              0.4444444444444444,
              "#bd3786"
             ],
             [
              0.5555555555555556,
              "#d8576b"
             ],
             [
              0.6666666666666666,
              "#ed7953"
             ],
             [
              0.7777777777777778,
              "#fb9f3a"
             ],
             [
              0.8888888888888888,
              "#fdca26"
             ],
             [
              1,
              "#f0f921"
             ]
            ],
            "type": "heatmap"
           }
          ],
          "heatmapgl": [
           {
            "colorbar": {
             "outlinewidth": 0,
             "ticks": ""
            },
            "colorscale": [
             [
              0,
              "#0d0887"
             ],
             [
              0.1111111111111111,
              "#46039f"
             ],
             [
              0.2222222222222222,
              "#7201a8"
             ],
             [
              0.3333333333333333,
              "#9c179e"
             ],
             [
              0.4444444444444444,
              "#bd3786"
             ],
             [
              0.5555555555555556,
              "#d8576b"
             ],
             [
              0.6666666666666666,
              "#ed7953"
             ],
             [
              0.7777777777777778,
              "#fb9f3a"
             ],
             [
              0.8888888888888888,
              "#fdca26"
             ],
             [
              1,
              "#f0f921"
             ]
            ],
            "type": "heatmapgl"
           }
          ],
          "histogram": [
           {
            "marker": {
             "pattern": {
              "fillmode": "overlay",
              "size": 10,
              "solidity": 0.2
             }
            },
            "type": "histogram"
           }
          ],
          "histogram2d": [
           {
            "colorbar": {
             "outlinewidth": 0,
             "ticks": ""
            },
            "colorscale": [
             [
              0,
              "#0d0887"
             ],
             [
              0.1111111111111111,
              "#46039f"
             ],
             [
              0.2222222222222222,
              "#7201a8"
             ],
             [
              0.3333333333333333,
              "#9c179e"
             ],
             [
              0.4444444444444444,
              "#bd3786"
             ],
             [
              0.5555555555555556,
              "#d8576b"
             ],
             [
              0.6666666666666666,
              "#ed7953"
             ],
             [
              0.7777777777777778,
              "#fb9f3a"
             ],
             [
              0.8888888888888888,
              "#fdca26"
             ],
             [
              1,
              "#f0f921"
             ]
            ],
            "type": "histogram2d"
           }
          ],
          "histogram2dcontour": [
           {
            "colorbar": {
             "outlinewidth": 0,
             "ticks": ""
            },
            "colorscale": [
             [
              0,
              "#0d0887"
             ],
             [
              0.1111111111111111,
              "#46039f"
             ],
             [
              0.2222222222222222,
              "#7201a8"
             ],
             [
              0.3333333333333333,
              "#9c179e"
             ],
             [
              0.4444444444444444,
              "#bd3786"
             ],
             [
              0.5555555555555556,
              "#d8576b"
             ],
             [
              0.6666666666666666,
              "#ed7953"
             ],
             [
              0.7777777777777778,
              "#fb9f3a"
             ],
             [
              0.8888888888888888,
              "#fdca26"
             ],
             [
              1,
              "#f0f921"
             ]
            ],
            "type": "histogram2dcontour"
           }
          ],
          "mesh3d": [
           {
            "colorbar": {
             "outlinewidth": 0,
             "ticks": ""
            },
            "type": "mesh3d"
           }
          ],
          "parcoords": [
           {
            "line": {
             "colorbar": {
              "outlinewidth": 0,
              "ticks": ""
             }
            },
            "type": "parcoords"
           }
          ],
          "pie": [
           {
            "automargin": true,
            "type": "pie"
           }
          ],
          "scatter": [
           {
            "fillpattern": {
             "fillmode": "overlay",
             "size": 10,
             "solidity": 0.2
            },
            "type": "scatter"
           }
          ],
          "scatter3d": [
           {
            "line": {
             "colorbar": {
              "outlinewidth": 0,
              "ticks": ""
             }
            },
            "marker": {
             "colorbar": {
              "outlinewidth": 0,
              "ticks": ""
             }
            },
            "type": "scatter3d"
           }
          ],
          "scattercarpet": [
           {
            "marker": {
             "colorbar": {
              "outlinewidth": 0,
              "ticks": ""
             }
            },
            "type": "scattercarpet"
           }
          ],
          "scattergeo": [
           {
            "marker": {
             "colorbar": {
              "outlinewidth": 0,
              "ticks": ""
             }
            },
            "type": "scattergeo"
           }
          ],
          "scattergl": [
           {
            "marker": {
             "colorbar": {
              "outlinewidth": 0,
              "ticks": ""
             }
            },
            "type": "scattergl"
           }
          ],
          "scattermapbox": [
           {
            "marker": {
             "colorbar": {
              "outlinewidth": 0,
              "ticks": ""
             }
            },
            "type": "scattermapbox"
           }
          ],
          "scatterpolar": [
           {
            "marker": {
             "colorbar": {
              "outlinewidth": 0,
              "ticks": ""
             }
            },
            "type": "scatterpolar"
           }
          ],
          "scatterpolargl": [
           {
            "marker": {
             "colorbar": {
              "outlinewidth": 0,
              "ticks": ""
             }
            },
            "type": "scatterpolargl"
           }
          ],
          "scatterternary": [
           {
            "marker": {
             "colorbar": {
              "outlinewidth": 0,
              "ticks": ""
             }
            },
            "type": "scatterternary"
           }
          ],
          "surface": [
           {
            "colorbar": {
             "outlinewidth": 0,
             "ticks": ""
            },
            "colorscale": [
             [
              0,
              "#0d0887"
             ],
             [
              0.1111111111111111,
              "#46039f"
             ],
             [
              0.2222222222222222,
              "#7201a8"
             ],
             [
              0.3333333333333333,
              "#9c179e"
             ],
             [
              0.4444444444444444,
              "#bd3786"
             ],
             [
              0.5555555555555556,
              "#d8576b"
             ],
             [
              0.6666666666666666,
              "#ed7953"
             ],
             [
              0.7777777777777778,
              "#fb9f3a"
             ],
             [
              0.8888888888888888,
              "#fdca26"
             ],
             [
              1,
              "#f0f921"
             ]
            ],
            "type": "surface"
           }
          ],
          "table": [
           {
            "cells": {
             "fill": {
              "color": "#EBF0F8"
             },
             "line": {
              "color": "white"
             }
            },
            "header": {
             "fill": {
              "color": "#C8D4E3"
             },
             "line": {
              "color": "white"
             }
            },
            "type": "table"
           }
          ]
         },
         "layout": {
          "annotationdefaults": {
           "arrowcolor": "#2a3f5f",
           "arrowhead": 0,
           "arrowwidth": 1
          },
          "autotypenumbers": "strict",
          "coloraxis": {
           "colorbar": {
            "outlinewidth": 0,
            "ticks": ""
           }
          },
          "colorscale": {
           "diverging": [
            [
             0,
             "#8e0152"
            ],
            [
             0.1,
             "#c51b7d"
            ],
            [
             0.2,
             "#de77ae"
            ],
            [
             0.3,
             "#f1b6da"
            ],
            [
             0.4,
             "#fde0ef"
            ],
            [
             0.5,
             "#f7f7f7"
            ],
            [
             0.6,
             "#e6f5d0"
            ],
            [
             0.7,
             "#b8e186"
            ],
            [
             0.8,
             "#7fbc41"
            ],
            [
             0.9,
             "#4d9221"
            ],
            [
             1,
             "#276419"
            ]
           ],
           "sequential": [
            [
             0,
             "#0d0887"
            ],
            [
             0.1111111111111111,
             "#46039f"
            ],
            [
             0.2222222222222222,
             "#7201a8"
            ],
            [
             0.3333333333333333,
             "#9c179e"
            ],
            [
             0.4444444444444444,
             "#bd3786"
            ],
            [
             0.5555555555555556,
             "#d8576b"
            ],
            [
             0.6666666666666666,
             "#ed7953"
            ],
            [
             0.7777777777777778,
             "#fb9f3a"
            ],
            [
             0.8888888888888888,
             "#fdca26"
            ],
            [
             1,
             "#f0f921"
            ]
           ],
           "sequentialminus": [
            [
             0,
             "#0d0887"
            ],
            [
             0.1111111111111111,
             "#46039f"
            ],
            [
             0.2222222222222222,
             "#7201a8"
            ],
            [
             0.3333333333333333,
             "#9c179e"
            ],
            [
             0.4444444444444444,
             "#bd3786"
            ],
            [
             0.5555555555555556,
             "#d8576b"
            ],
            [
             0.6666666666666666,
             "#ed7953"
            ],
            [
             0.7777777777777778,
             "#fb9f3a"
            ],
            [
             0.8888888888888888,
             "#fdca26"
            ],
            [
             1,
             "#f0f921"
            ]
           ]
          },
          "colorway": [
           "#636efa",
           "#EF553B",
           "#00cc96",
           "#ab63fa",
           "#FFA15A",
           "#19d3f3",
           "#FF6692",
           "#B6E880",
           "#FF97FF",
           "#FECB52"
          ],
          "font": {
           "color": "#2a3f5f"
          },
          "geo": {
           "bgcolor": "white",
           "lakecolor": "white",
           "landcolor": "#E5ECF6",
           "showlakes": true,
           "showland": true,
           "subunitcolor": "white"
          },
          "hoverlabel": {
           "align": "left"
          },
          "hovermode": "closest",
          "mapbox": {
           "style": "light"
          },
          "paper_bgcolor": "white",
          "plot_bgcolor": "#E5ECF6",
          "polar": {
           "angularaxis": {
            "gridcolor": "white",
            "linecolor": "white",
            "ticks": ""
           },
           "bgcolor": "#E5ECF6",
           "radialaxis": {
            "gridcolor": "white",
            "linecolor": "white",
            "ticks": ""
           }
          },
          "scene": {
           "xaxis": {
            "backgroundcolor": "#E5ECF6",
            "gridcolor": "white",
            "gridwidth": 2,
            "linecolor": "white",
            "showbackground": true,
            "ticks": "",
            "zerolinecolor": "white"
           },
           "yaxis": {
            "backgroundcolor": "#E5ECF6",
            "gridcolor": "white",
            "gridwidth": 2,
            "linecolor": "white",
            "showbackground": true,
            "ticks": "",
            "zerolinecolor": "white"
           },
           "zaxis": {
            "backgroundcolor": "#E5ECF6",
            "gridcolor": "white",
            "gridwidth": 2,
            "linecolor": "white",
            "showbackground": true,
            "ticks": "",
            "zerolinecolor": "white"
           }
          },
          "shapedefaults": {
           "line": {
            "color": "#2a3f5f"
           }
          },
          "ternary": {
           "aaxis": {
            "gridcolor": "white",
            "linecolor": "white",
            "ticks": ""
           },
           "baxis": {
            "gridcolor": "white",
            "linecolor": "white",
            "ticks": ""
           },
           "bgcolor": "#E5ECF6",
           "caxis": {
            "gridcolor": "white",
            "linecolor": "white",
            "ticks": ""
           }
          },
          "title": {
           "x": 0.05
          },
          "xaxis": {
           "automargin": true,
           "gridcolor": "white",
           "linecolor": "white",
           "ticks": "",
           "title": {
            "standoff": 15
           },
           "zerolinecolor": "white",
           "zerolinewidth": 2
          },
          "yaxis": {
           "automargin": true,
           "gridcolor": "white",
           "linecolor": "white",
           "ticks": "",
           "title": {
            "standoff": 15
           },
           "zerolinecolor": "white",
           "zerolinewidth": 2
          }
         }
        },
        "title": {
         "text": "Top 20 des produits avec le plus de mois de stock"
        },
        "xaxis": {
         "anchor": "y",
         "autorange": true,
         "domain": [
          0,
          1
         ],
         "range": [
          -0.5,
          19.5
         ],
         "title": {
          "text": "ID Produit"
         },
         "type": "category"
        },
        "yaxis": {
         "anchor": "x",
         "autorange": true,
         "domain": [
          0,
          1
         ],
         "range": [
          0,
          1019.7368421052631
         ],
         "title": {
          "text": "Nombre de Mois de Stock"
         },
         "type": "linear"
        }
       }
      },
      "image/png": "[encoded data removed]",
      "text/html": [
       "<div>                            <div id=\"708ea035-2437-4de8-8da9-dd105f256bcc\" class=\"plotly-graph-div\" style=\"height:500px; width:100%;\"></div>            <script type=\"text/javascript\">                require([\"plotly\"], function(Plotly) {                    window.PLOTLYENV=window.PLOTLYENV || {};                                    if (document.getElementById(\"708ea035-2437-4de8-8da9-dd105f256bcc\")) {                    Plotly.newPlot(                        \"708ea035-2437-4de8-8da9-dd105f256bcc\",                        [{\"alignmentgroup\":\"True\",\"hovertemplate\":\"ID Produit=%{x}\\u003cbr\\u003eNombre de Mois de Stock=%{marker.color}\\u003cextra\\u003e\\u003c\\u002fextra\\u003e\",\"legendgroup\":\"\",\"marker\":{\"color\":[968.75,855.6,837.0,775.0,733.6666666666667,713.0,705.25,702.6666666666667,642.1428571428571,628.8571428571429,626.2,589.0,558.0,532.1666666666666,516.6666666666666,506.33333333333337,496.0,476.625,444.33333333333337,408.1666666666667],\"coloraxis\":\"coloraxis\",\"pattern\":{\"shape\":\"\"}},\"name\":\"\",\"offsetgroup\":\"\",\"orientation\":\"v\",\"showlegend\":false,\"text\":[968.75,855.6,837.0,775.0,733.6666666666667,713.0,705.25,702.6666666666667,642.1428571428571,628.8571428571429,626.2,589.0,558.0,532.1666666666666,516.6666666666666,506.33333333333337,496.0,476.625,444.33333333333337,408.1666666666667],\"textposition\":\"outside\",\"x\":[\"4142.0\",\"6126.0\",\"4356.0\",\"4348.0\",\"4148.0\",\"4357.0\",\"4144.0\",\"5025.0\",\"4350.0\",\"4334.0\",\"4149.0\",\"5612.0\",\"4582.0\",\"5024.0\",\"4970.0\",\"5892.0\",\"4359.0\",\"4141.0\",\"4146.0\",\"5027.0\"],\"xaxis\":\"x\",\"y\":[968.75,855.6,837.0,775.0,733.6666666666667,713.0,705.25,702.6666666666667,642.1428571428571,628.8571428571429,626.2,589.0,558.0,532.1666666666666,516.6666666666666,506.33333333333337,496.0,476.625,444.33333333333337,408.1666666666667],\"yaxis\":\"y\",\"type\":\"bar\",\"textfont\":{\"size\":12},\"texttemplate\":\"%{text:.1f}\"}],                        {\"template\":{\"data\":{\"histogram2dcontour\":[{\"type\":\"histogram2dcontour\",\"colorbar\":{\"outlinewidth\":0,\"ticks\":\"\"},\"colorscale\":[[0.0,\"#0d0887\"],[0.1111111111111111,\"#46039f\"],[0.2222222222222222,\"#7201a8\"],[0.3333333333333333,\"#9c179e\"],[0.4444444444444444,\"#bd3786\"],[0.5555555555555556,\"#d8576b\"],[0.6666666666666666,\"#ed7953\"],[0.7777777777777778,\"#fb9f3a\"],[0.8888888888888888,\"#fdca26\"],[1.0,\"#f0f921\"]]}],\"choropleth\":[{\"type\":\"choropleth\",\"colorbar\":{\"outlinewidth\":0,\"ticks\":\"\"}}],\"histogram2d\":[{\"type\":\"histogram2d\",\"colorbar\":{\"outlinewidth\":0,\"ticks\":\"\"},\"colorscale\":[[0.0,\"#0d0887\"],[0.1111111111111111,\"#46039f\"],[0.2222222222222222,\"#7201a8\"],[0.3333333333333333,\"#9c179e\"],[0.4444444444444444,\"#bd3786\"],[0.5555555555555556,\"#d8576b\"],[0.6666666666666666,\"#ed7953\"],[0.7777777777777778,\"#fb9f3a\"],[0.8888888888888888,\"#fdca26\"],[1.0,\"#f0f921\"]]}],\"heatmap\":[{\"type\":\"heatmap\",\"colorbar\":{\"outlinewidth\":0,\"ticks\":\"\"},\"colorscale\":[[0.0,\"#0d0887\"],[0.1111111111111111,\"#46039f\"],[0.2222222222222222,\"#7201a8\"],[0.3333333333333333,\"#9c179e\"],[0.4444444444444444,\"#bd3786\"],[0.5555555555555556,\"#d8576b\"],[0.6666666666666666,\"#ed7953\"],[0.7777777777777778,\"#fb9f3a\"],[0.8888888888888888,\"#fdca26\"],[1.0,\"#f0f921\"]]}],\"heatmapgl\":[{\"type\":\"heatmapgl\",\"colorbar\":{\"outlinewidth\":0,\"ticks\":\"\"},\"colorscale\":[[0.0,\"#0d0887\"],[0.1111111111111111,\"#46039f\"],[0.2222222222222222,\"#7201a8\"],[0.3333333333333333,\"#9c179e\"],[0.4444444444444444,\"#bd3786\"],[0.5555555555555556,\"#d8576b\"],[0.6666666666666666,\"#ed7953\"],[0.7777777777777778,\"#fb9f3a\"],[0.8888888888888888,\"#fdca26\"],[1.0,\"#f0f921\"]]}],\"contourcarpet\":[{\"type\":\"contourcarpet\",\"colorbar\":{\"outlinewidth\":0,\"ticks\":\"\"}}],\"contour\":[{\"type\":\"contour\",\"colorbar\":{\"outlinewidth\":0,\"ticks\":\"\"},\"colorscale\":[[0.0,\"#0d0887\"],[0.1111111111111111,\"#46039f\"],[0.2222222222222222,\"#7201a8\"],[0.3333333333333333,\"#9c179e\"],[0.4444444444444444,\"#bd3786\"],[0.5555555555555556,\"#d8576b\"],[0.6666666666666666,\"#ed7953\"],[0.7777777777777778,\"#fb9f3a\"],[0.8888888888888888,\"#fdca26\"],[1.0,\"#f0f921\"]]}],\"surface\":[{\"type\":\"surface\",\"colorbar\":{\"outlinewidth\":0,\"ticks\":\"\"},\"colorscale\":[[0.0,\"#0d0887\"],[0.1111111111111111,\"#46039f\"],[0.2222222222222222,\"#7201a8\"],[0.3333333333333333,\"#9c179e\"],[0.4444444444444444,\"#bd3786\"],[0.5555555555555556,\"#d8576b\"],[0.6666666666666666,\"#ed7953\"],[0.7777777777777778,\"#fb9f3a\"],[0.8888888888888888,\"#fdca26\"],[1.0,\"#f0f921\"]]}],\"mesh3d\":[{\"type\":\"mesh3d\",\"colorbar\":{\"outlinewidth\":0,\"ticks\":\"\"}}],\"scatter\":[{\"fillpattern\":{\"fillmode\":\"overlay\",\"size\":10,\"solidity\":0.2},\"type\":\"scatter\"}],\"parcoords\":[{\"type\":\"parcoords\",\"line\":{\"colorbar\":{\"outlinewidth\":0,\"ticks\":\"\"}}}],\"scatterpolargl\":[{\"type\":\"scatterpolargl\",\"marker\":{\"colorbar\":{\"outlinewidth\":0,\"ticks\":\"\"}}}],\"bar\":[{\"error_x\":{\"color\":\"#2a3f5f\"},\"error_y\":{\"color\":\"#2a3f5f\"},\"marker\":{\"line\":{\"color\":\"#E5ECF6\",\"width\":0.5},\"pattern\":{\"fillmode\":\"overlay\",\"size\":10,\"solidity\":0.2}},\"type\":\"bar\"}],\"scattergeo\":[{\"type\":\"scattergeo\",\"marker\":{\"colorbar\":{\"outlinewidth\":0,\"ticks\":\"\"}}}],\"scatterpolar\":[{\"type\":\"scatterpolar\",\"marker\":{\"colorbar\":{\"outlinewidth\":0,\"ticks\":\"\"}}}],\"histogram\":[{\"marker\":{\"pattern\":{\"fillmode\":\"overlay\",\"size\":10,\"solidity\":0.2}},\"type\":\"histogram\"}],\"scattergl\":[{\"type\":\"scattergl\",\"marker\":{\"colorbar\":{\"outlinewidth\":0,\"ticks\":\"\"}}}],\"scatter3d\":[{\"type\":\"scatter3d\",\"line\":{\"colorbar\":{\"outlinewidth\":0,\"ticks\":\"\"}},\"marker\":{\"colorbar\":{\"outlinewidth\":0,\"ticks\":\"\"}}}],\"scattermapbox\":[{\"type\":\"scattermapbox\",\"marker\":{\"colorbar\":{\"outlinewidth\":0,\"ticks\":\"\"}}}],\"scatterternary\":[{\"type\":\"scatterternary\",\"marker\":{\"colorbar\":{\"outlinewidth\":0,\"ticks\":\"\"}}}],\"scattercarpet\":[{\"type\":\"scattercarpet\",\"marker\":{\"colorbar\":{\"outlinewidth\":0,\"ticks\":\"\"}}}],\"carpet\":[{\"aaxis\":{\"endlinecolor\":\"#2a3f5f\",\"gridcolor\":\"white\",\"linecolor\":\"white\",\"minorgridcolor\":\"white\",\"startlinecolor\":\"#2a3f5f\"},\"baxis\":{\"endlinecolor\":\"#2a3f5f\",\"gridcolor\":\"white\",\"linecolor\":\"white\",\"minorgridcolor\":\"white\",\"startlinecolor\":\"#2a3f5f\"},\"type\":\"carpet\"}],\"table\":[{\"cells\":{\"fill\":{\"color\":\"#EBF0F8\"},\"line\":{\"color\":\"white\"}},\"header\":{\"fill\":{\"color\":\"#C8D4E3\"},\"line\":{\"color\":\"white\"}},\"type\":\"table\"}],\"barpolar\":[{\"marker\":{\"line\":{\"color\":\"#E5ECF6\",\"width\":0.5},\"pattern\":{\"fillmode\":\"overlay\",\"size\":10,\"solidity\":0.2}},\"type\":\"barpolar\"}],\"pie\":[{\"automargin\":true,\"type\":\"pie\"}]},\"layout\":{\"autotypenumbers\":\"strict\",\"colorway\":[\"#636efa\",\"#EF553B\",\"#00cc96\",\"#ab63fa\",\"#FFA15A\",\"#19d3f3\",\"#FF6692\",\"#B6E880\",\"#FF97FF\",\"#FECB52\"],\"font\":{\"color\":\"#2a3f5f\"},\"hovermode\":\"closest\",\"hoverlabel\":{\"align\":\"left\"},\"paper_bgcolor\":\"white\",\"plot_bgcolor\":\"#E5ECF6\",\"polar\":{\"bgcolor\":\"#E5ECF6\",\"angularaxis\":{\"gridcolor\":\"white\",\"linecolor\":\"white\",\"ticks\":\"\"},\"radialaxis\":{\"gridcolor\":\"white\",\"linecolor\":\"white\",\"ticks\":\"\"}},\"ternary\":{\"bgcolor\":\"#E5ECF6\",\"aaxis\":{\"gridcolor\":\"white\",\"linecolor\":\"white\",\"ticks\":\"\"},\"baxis\":{\"gridcolor\":\"white\",\"linecolor\":\"white\",\"ticks\":\"\"},\"caxis\":{\"gridcolor\":\"white\",\"linecolor\":\"white\",\"ticks\":\"\"}},\"coloraxis\":{\"colorbar\":{\"outlinewidth\":0,\"ticks\":\"\"}},\"colorscale\":{\"sequential\":[[0.0,\"#0d0887\"],[0.1111111111111111,\"#46039f\"],[0.2222222222222222,\"#7201a8\"],[0.3333333333333333,\"#9c179e\"],[0.4444444444444444,\"#bd3786\"],[0.5555555555555556,\"#d8576b\"],[0.6666666666666666,\"#ed7953\"],[0.7777777777777778,\"#fb9f3a\"],[0.8888888888888888,\"#fdca26\"],[1.0,\"#f0f921\"]],\"sequentialminus\":[[0.0,\"#0d0887\"],[0.1111111111111111,\"#46039f\"],[0.2222222222222222,\"#7201a8\"],[0.3333333333333333,\"#9c179e\"],[0.4444444444444444,\"#bd3786\"],[0.5555555555555556,\"#d8576b\"],[0.6666666666666666,\"#ed7953\"],[0.7777777777777778,\"#fb9f3a\"],[0.8888888888888888,\"#fdca26\"],[1.0,\"#f0f921\"]],\"diverging\":[[0,\"#8e0152\"],[0.1,\"#c51b7d\"],[0.2,\"#de77ae\"],[0.3,\"#f1b6da\"],[0.4,\"#fde0ef\"],[0.5,\"#f7f7f7\"],[0.6,\"#e6f5d0\"],[0.7,\"#b8e186\"],[0.8,\"#7fbc41\"],[0.9,\"#4d9221\"],[1,\"#276419\"]]},\"xaxis\":{\"gridcolor\":\"white\",\"linecolor\":\"white\",\"ticks\":\"\",\"title\":{\"standoff\":15},\"zerolinecolor\":\"white\",\"automargin\":true,\"zerolinewidth\":2},\"yaxis\":{\"gridcolor\":\"white\",\"linecolor\":\"white\",\"ticks\":\"\",\"title\":{\"standoff\":15},\"zerolinecolor\":\"white\",\"automargin\":true,\"zerolinewidth\":2},\"scene\":{\"xaxis\":{\"backgroundcolor\":\"#E5ECF6\",\"gridcolor\":\"white\",\"linecolor\":\"white\",\"showbackground\":true,\"ticks\":\"\",\"zerolinecolor\":\"white\",\"gridwidth\":2},\"yaxis\":{\"backgroundcolor\":\"#E5ECF6\",\"gridcolor\":\"white\",\"linecolor\":\"white\",\"showbackground\":true,\"ticks\":\"\",\"zerolinecolor\":\"white\",\"gridwidth\":2},\"zaxis\":{\"backgroundcolor\":\"#E5ECF6\",\"gridcolor\":\"white\",\"linecolor\":\"white\",\"showbackground\":true,\"ticks\":\"\",\"zerolinecolor\":\"white\",\"gridwidth\":2}},\"shapedefaults\":{\"line\":{\"color\":\"#2a3f5f\"}},\"annotationdefaults\":{\"arrowcolor\":\"#2a3f5f\",\"arrowhead\":0,\"arrowwidth\":1},\"geo\":{\"bgcolor\":\"white\",\"landcolor\":\"#E5ECF6\",\"subunitcolor\":\"white\",\"showland\":true,\"showlakes\":true,\"lakecolor\":\"white\"},\"title\":{\"x\":0.05},\"mapbox\":{\"style\":\"light\"}}},\"xaxis\":{\"anchor\":\"y\",\"domain\":[0.0,1.0],\"title\":{\"text\":\"ID Produit\"}},\"yaxis\":{\"anchor\":\"x\",\"domain\":[0.0,1.0],\"title\":{\"text\":\"Nombre de Mois de Stock\"}},\"coloraxis\":{\"colorbar\":{\"title\":{\"text\":\"Nombre de Mois de Stock\"}},\"colorscale\":[[0.0,\"#0d0887\"],[0.1111111111111111,\"#46039f\"],[0.2222222222222222,\"#7201a8\"],[0.3333333333333333,\"#9c179e\"],[0.4444444444444444,\"#bd3786\"],[0.5555555555555556,\"#d8576b\"],[0.6666666666666666,\"#ed7953\"],[0.7777777777777778,\"#fb9f3a\"],[0.8888888888888888,\"#fdca26\"],[1.0,\"#f0f921\"]]},\"legend\":{\"tracegroupgap\":0},\"title\":{\"text\":\"Top 20 des produits avec le plus de mois de stock\"},\"barmode\":\"relative\",\"margin\":{\"t\":50,\"b\":50},\"height\":500},                        {\"responsive\": true}                    ).then(function(){\n",
       "                            \n",
       "var gd = document.getElementById('708ea035-2437-4de8-8da9-dd105f256bcc');\n",
       "var x = new MutationObserver(function (mutations, observer) {{\n",
       "        var display = window.getComputedStyle(gd).display;\n",
       "        if (!display || display === 'none') {{\n",
       "            console.log([gd, 'removed!']);\n",
       "            Plotly.purge(gd);\n",
       "            observer.disconnect();\n",
       "        }}\n",
       "}});\n",
       "\n",
       "// Listen for the removal of the full notebook cells\n",
       "var notebookContainer = gd.closest('#notebook-container');\n",
       "if (notebookContainer) {{\n",
       "    x.observe(notebookContainer, {childList: true});\n",
       "}}\n",
       "\n",
       "// Listen for the clearing of the current output cell\n",
       "var outputEl = gd.closest('.output');\n",
       "if (outputEl) {{\n",
       "    x.observe(outputEl, {childList: true});\n",
       "}}\n",
       "\n",
       "                        })                };                });            </script>        </div>"
      ]
     },
     "metadata": {},
     "output_type": "display_data"
    }
   ],
   "source": [
    "######################################\n",
    "# Calcule le nombre de mois de stock #\n",
    "######################################\n",
    "\n",
    "import numpy as np\n",
    "\n",
    "# merged_df contient les colonnes 'total_sales' et 'stock_quantity'\n",
    "#Création de la colonne Rotation de stock\n",
    "\n",
    "# 1. Calculer le stock moyen (ici, on peut considérer que le stock est constant)\n",
    "merged_df['stock_moyen'] = merged_df['stock_quantity']  # En l'absence d'autres données, on utilise la quantité en stock comme stock moyen\n",
    "\n",
    "# 2. Calculer la rotation de stock (quantité vendue / stock moyen)\n",
    "merged_df['rotation_stock'] = merged_df['total_sales'] / merged_df['stock_moyen'].replace(0, float('nan'))\n",
    "\n",
    "# 3. Remplacer les valeurs infinies par 0 (si stock_moyen était zéro)\n",
    "merged_df['rotation_stock'] = merged_df['rotation_stock'].replace([float('inf'), -float('inf')], 0)\n",
    "\n",
    "# 4. Effectuer le tri dans l'ordre décroissant du nombre de mois de stock dans le dataset merged_df\n",
    "# Pour calculer la colonne 'mois_stock' il faut :\n",
    "# 4.1. Calculer les ventes moyennes quotidiennes (total_sales / 31 jours pour le mois d'octobre) # calcule de la colonne 'mois_stock'\n",
    "merged_df['sales_par_jour'] = (merged_df['total_sales'] / 31).replace(0, np.nan)\n",
    "\n",
    "# 4.2. Calculer le nombre de mois de stock\n",
    "merged_df['mois_stock'] = merged_df['stock_quantity'] / merged_df['sales_par_jour']\n",
    "\n",
    "# 4.3. Remplacer les valeurs infinies par 0 (cas où stock_quantity est 0 ou total_sales est 0)\n",
    "merged_df['mois_stock'] = merged_df['mois_stock'].replace([np.inf, -np.inf], 0)\n",
    "\n",
    "# 4.4. Effectuer le tri dans l'ordre décroissant du nombre de mois de stock\n",
    "df_trié_stock = merged_df.sort_values(by='mois_stock', ascending=False).copy()\n",
    "\n",
    "# 5. Afficher le DataFrame trié\n",
    "#print(df_trié_stock)\n",
    "\n",
    "# 6. Afficher le flop 20 des produits ayant le plus de mois de stock\n",
    "top_20_mois_stock = df_trié_stock.head(20).copy()\n",
    "top_20_mois_stock[\"product_id\"] =top_20_mois_stock [\"product_id\"].astype(str)\n",
    "#print(top_20_mois_stock )\n",
    "\n",
    "# Graphique en barre des 20 premiers produits avec plotly express\n",
    "\n",
    "fig = px.bar(\n",
    "    top_20_mois_stock, \n",
    "    x='product_id', \n",
    "    y='mois_stock', \n",
    "    title='Top 20 des produits avec le plus de mois de stock',\n",
    "    labels={'product_id': 'ID Produit', 'mois_stock': 'Nombre de Mois de Stock'},\n",
    "    color='mois_stock', \n",
    "    color_continuous_scale=px.colors.sequential.Plasma,\n",
    "    text='mois_stock'  # Ajout des étiquettes de données\n",
    ")\n",
    "\n",
    "# Ajustement des étiquettes avec des options supplémentaires\n",
    "fig.update_traces(texttemplate='%{text:.1f}', textposition='outside', textfont_size=12)\n",
    "\n",
    "# Ajustement des marges du graphique pour éviter que les étiquettes soient coupées\n",
    "fig.update_layout(\n",
    "    margin=dict(t=50, b=50),\n",
    "    height=500  # Ajustement de la hauteur du graphique si nécessaire\n",
    ")\n",
    "\n",
    "# Afficher le graphique\n",
    "fig.show()"
   ]
  },
  {
   "cell_type": "code",
   "execution_count": 143,
   "id": "0cd6696c",
   "metadata": {},
   "outputs": [
    {
     "name": "stdout",
     "output_type": "stream",
     "text": [
      "La somme de la colonne 'valorisation_stock_euros' est : 531,946.20 €\n"
     ]
    }
   ],
   "source": [
    "####################################\n",
    "# Valorisation des stocks en euros #\n",
    "####################################\n",
    "\n",
    "#Création de la colonne Valorisation des stocks en euros\n",
    "merged_df['valorisation_stock_euros'] = merged_df['stock_quantity'] * merged_df['price']\n",
    "\n",
    "#Calculer la somme de la colonne \"Valorisation_stock_euros\"\n",
    "somme_valorisation = merged_df['valorisation_stock_euros'].sum()\n",
    "print(f\"La somme de la colonne 'valorisation_stock_euros' est : {somme_valorisation:,.2f} €\")\n"
   ]
  },
  {
   "cell_type": "code",
   "execution_count": 144,
   "id": "4a3dd99d",
   "metadata": {},
   "outputs": [
    {
     "data": {
      "text/plain": [
       "17803.0"
      ]
     },
     "execution_count": 144,
     "metadata": {},
     "output_type": "execute_result"
    }
   ],
   "source": [
    "##############################################\n",
    "# Valorisation du nombre de produit en stock #\n",
    "##############################################\n",
    "\n",
    "#Calculer la somme de la colonne stock quantity\n",
    "merged_df['stock_quantity'].sum()"
   ]
  },
  {
   "cell_type": "markdown",
   "id": "b6515e88-f222-4b70-ade6-f9254f4864e4",
   "metadata": {},
   "source": [
    "## Analyse des trois dataframes (top_20_articles, top_20_quantity et top_20_mois_stock)"
   ]
  },
  {
   "cell_type": "code",
   "execution_count": 145,
   "id": "fc620524-f322-415c-bc91-10541d64e783",
   "metadata": {},
   "outputs": [
    {
     "data": {
      "text/html": [
       "<div>\n",
       "<style scoped>\n",
       "    .dataframe tbody tr th:only-of-type {\n",
       "        vertical-align: middle;\n",
       "    }\n",
       "\n",
       "    .dataframe tbody tr th {\n",
       "        vertical-align: top;\n",
       "    }\n",
       "\n",
       "    .dataframe thead th {\n",
       "        text-align: right;\n",
       "    }\n",
       "</style>\n",
       "<table border=\"1\" class=\"dataframe\">\n",
       "  <thead>\n",
       "    <tr style=\"text-align: right;\">\n",
       "      <th></th>\n",
       "      <th>product_id</th>\n",
       "      <th>post_name</th>\n",
       "      <th>stock_quantity</th>\n",
       "      <th>total_sales</th>\n",
       "      <th>ca_par_article</th>\n",
       "      <th>product_type</th>\n",
       "    </tr>\n",
       "  </thead>\n",
       "  <tbody>\n",
       "    <tr>\n",
       "      <th>0</th>\n",
       "      <td>4150.0</td>\n",
       "      <td>champagne-mailly-grand-cru-intemporelle-2010</td>\n",
       "      <td>123.0</td>\n",
       "      <td>116.0</td>\n",
       "      <td>6844.0</td>\n",
       "      <td>Champagne</td>\n",
       "    </tr>\n",
       "    <tr>\n",
       "      <th>1</th>\n",
       "      <td>4352.0</td>\n",
       "      <td>champagne-egly-ouriet-grand-cru-millesime-2008</td>\n",
       "      <td>0.0</td>\n",
       "      <td>11.0</td>\n",
       "      <td>2475.0</td>\n",
       "      <td>Champagne</td>\n",
       "    </tr>\n",
       "    <tr>\n",
       "      <th>2</th>\n",
       "      <td>4726.0</td>\n",
       "      <td>francois-baur-pinot-noir-schlittweg-2017</td>\n",
       "      <td>0.0</td>\n",
       "      <td>122.0</td>\n",
       "      <td>1549.4</td>\n",
       "      <td>Vin</td>\n",
       "    </tr>\n",
       "    <tr>\n",
       "      <th>3</th>\n",
       "      <td>5067.0</td>\n",
       "      <td>albert-mann-pinot-noir-grand-h-2017</td>\n",
       "      <td>3.0</td>\n",
       "      <td>22.0</td>\n",
       "      <td>1317.8</td>\n",
       "      <td>Vin</td>\n",
       "    </tr>\n",
       "    <tr>\n",
       "      <th>4</th>\n",
       "      <td>5379.0</td>\n",
       "      <td>argentine-mendoza-alamos-torrontes-2017</td>\n",
       "      <td>33.0</td>\n",
       "      <td>111.0</td>\n",
       "      <td>1232.1</td>\n",
       "      <td>Vin</td>\n",
       "    </tr>\n",
       "    <tr>\n",
       "      <th>5</th>\n",
       "      <td>5892.0</td>\n",
       "      <td>coteaux-champenois-egly-ouriet-ambonnay-rouge-...</td>\n",
       "      <td>98.0</td>\n",
       "      <td>6.0</td>\n",
       "      <td>1147.8</td>\n",
       "      <td>Champagne</td>\n",
       "    </tr>\n",
       "    <tr>\n",
       "      <th>6</th>\n",
       "      <td>4353.0</td>\n",
       "      <td>champagne-egly-ouriet-grand-cru-brut-rose</td>\n",
       "      <td>127.0</td>\n",
       "      <td>14.0</td>\n",
       "      <td>1113.0</td>\n",
       "      <td>Champagne</td>\n",
       "    </tr>\n",
       "    <tr>\n",
       "      <th>7</th>\n",
       "      <td>5826.0</td>\n",
       "      <td>agnes-levet-amethyste-2017</td>\n",
       "      <td>34.0</td>\n",
       "      <td>20.0</td>\n",
       "      <td>824.0</td>\n",
       "      <td>Vin</td>\n",
       "    </tr>\n",
       "    <tr>\n",
       "      <th>8</th>\n",
       "      <td>6212.0</td>\n",
       "      <td>domaine-des-comtes-lafon-volnay-1er-cru-santen...</td>\n",
       "      <td>16.0</td>\n",
       "      <td>7.0</td>\n",
       "      <td>805.0</td>\n",
       "      <td>Vin</td>\n",
       "    </tr>\n",
       "    <tr>\n",
       "      <th>9</th>\n",
       "      <td>5026.0</td>\n",
       "      <td>champagne-agrapart-fils-mineral-extra-brut-bla...</td>\n",
       "      <td>101.0</td>\n",
       "      <td>9.0</td>\n",
       "      <td>781.2</td>\n",
       "      <td>Champagne</td>\n",
       "    </tr>\n",
       "    <tr>\n",
       "      <th>10</th>\n",
       "      <td>5008.0</td>\n",
       "      <td>domaine-des-comtes-lafon-volnay-1er-cru-santen...</td>\n",
       "      <td>12.0</td>\n",
       "      <td>7.0</td>\n",
       "      <td>735.0</td>\n",
       "      <td>Vin</td>\n",
       "    </tr>\n",
       "    <tr>\n",
       "      <th>11</th>\n",
       "      <td>5767.0</td>\n",
       "      <td>camille-giroud-clos-de-vougeot-2016</td>\n",
       "      <td>12.0</td>\n",
       "      <td>4.0</td>\n",
       "      <td>700.0</td>\n",
       "      <td>Vin</td>\n",
       "    </tr>\n",
       "    <tr>\n",
       "      <th>12</th>\n",
       "      <td>6126.0</td>\n",
       "      <td>champagne-gosset-celebris-vintage-2007</td>\n",
       "      <td>138.0</td>\n",
       "      <td>5.0</td>\n",
       "      <td>675.0</td>\n",
       "      <td>Champagne</td>\n",
       "    </tr>\n",
       "    <tr>\n",
       "      <th>13</th>\n",
       "      <td>5025.0</td>\n",
       "      <td>champagne-agrapart-fils-lavizoise-grand-cru-20...</td>\n",
       "      <td>136.0</td>\n",
       "      <td>6.0</td>\n",
       "      <td>672.0</td>\n",
       "      <td>Champagne</td>\n",
       "    </tr>\n",
       "    <tr>\n",
       "      <th>14</th>\n",
       "      <td>6201.0</td>\n",
       "      <td>david-duband-chambolle-musigny-1er-cru-les-sen...</td>\n",
       "      <td>16.0</td>\n",
       "      <td>6.0</td>\n",
       "      <td>633.6</td>\n",
       "      <td>Vin</td>\n",
       "    </tr>\n",
       "    <tr>\n",
       "      <th>15</th>\n",
       "      <td>4406.0</td>\n",
       "      <td>cognac-frapin-chateau-de-fontpinot-1989-20-ans</td>\n",
       "      <td>12.0</td>\n",
       "      <td>4.0</td>\n",
       "      <td>628.0</td>\n",
       "      <td>Cognac</td>\n",
       "    </tr>\n",
       "    <tr>\n",
       "      <th>16</th>\n",
       "      <td>4647.0</td>\n",
       "      <td>bernard-baudry-chinon-rouge-croix-boissee-2017</td>\n",
       "      <td>45.0</td>\n",
       "      <td>22.0</td>\n",
       "      <td>627.0</td>\n",
       "      <td>Vin</td>\n",
       "    </tr>\n",
       "    <tr>\n",
       "      <th>17</th>\n",
       "      <td>4358.0</td>\n",
       "      <td>champagne-larmandier-bernier-vieilles-vignes-l...</td>\n",
       "      <td>81.0</td>\n",
       "      <td>8.0</td>\n",
       "      <td>616.0</td>\n",
       "      <td>Champagne</td>\n",
       "    </tr>\n",
       "    <tr>\n",
       "      <th>18</th>\n",
       "      <td>4359.0</td>\n",
       "      <td>champagne-larmandier-bernier-grand-cru-vieille...</td>\n",
       "      <td>112.0</td>\n",
       "      <td>7.0</td>\n",
       "      <td>599.2</td>\n",
       "      <td>Champagne</td>\n",
       "    </tr>\n",
       "    <tr>\n",
       "      <th>19</th>\n",
       "      <td>6214.0</td>\n",
       "      <td>domaine-des-comtes-lafon-volnay-1er-cru-champa...</td>\n",
       "      <td>9.0</td>\n",
       "      <td>6.0</td>\n",
       "      <td>594.0</td>\n",
       "      <td>Vin</td>\n",
       "    </tr>\n",
       "  </tbody>\n",
       "</table>\n",
       "</div>"
      ],
      "text/plain": [
       "   product_id                                          post_name  \\\n",
       "0      4150.0       champagne-mailly-grand-cru-intemporelle-2010   \n",
       "1      4352.0     champagne-egly-ouriet-grand-cru-millesime-2008   \n",
       "2      4726.0           francois-baur-pinot-noir-schlittweg-2017   \n",
       "3      5067.0                albert-mann-pinot-noir-grand-h-2017   \n",
       "4      5379.0            argentine-mendoza-alamos-torrontes-2017   \n",
       "5      5892.0  coteaux-champenois-egly-ouriet-ambonnay-rouge-...   \n",
       "6      4353.0          champagne-egly-ouriet-grand-cru-brut-rose   \n",
       "7      5826.0                         agnes-levet-amethyste-2017   \n",
       "8      6212.0  domaine-des-comtes-lafon-volnay-1er-cru-santen...   \n",
       "9      5026.0  champagne-agrapart-fils-mineral-extra-brut-bla...   \n",
       "10     5008.0  domaine-des-comtes-lafon-volnay-1er-cru-santen...   \n",
       "11     5767.0                camille-giroud-clos-de-vougeot-2016   \n",
       "12     6126.0             champagne-gosset-celebris-vintage-2007   \n",
       "13     5025.0  champagne-agrapart-fils-lavizoise-grand-cru-20...   \n",
       "14     6201.0  david-duband-chambolle-musigny-1er-cru-les-sen...   \n",
       "15     4406.0     cognac-frapin-chateau-de-fontpinot-1989-20-ans   \n",
       "16     4647.0     bernard-baudry-chinon-rouge-croix-boissee-2017   \n",
       "17     4358.0  champagne-larmandier-bernier-vieilles-vignes-l...   \n",
       "18     4359.0  champagne-larmandier-bernier-grand-cru-vieille...   \n",
       "19     6214.0  domaine-des-comtes-lafon-volnay-1er-cru-champa...   \n",
       "\n",
       "    stock_quantity  total_sales  ca_par_article product_type  \n",
       "0            123.0        116.0          6844.0    Champagne  \n",
       "1              0.0         11.0          2475.0    Champagne  \n",
       "2              0.0        122.0          1549.4          Vin  \n",
       "3              3.0         22.0          1317.8          Vin  \n",
       "4             33.0        111.0          1232.1          Vin  \n",
       "5             98.0          6.0          1147.8    Champagne  \n",
       "6            127.0         14.0          1113.0    Champagne  \n",
       "7             34.0         20.0           824.0          Vin  \n",
       "8             16.0          7.0           805.0          Vin  \n",
       "9            101.0          9.0           781.2    Champagne  \n",
       "10            12.0          7.0           735.0          Vin  \n",
       "11            12.0          4.0           700.0          Vin  \n",
       "12           138.0          5.0           675.0    Champagne  \n",
       "13           136.0          6.0           672.0    Champagne  \n",
       "14            16.0          6.0           633.6          Vin  \n",
       "15            12.0          4.0           628.0       Cognac  \n",
       "16            45.0         22.0           627.0          Vin  \n",
       "17            81.0          8.0           616.0    Champagne  \n",
       "18           112.0          7.0           599.2    Champagne  \n",
       "19             9.0          6.0           594.0          Vin  "
      ]
     },
     "execution_count": 145,
     "metadata": {},
     "output_type": "execute_result"
    }
   ],
   "source": [
    "# Sélectionner les colonnes d'intérêt la DataFrame top_20_articles\n",
    "selected_columns_articles = top_20_articles[['product_id', 'post_name','stock_quantity', 'total_sales', 'ca_par_article', 'product_type']]\n",
    "\n",
    "# Afficher les résultats\n",
    "selected_columns_articles.head(20)"
   ]
  },
  {
   "cell_type": "code",
   "execution_count": 146,
   "id": "e3aa9fc3-72dd-4b63-8d32-c5fd15684879",
   "metadata": {},
   "outputs": [
    {
     "data": {
      "text/html": [
       "<div>\n",
       "<style scoped>\n",
       "    .dataframe tbody tr th:only-of-type {\n",
       "        vertical-align: middle;\n",
       "    }\n",
       "\n",
       "    .dataframe tbody tr th {\n",
       "        vertical-align: top;\n",
       "    }\n",
       "\n",
       "    .dataframe thead th {\n",
       "        text-align: right;\n",
       "    }\n",
       "</style>\n",
       "<table border=\"1\" class=\"dataframe\">\n",
       "  <thead>\n",
       "    <tr style=\"text-align: right;\">\n",
       "      <th></th>\n",
       "      <th>product_id</th>\n",
       "      <th>post_name</th>\n",
       "      <th>stock_quantity</th>\n",
       "      <th>total_sales</th>\n",
       "      <th>ca_par_article</th>\n",
       "      <th>product_type</th>\n",
       "    </tr>\n",
       "  </thead>\n",
       "  <tbody>\n",
       "    <tr>\n",
       "      <th>0</th>\n",
       "      <td>4726.0</td>\n",
       "      <td>francois-baur-pinot-noir-schlittweg-2017</td>\n",
       "      <td>0.0</td>\n",
       "      <td>122.0</td>\n",
       "      <td>1549.4</td>\n",
       "      <td>Vin</td>\n",
       "    </tr>\n",
       "    <tr>\n",
       "      <th>1</th>\n",
       "      <td>4150.0</td>\n",
       "      <td>champagne-mailly-grand-cru-intemporelle-2010</td>\n",
       "      <td>123.0</td>\n",
       "      <td>116.0</td>\n",
       "      <td>6844.0</td>\n",
       "      <td>Champagne</td>\n",
       "    </tr>\n",
       "    <tr>\n",
       "      <th>2</th>\n",
       "      <td>5379.0</td>\n",
       "      <td>argentine-mendoza-alamos-torrontes-2017</td>\n",
       "      <td>33.0</td>\n",
       "      <td>111.0</td>\n",
       "      <td>1232.1</td>\n",
       "      <td>Vin</td>\n",
       "    </tr>\n",
       "    <tr>\n",
       "      <th>3</th>\n",
       "      <td>4867.0</td>\n",
       "      <td>chateau-de-la-selve-igp-coteaux-de-lardeche-ma...</td>\n",
       "      <td>121.0</td>\n",
       "      <td>36.0</td>\n",
       "      <td>356.4</td>\n",
       "      <td>Vin</td>\n",
       "    </tr>\n",
       "    <tr>\n",
       "      <th>4</th>\n",
       "      <td>4203.0</td>\n",
       "      <td>mas-laval-igp-pays-herault-pampres-blanc-2018</td>\n",
       "      <td>74.0</td>\n",
       "      <td>27.0</td>\n",
       "      <td>267.3</td>\n",
       "      <td>Vin</td>\n",
       "    </tr>\n",
       "    <tr>\n",
       "      <th>5</th>\n",
       "      <td>4275.0</td>\n",
       "      <td>i-fabbri-chianti-classico-lamole-2017</td>\n",
       "      <td>62.0</td>\n",
       "      <td>24.0</td>\n",
       "      <td>357.6</td>\n",
       "      <td>Vin</td>\n",
       "    </tr>\n",
       "    <tr>\n",
       "      <th>6</th>\n",
       "      <td>4647.0</td>\n",
       "      <td>bernard-baudry-chinon-rouge-croix-boissee-2017</td>\n",
       "      <td>45.0</td>\n",
       "      <td>22.0</td>\n",
       "      <td>627.0</td>\n",
       "      <td>Vin</td>\n",
       "    </tr>\n",
       "    <tr>\n",
       "      <th>7</th>\n",
       "      <td>5067.0</td>\n",
       "      <td>albert-mann-pinot-noir-grand-h-2017</td>\n",
       "      <td>3.0</td>\n",
       "      <td>22.0</td>\n",
       "      <td>1317.8</td>\n",
       "      <td>Vin</td>\n",
       "    </tr>\n",
       "    <tr>\n",
       "      <th>8</th>\n",
       "      <td>6129.0</td>\n",
       "      <td>moulin-de-gassac-igp-pays-dherault-guilhem-bla...</td>\n",
       "      <td>68.0</td>\n",
       "      <td>20.0</td>\n",
       "      <td>104.0</td>\n",
       "      <td>Vin</td>\n",
       "    </tr>\n",
       "    <tr>\n",
       "      <th>9</th>\n",
       "      <td>5826.0</td>\n",
       "      <td>agnes-levet-amethyste-2017</td>\n",
       "      <td>34.0</td>\n",
       "      <td>20.0</td>\n",
       "      <td>824.0</td>\n",
       "      <td>Vin</td>\n",
       "    </tr>\n",
       "    <tr>\n",
       "      <th>10</th>\n",
       "      <td>4220.0</td>\n",
       "      <td>frissant-chenin-pierres-2018</td>\n",
       "      <td>48.0</td>\n",
       "      <td>18.0</td>\n",
       "      <td>208.8</td>\n",
       "      <td>Vin</td>\n",
       "    </tr>\n",
       "    <tr>\n",
       "      <th>11</th>\n",
       "      <td>5803.0</td>\n",
       "      <td>tour-haut-caussan-medoc-2015</td>\n",
       "      <td>47.0</td>\n",
       "      <td>17.0</td>\n",
       "      <td>290.7</td>\n",
       "      <td>Vin</td>\n",
       "    </tr>\n",
       "    <tr>\n",
       "      <th>12</th>\n",
       "      <td>6569.0</td>\n",
       "      <td>decelle-villa-chorey-beaune-2016</td>\n",
       "      <td>58.0</td>\n",
       "      <td>17.0</td>\n",
       "      <td>493.0</td>\n",
       "      <td>Vin</td>\n",
       "    </tr>\n",
       "    <tr>\n",
       "      <th>13</th>\n",
       "      <td>5778.0</td>\n",
       "      <td>maurel-pays-d-oc-merot-2018</td>\n",
       "      <td>44.0</td>\n",
       "      <td>17.0</td>\n",
       "      <td>98.6</td>\n",
       "      <td>Vin</td>\n",
       "    </tr>\n",
       "    <tr>\n",
       "      <th>14</th>\n",
       "      <td>4863.0</td>\n",
       "      <td>chateau-ollieux-romanis-corbieres-rose-classiq...</td>\n",
       "      <td>54.0</td>\n",
       "      <td>16.0</td>\n",
       "      <td>131.2</td>\n",
       "      <td>Vin</td>\n",
       "    </tr>\n",
       "    <tr>\n",
       "      <th>15</th>\n",
       "      <td>4188.0</td>\n",
       "      <td>liquiere-languedoc-amandiers-blancs-2019</td>\n",
       "      <td>51.0</td>\n",
       "      <td>16.0</td>\n",
       "      <td>152.0</td>\n",
       "      <td>Vin</td>\n",
       "    </tr>\n",
       "    <tr>\n",
       "      <th>16</th>\n",
       "      <td>4105.0</td>\n",
       "      <td>emile-boeckel-sylvaner-vieilles-vignes-2019</td>\n",
       "      <td>45.0</td>\n",
       "      <td>16.0</td>\n",
       "      <td>108.8</td>\n",
       "      <td>Vin</td>\n",
       "    </tr>\n",
       "    <tr>\n",
       "      <th>17</th>\n",
       "      <td>4059.0</td>\n",
       "      <td>mourgues-du-gres-costieres-de-nimes-galets-ros...</td>\n",
       "      <td>34.0</td>\n",
       "      <td>16.0</td>\n",
       "      <td>139.2</td>\n",
       "      <td>Vin</td>\n",
       "    </tr>\n",
       "    <tr>\n",
       "      <th>18</th>\n",
       "      <td>5695.0</td>\n",
       "      <td>philippe-nusswitz-igp-cevennes-opale-rose-2019</td>\n",
       "      <td>33.0</td>\n",
       "      <td>16.0</td>\n",
       "      <td>104.0</td>\n",
       "      <td>Vin</td>\n",
       "    </tr>\n",
       "    <tr>\n",
       "      <th>19</th>\n",
       "      <td>4870.0</td>\n",
       "      <td>triennes-igp-mediterranee-rose-2019</td>\n",
       "      <td>0.0</td>\n",
       "      <td>16.0</td>\n",
       "      <td>148.8</td>\n",
       "      <td>Vin</td>\n",
       "    </tr>\n",
       "  </tbody>\n",
       "</table>\n",
       "</div>"
      ],
      "text/plain": [
       "   product_id                                          post_name  \\\n",
       "0      4726.0           francois-baur-pinot-noir-schlittweg-2017   \n",
       "1      4150.0       champagne-mailly-grand-cru-intemporelle-2010   \n",
       "2      5379.0            argentine-mendoza-alamos-torrontes-2017   \n",
       "3      4867.0  chateau-de-la-selve-igp-coteaux-de-lardeche-ma...   \n",
       "4      4203.0      mas-laval-igp-pays-herault-pampres-blanc-2018   \n",
       "5      4275.0              i-fabbri-chianti-classico-lamole-2017   \n",
       "6      4647.0     bernard-baudry-chinon-rouge-croix-boissee-2017   \n",
       "7      5067.0                albert-mann-pinot-noir-grand-h-2017   \n",
       "8      6129.0  moulin-de-gassac-igp-pays-dherault-guilhem-bla...   \n",
       "9      5826.0                         agnes-levet-amethyste-2017   \n",
       "10     4220.0                       frissant-chenin-pierres-2018   \n",
       "11     5803.0                       tour-haut-caussan-medoc-2015   \n",
       "12     6569.0                   decelle-villa-chorey-beaune-2016   \n",
       "13     5778.0                        maurel-pays-d-oc-merot-2018   \n",
       "14     4863.0  chateau-ollieux-romanis-corbieres-rose-classiq...   \n",
       "15     4188.0           liquiere-languedoc-amandiers-blancs-2019   \n",
       "16     4105.0        emile-boeckel-sylvaner-vieilles-vignes-2019   \n",
       "17     4059.0  mourgues-du-gres-costieres-de-nimes-galets-ros...   \n",
       "18     5695.0     philippe-nusswitz-igp-cevennes-opale-rose-2019   \n",
       "19     4870.0                triennes-igp-mediterranee-rose-2019   \n",
       "\n",
       "    stock_quantity  total_sales  ca_par_article product_type  \n",
       "0              0.0        122.0          1549.4          Vin  \n",
       "1            123.0        116.0          6844.0    Champagne  \n",
       "2             33.0        111.0          1232.1          Vin  \n",
       "3            121.0         36.0           356.4          Vin  \n",
       "4             74.0         27.0           267.3          Vin  \n",
       "5             62.0         24.0           357.6          Vin  \n",
       "6             45.0         22.0           627.0          Vin  \n",
       "7              3.0         22.0          1317.8          Vin  \n",
       "8             68.0         20.0           104.0          Vin  \n",
       "9             34.0         20.0           824.0          Vin  \n",
       "10            48.0         18.0           208.8          Vin  \n",
       "11            47.0         17.0           290.7          Vin  \n",
       "12            58.0         17.0           493.0          Vin  \n",
       "13            44.0         17.0            98.6          Vin  \n",
       "14            54.0         16.0           131.2          Vin  \n",
       "15            51.0         16.0           152.0          Vin  \n",
       "16            45.0         16.0           108.8          Vin  \n",
       "17            34.0         16.0           139.2          Vin  \n",
       "18            33.0         16.0           104.0          Vin  \n",
       "19             0.0         16.0           148.8          Vin  "
      ]
     },
     "execution_count": 146,
     "metadata": {},
     "output_type": "execute_result"
    }
   ],
   "source": [
    "# Sélectionner les colonnes d'intérêt pour la DataFrame tope_20_quantity\n",
    "selected_columns_quantity = top_20_quantity[['product_id', 'post_name','stock_quantity', 'total_sales', 'ca_par_article', 'product_type']]\n",
    "\n",
    "# Afficher les résultats\n",
    "selected_columns_quantity.head(20)"
   ]
  },
  {
   "cell_type": "code",
   "execution_count": 147,
   "id": "829a3134-b6f0-4dd7-b4b1-4ab227bf74b7",
   "metadata": {},
   "outputs": [
    {
     "data": {
      "text/html": [
       "<div>\n",
       "<style scoped>\n",
       "    .dataframe tbody tr th:only-of-type {\n",
       "        vertical-align: middle;\n",
       "    }\n",
       "\n",
       "    .dataframe tbody tr th {\n",
       "        vertical-align: top;\n",
       "    }\n",
       "\n",
       "    .dataframe thead th {\n",
       "        text-align: right;\n",
       "    }\n",
       "</style>\n",
       "<table border=\"1\" class=\"dataframe\">\n",
       "  <thead>\n",
       "    <tr style=\"text-align: right;\">\n",
       "      <th></th>\n",
       "      <th>product_id</th>\n",
       "      <th>post_name</th>\n",
       "      <th>mois_stock</th>\n",
       "      <th>stock_quantity</th>\n",
       "      <th>total_sales</th>\n",
       "      <th>ca_par_article</th>\n",
       "      <th>product_type</th>\n",
       "    </tr>\n",
       "  </thead>\n",
       "  <tbody>\n",
       "    <tr>\n",
       "      <th>58</th>\n",
       "      <td>4142.0</td>\n",
       "      <td>champagne-gosset-grand-millesime-2006</td>\n",
       "      <td>968.750000</td>\n",
       "      <td>125.0</td>\n",
       "      <td>4.0</td>\n",
       "      <td>212.0</td>\n",
       "      <td>Champagne</td>\n",
       "    </tr>\n",
       "    <tr>\n",
       "      <th>260</th>\n",
       "      <td>6126.0</td>\n",
       "      <td>champagne-gosset-celebris-vintage-2007</td>\n",
       "      <td>855.600000</td>\n",
       "      <td>138.0</td>\n",
       "      <td>5.0</td>\n",
       "      <td>675.0</td>\n",
       "      <td>Champagne</td>\n",
       "    </tr>\n",
       "    <tr>\n",
       "      <th>78</th>\n",
       "      <td>4356.0</td>\n",
       "      <td>champagne-egly-ouriet-premier-cru-vrigny</td>\n",
       "      <td>837.000000</td>\n",
       "      <td>81.0</td>\n",
       "      <td>3.0</td>\n",
       "      <td>154.8</td>\n",
       "      <td>Champagne</td>\n",
       "    </tr>\n",
       "    <tr>\n",
       "      <th>79</th>\n",
       "      <td>4348.0</td>\n",
       "      <td>champagne-egly-ouriet-tradition-grand-cru</td>\n",
       "      <td>775.000000</td>\n",
       "      <td>125.0</td>\n",
       "      <td>5.0</td>\n",
       "      <td>295.0</td>\n",
       "      <td>Champagne</td>\n",
       "    </tr>\n",
       "    <tr>\n",
       "      <th>15</th>\n",
       "      <td>4148.0</td>\n",
       "      <td>champagne-mailly-grand-cru-brut-rose</td>\n",
       "      <td>733.666667</td>\n",
       "      <td>71.0</td>\n",
       "      <td>3.0</td>\n",
       "      <td>112.5</td>\n",
       "      <td>Champagne</td>\n",
       "    </tr>\n",
       "    <tr>\n",
       "      <th>39</th>\n",
       "      <td>4357.0</td>\n",
       "      <td>champagne-larmandier-bernier-latitude</td>\n",
       "      <td>713.000000</td>\n",
       "      <td>115.0</td>\n",
       "      <td>5.0</td>\n",
       "      <td>195.0</td>\n",
       "      <td>Champagne</td>\n",
       "    </tr>\n",
       "    <tr>\n",
       "      <th>17</th>\n",
       "      <td>4144.0</td>\n",
       "      <td>champagne-gosset-grand-rose</td>\n",
       "      <td>705.250000</td>\n",
       "      <td>91.0</td>\n",
       "      <td>4.0</td>\n",
       "      <td>196.0</td>\n",
       "      <td>Champagne</td>\n",
       "    </tr>\n",
       "    <tr>\n",
       "      <th>153</th>\n",
       "      <td>5025.0</td>\n",
       "      <td>champagne-agrapart-fils-lavizoise-grand-cru-20...</td>\n",
       "      <td>702.666667</td>\n",
       "      <td>136.0</td>\n",
       "      <td>6.0</td>\n",
       "      <td>672.0</td>\n",
       "      <td>Champagne</td>\n",
       "    </tr>\n",
       "    <tr>\n",
       "      <th>81</th>\n",
       "      <td>4350.0</td>\n",
       "      <td>champagne-egly-ouriet-extra-brut-vp</td>\n",
       "      <td>642.142857</td>\n",
       "      <td>145.0</td>\n",
       "      <td>7.0</td>\n",
       "      <td>556.5</td>\n",
       "      <td>Champagne</td>\n",
       "    </tr>\n",
       "    <tr>\n",
       "      <th>33</th>\n",
       "      <td>4334.0</td>\n",
       "      <td>champagne-gosset-grand-blanc-de-blanc</td>\n",
       "      <td>628.857143</td>\n",
       "      <td>142.0</td>\n",
       "      <td>7.0</td>\n",
       "      <td>343.0</td>\n",
       "      <td>Champagne</td>\n",
       "    </tr>\n",
       "    <tr>\n",
       "      <th>32</th>\n",
       "      <td>4149.0</td>\n",
       "      <td>champagne-mailly-grand-cru-intemporelle-rose-2009</td>\n",
       "      <td>626.200000</td>\n",
       "      <td>101.0</td>\n",
       "      <td>5.0</td>\n",
       "      <td>345.0</td>\n",
       "      <td>Champagne</td>\n",
       "    </tr>\n",
       "    <tr>\n",
       "      <th>259</th>\n",
       "      <td>5612.0</td>\n",
       "      <td>domaine-weinbach-gewurztraminer-gc-furstentum-...</td>\n",
       "      <td>589.000000</td>\n",
       "      <td>19.0</td>\n",
       "      <td>1.0</td>\n",
       "      <td>124.8</td>\n",
       "      <td>Vin</td>\n",
       "    </tr>\n",
       "    <tr>\n",
       "      <th>92</th>\n",
       "      <td>4582.0</td>\n",
       "      <td>chateau-de-puligny-montrachet-1cru-champ-canet...</td>\n",
       "      <td>558.000000</td>\n",
       "      <td>18.0</td>\n",
       "      <td>1.0</td>\n",
       "      <td>109.6</td>\n",
       "      <td>Vin</td>\n",
       "    </tr>\n",
       "    <tr>\n",
       "      <th>66</th>\n",
       "      <td>5024.0</td>\n",
       "      <td>champagne-agrapart-fils-les-7-crus-brut-blanc-...</td>\n",
       "      <td>532.166667</td>\n",
       "      <td>103.0</td>\n",
       "      <td>6.0</td>\n",
       "      <td>270.0</td>\n",
       "      <td>Champagne</td>\n",
       "    </tr>\n",
       "    <tr>\n",
       "      <th>49</th>\n",
       "      <td>4970.0</td>\n",
       "      <td>champagne-larmandier-bernier-terre-de-vertus-p...</td>\n",
       "      <td>516.666667</td>\n",
       "      <td>100.0</td>\n",
       "      <td>6.0</td>\n",
       "      <td>297.0</td>\n",
       "      <td>Champagne</td>\n",
       "    </tr>\n",
       "    <tr>\n",
       "      <th>272</th>\n",
       "      <td>5892.0</td>\n",
       "      <td>coteaux-champenois-egly-ouriet-ambonnay-rouge-...</td>\n",
       "      <td>506.333333</td>\n",
       "      <td>98.0</td>\n",
       "      <td>6.0</td>\n",
       "      <td>1147.8</td>\n",
       "      <td>Champagne</td>\n",
       "    </tr>\n",
       "    <tr>\n",
       "      <th>146</th>\n",
       "      <td>4359.0</td>\n",
       "      <td>champagne-larmandier-bernier-grand-cru-vieille...</td>\n",
       "      <td>496.000000</td>\n",
       "      <td>112.0</td>\n",
       "      <td>7.0</td>\n",
       "      <td>599.2</td>\n",
       "      <td>Champagne</td>\n",
       "    </tr>\n",
       "    <tr>\n",
       "      <th>3</th>\n",
       "      <td>4141.0</td>\n",
       "      <td>gosset-champagne-grande-reserve</td>\n",
       "      <td>476.625000</td>\n",
       "      <td>123.0</td>\n",
       "      <td>8.0</td>\n",
       "      <td>312.0</td>\n",
       "      <td>Champagne</td>\n",
       "    </tr>\n",
       "    <tr>\n",
       "      <th>14</th>\n",
       "      <td>4146.0</td>\n",
       "      <td>champagne-mailly-gc-brut-reserve</td>\n",
       "      <td>444.333333</td>\n",
       "      <td>86.0</td>\n",
       "      <td>6.0</td>\n",
       "      <td>177.0</td>\n",
       "      <td>Champagne</td>\n",
       "    </tr>\n",
       "    <tr>\n",
       "      <th>67</th>\n",
       "      <td>5027.0</td>\n",
       "      <td>champagne-agrapart-fils-terroirs-brut-blanc-de...</td>\n",
       "      <td>408.166667</td>\n",
       "      <td>79.0</td>\n",
       "      <td>6.0</td>\n",
       "      <td>372.6</td>\n",
       "      <td>Champagne</td>\n",
       "    </tr>\n",
       "  </tbody>\n",
       "</table>\n",
       "</div>"
      ],
      "text/plain": [
       "    product_id                                          post_name  mois_stock  \\\n",
       "58      4142.0              champagne-gosset-grand-millesime-2006  968.750000   \n",
       "260     6126.0             champagne-gosset-celebris-vintage-2007  855.600000   \n",
       "78      4356.0           champagne-egly-ouriet-premier-cru-vrigny  837.000000   \n",
       "79      4348.0          champagne-egly-ouriet-tradition-grand-cru  775.000000   \n",
       "15      4148.0               champagne-mailly-grand-cru-brut-rose  733.666667   \n",
       "39      4357.0              champagne-larmandier-bernier-latitude  713.000000   \n",
       "17      4144.0                        champagne-gosset-grand-rose  705.250000   \n",
       "153     5025.0  champagne-agrapart-fils-lavizoise-grand-cru-20...  702.666667   \n",
       "81      4350.0                champagne-egly-ouriet-extra-brut-vp  642.142857   \n",
       "33      4334.0              champagne-gosset-grand-blanc-de-blanc  628.857143   \n",
       "32      4149.0  champagne-mailly-grand-cru-intemporelle-rose-2009  626.200000   \n",
       "259     5612.0  domaine-weinbach-gewurztraminer-gc-furstentum-...  589.000000   \n",
       "92      4582.0  chateau-de-puligny-montrachet-1cru-champ-canet...  558.000000   \n",
       "66      5024.0  champagne-agrapart-fils-les-7-crus-brut-blanc-...  532.166667   \n",
       "49      4970.0  champagne-larmandier-bernier-terre-de-vertus-p...  516.666667   \n",
       "272     5892.0  coteaux-champenois-egly-ouriet-ambonnay-rouge-...  506.333333   \n",
       "146     4359.0  champagne-larmandier-bernier-grand-cru-vieille...  496.000000   \n",
       "3       4141.0                    gosset-champagne-grande-reserve  476.625000   \n",
       "14      4146.0                   champagne-mailly-gc-brut-reserve  444.333333   \n",
       "67      5027.0  champagne-agrapart-fils-terroirs-brut-blanc-de...  408.166667   \n",
       "\n",
       "     stock_quantity  total_sales  ca_par_article product_type  \n",
       "58            125.0          4.0           212.0    Champagne  \n",
       "260           138.0          5.0           675.0    Champagne  \n",
       "78             81.0          3.0           154.8    Champagne  \n",
       "79            125.0          5.0           295.0    Champagne  \n",
       "15             71.0          3.0           112.5    Champagne  \n",
       "39            115.0          5.0           195.0    Champagne  \n",
       "17             91.0          4.0           196.0    Champagne  \n",
       "153           136.0          6.0           672.0    Champagne  \n",
       "81            145.0          7.0           556.5    Champagne  \n",
       "33            142.0          7.0           343.0    Champagne  \n",
       "32            101.0          5.0           345.0    Champagne  \n",
       "259            19.0          1.0           124.8          Vin  \n",
       "92             18.0          1.0           109.6          Vin  \n",
       "66            103.0          6.0           270.0    Champagne  \n",
       "49            100.0          6.0           297.0    Champagne  \n",
       "272            98.0          6.0          1147.8    Champagne  \n",
       "146           112.0          7.0           599.2    Champagne  \n",
       "3             123.0          8.0           312.0    Champagne  \n",
       "14             86.0          6.0           177.0    Champagne  \n",
       "67             79.0          6.0           372.6    Champagne  "
      ]
     },
     "execution_count": 147,
     "metadata": {},
     "output_type": "execute_result"
    }
   ],
   "source": [
    "#Sélectionner les colonnes d'intérêt pour la DataFrame tope_20_mois_stock\n",
    "selected_columns_mois_stock = top_20_mois_stock[['product_id','post_name','mois_stock','stock_quantity','total_sales','ca_par_article','product_type']]\n",
    "\n",
    "# Afficher les résultats\n",
    "selected_columns_mois_stock.head(20)\n",
    "                                "
   ]
  },
  {
   "cell_type": "code",
   "execution_count": 148,
   "id": "ad3444b4-30b4-4d26-beb4-56b2061580da",
   "metadata": {},
   "outputs": [
    {
     "name": "stdout",
     "output_type": "stream",
     "text": [
      "Articles communs dans les deux DataFrames (top_20_articles et top_20_quantity ) :\n",
      "\n"
     ]
    },
    {
     "data": {
      "text/html": [
       "<div>\n",
       "<style scoped>\n",
       "    .dataframe tbody tr th:only-of-type {\n",
       "        vertical-align: middle;\n",
       "    }\n",
       "\n",
       "    .dataframe tbody tr th {\n",
       "        vertical-align: top;\n",
       "    }\n",
       "\n",
       "    .dataframe thead th {\n",
       "        text-align: right;\n",
       "    }\n",
       "</style>\n",
       "<table border=\"1\" class=\"dataframe\">\n",
       "  <thead>\n",
       "    <tr style=\"text-align: right;\">\n",
       "      <th></th>\n",
       "      <th>product_id</th>\n",
       "      <th>post_name</th>\n",
       "      <th>stock_quantity</th>\n",
       "      <th>total_sales</th>\n",
       "      <th>ca_par_article</th>\n",
       "      <th>product_type</th>\n",
       "    </tr>\n",
       "  </thead>\n",
       "  <tbody>\n",
       "    <tr>\n",
       "      <th>0</th>\n",
       "      <td>4726.0</td>\n",
       "      <td>francois-baur-pinot-noir-schlittweg-2017</td>\n",
       "      <td>0.0</td>\n",
       "      <td>122.0</td>\n",
       "      <td>1549.4</td>\n",
       "      <td>Vin</td>\n",
       "    </tr>\n",
       "    <tr>\n",
       "      <th>1</th>\n",
       "      <td>4150.0</td>\n",
       "      <td>champagne-mailly-grand-cru-intemporelle-2010</td>\n",
       "      <td>123.0</td>\n",
       "      <td>116.0</td>\n",
       "      <td>6844.0</td>\n",
       "      <td>Champagne</td>\n",
       "    </tr>\n",
       "    <tr>\n",
       "      <th>2</th>\n",
       "      <td>5379.0</td>\n",
       "      <td>argentine-mendoza-alamos-torrontes-2017</td>\n",
       "      <td>33.0</td>\n",
       "      <td>111.0</td>\n",
       "      <td>1232.1</td>\n",
       "      <td>Vin</td>\n",
       "    </tr>\n",
       "    <tr>\n",
       "      <th>6</th>\n",
       "      <td>4647.0</td>\n",
       "      <td>bernard-baudry-chinon-rouge-croix-boissee-2017</td>\n",
       "      <td>45.0</td>\n",
       "      <td>22.0</td>\n",
       "      <td>627.0</td>\n",
       "      <td>Vin</td>\n",
       "    </tr>\n",
       "    <tr>\n",
       "      <th>7</th>\n",
       "      <td>5067.0</td>\n",
       "      <td>albert-mann-pinot-noir-grand-h-2017</td>\n",
       "      <td>3.0</td>\n",
       "      <td>22.0</td>\n",
       "      <td>1317.8</td>\n",
       "      <td>Vin</td>\n",
       "    </tr>\n",
       "    <tr>\n",
       "      <th>9</th>\n",
       "      <td>5826.0</td>\n",
       "      <td>agnes-levet-amethyste-2017</td>\n",
       "      <td>34.0</td>\n",
       "      <td>20.0</td>\n",
       "      <td>824.0</td>\n",
       "      <td>Vin</td>\n",
       "    </tr>\n",
       "  </tbody>\n",
       "</table>\n",
       "</div>"
      ],
      "text/plain": [
       "  product_id                                       post_name  stock_quantity  \\\n",
       "0     4726.0        francois-baur-pinot-noir-schlittweg-2017             0.0   \n",
       "1     4150.0    champagne-mailly-grand-cru-intemporelle-2010           123.0   \n",
       "2     5379.0         argentine-mendoza-alamos-torrontes-2017            33.0   \n",
       "6     4647.0  bernard-baudry-chinon-rouge-croix-boissee-2017            45.0   \n",
       "7     5067.0             albert-mann-pinot-noir-grand-h-2017             3.0   \n",
       "9     5826.0                      agnes-levet-amethyste-2017            34.0   \n",
       "\n",
       "   total_sales  ca_par_article product_type  \n",
       "0        122.0          1549.4          Vin  \n",
       "1        116.0          6844.0    Champagne  \n",
       "2        111.0          1232.1          Vin  \n",
       "6         22.0           627.0          Vin  \n",
       "7         22.0          1317.8          Vin  \n",
       "9         20.0           824.0          Vin  "
      ]
     },
     "execution_count": 148,
     "metadata": {},
     "output_type": "execute_result"
    }
   ],
   "source": [
    "# Trouver les produits communs aux deux DataFrames (top_20_articles et top_20_quantity )\n",
    "produits_communs = set(top_20_articles['product_id']).intersection(\n",
    "    set(top_20_quantity['product_id'])\n",
    ")\n",
    "\n",
    "#  Filtrer les DataFrames pour afficher uniquement les produits communs\n",
    "articles_communs = top_20_articles[top_20_articles['product_id'].isin(produits_communs)]\n",
    "quantity_communs = top_20_quantity[top_20_quantity['product_id'].isin(produits_communs)]\n",
    "\n",
    "# Sélectionner les colonnes d'intérêt pour les deux DataFrames\n",
    "select_columns_articles_communs = articles_communs[['product_id', 'post_name','stock_quantity', 'total_sales', 'ca_par_article', 'product_type']] \n",
    "select_columns_quantity_communs = quantity_communs[['product_id', 'post_name','stock_quantity', 'total_sales', 'ca_par_article', 'product_type']] \n",
    "\n",
    "#  Afficher les résultats\n",
    "print(\"Articles communs dans les deux DataFrames (top_20_articles et top_20_quantity ) :\\n\")\n",
    "select_columns_articles_communs.head(20)\n",
    "select_columns_quantity_communs.head(20)\n"
   ]
  },
  {
   "cell_type": "code",
   "execution_count": 149,
   "id": "af51a48c-504a-4544-9cf7-0761b84cfab5",
   "metadata": {},
   "outputs": [
    {
     "name": "stdout",
     "output_type": "stream",
     "text": [
      "Articles communs dans les deux DataFrames (top_20_articles et top_20_mois_stock ) :\n",
      "\n"
     ]
    },
    {
     "data": {
      "text/html": [
       "<div>\n",
       "<style scoped>\n",
       "    .dataframe tbody tr th:only-of-type {\n",
       "        vertical-align: middle;\n",
       "    }\n",
       "\n",
       "    .dataframe tbody tr th {\n",
       "        vertical-align: top;\n",
       "    }\n",
       "\n",
       "    .dataframe thead th {\n",
       "        text-align: right;\n",
       "    }\n",
       "</style>\n",
       "<table border=\"1\" class=\"dataframe\">\n",
       "  <thead>\n",
       "    <tr style=\"text-align: right;\">\n",
       "      <th></th>\n",
       "      <th>product_id</th>\n",
       "      <th>post_name</th>\n",
       "      <th>mois_stock</th>\n",
       "      <th>stock_quantity</th>\n",
       "      <th>total_sales</th>\n",
       "      <th>ca_par_article</th>\n",
       "      <th>product_type</th>\n",
       "    </tr>\n",
       "  </thead>\n",
       "  <tbody>\n",
       "    <tr>\n",
       "      <th>260</th>\n",
       "      <td>6126.0</td>\n",
       "      <td>champagne-gosset-celebris-vintage-2007</td>\n",
       "      <td>855.600000</td>\n",
       "      <td>138.0</td>\n",
       "      <td>5.0</td>\n",
       "      <td>675.0</td>\n",
       "      <td>Champagne</td>\n",
       "    </tr>\n",
       "    <tr>\n",
       "      <th>153</th>\n",
       "      <td>5025.0</td>\n",
       "      <td>champagne-agrapart-fils-lavizoise-grand-cru-20...</td>\n",
       "      <td>702.666667</td>\n",
       "      <td>136.0</td>\n",
       "      <td>6.0</td>\n",
       "      <td>672.0</td>\n",
       "      <td>Champagne</td>\n",
       "    </tr>\n",
       "    <tr>\n",
       "      <th>272</th>\n",
       "      <td>5892.0</td>\n",
       "      <td>coteaux-champenois-egly-ouriet-ambonnay-rouge-...</td>\n",
       "      <td>506.333333</td>\n",
       "      <td>98.0</td>\n",
       "      <td>6.0</td>\n",
       "      <td>1147.8</td>\n",
       "      <td>Champagne</td>\n",
       "    </tr>\n",
       "    <tr>\n",
       "      <th>146</th>\n",
       "      <td>4359.0</td>\n",
       "      <td>champagne-larmandier-bernier-grand-cru-vieille...</td>\n",
       "      <td>496.000000</td>\n",
       "      <td>112.0</td>\n",
       "      <td>7.0</td>\n",
       "      <td>599.2</td>\n",
       "      <td>Champagne</td>\n",
       "    </tr>\n",
       "  </tbody>\n",
       "</table>\n",
       "</div>"
      ],
      "text/plain": [
       "    product_id                                          post_name  mois_stock  \\\n",
       "260     6126.0             champagne-gosset-celebris-vintage-2007  855.600000   \n",
       "153     5025.0  champagne-agrapart-fils-lavizoise-grand-cru-20...  702.666667   \n",
       "272     5892.0  coteaux-champenois-egly-ouriet-ambonnay-rouge-...  506.333333   \n",
       "146     4359.0  champagne-larmandier-bernier-grand-cru-vieille...  496.000000   \n",
       "\n",
       "     stock_quantity  total_sales  ca_par_article product_type  \n",
       "260           138.0          5.0           675.0    Champagne  \n",
       "153           136.0          6.0           672.0    Champagne  \n",
       "272            98.0          6.0          1147.8    Champagne  \n",
       "146           112.0          7.0           599.2    Champagne  "
      ]
     },
     "execution_count": 149,
     "metadata": {},
     "output_type": "execute_result"
    }
   ],
   "source": [
    "#  Trouver les produits communs aux deux DataFrames (top_20_articles et top_20_mois_stock )\n",
    "produits_communs = set(top_20_articles['product_id']).intersection(\n",
    "    set(top_20_mois_stock['product_id'])\n",
    ")\n",
    "\n",
    "#  Filtrer les DataFrames pour afficher uniquement les produits communs\n",
    "articles_communs = top_20_articles[top_20_articles['product_id'].isin(produits_communs)]\n",
    "mois_stock_communs = top_20_mois_stock[top_20_mois_stock['product_id'].isin(produits_communs)]\n",
    "\n",
    "# Sélectionner les colonnes d'intérêt pour les deux DataFrames\n",
    "select_columns_articles_communs = articles_communs[['product_id', 'post_name','stock_quantity', 'total_sales', 'ca_par_article', 'product_type']] \n",
    "select_columns_mois_stock_communs = mois_stock_communs[['product_id', 'post_name', 'mois_stock', 'stock_quantity', 'total_sales', 'ca_par_article', 'product_type']] \n",
    "\n",
    "#  Afficher les résultats\n",
    "print(\"Articles communs dans les deux DataFrames (top_20_articles et top_20_mois_stock ) :\\n\")\n",
    "select_columns_articles_communs.head(20)\n",
    "select_columns_mois_stock_communs.head(20)\n"
   ]
  },
  {
   "cell_type": "markdown",
   "id": "9e48f6dc",
   "metadata": {},
   "source": [
    "<div style=\"border: 1px solid RGB(51,165,182);\" >\n",
    "<h3 style=\"margin: auto; padding: 20px; color: RGB(51,165,182); \">Etape 5.4 - Analyse du taux de marge</h3>\n",
    "</div>"
   ]
  },
  {
   "cell_type": "code",
   "execution_count": 150,
   "id": "7de5ca46",
   "metadata": {},
   "outputs": [
    {
     "name": "stdout",
     "output_type": "stream",
     "text": [
      "-634.98814229249\n"
     ]
    },
    {
     "data": {
      "text/plain": [
       "47.7568"
      ]
     },
     "execution_count": 150,
     "metadata": {},
     "output_type": "execute_result"
    }
   ],
   "source": [
    "############################\n",
    "# Analyse du taux de marge #\n",
    "############################\n",
    "\n",
    "#Création de la colonne prix HT\n",
    "# TVA sur le vin en France = (20%)\n",
    "taux_tva = 0.20\n",
    "\n",
    "#Calculer le prix HT\n",
    "merged_df['prix_ht'] = merged_df['price'] / (1 + taux_tva)\n",
    "\n",
    "#Création de la colonne Taux de marge\n",
    "merged_df['taux_marge'] = ((merged_df['prix_ht'] - merged_df['purchase_price']) / merged_df['prix_ht']) * 100\n",
    "\n",
    "#Afficher le prix minimum de la colonne \"taux_marge\"\n",
    "merged_df['taux_marge'].min()\n",
    "print(merged_df['taux_marge'].min())\n",
    "\n",
    "#Afficher le prix maximum de la colonne \"taux_marge\"\n",
    "merged_df['taux_marge'].max()\n"
   ]
  },
  {
   "cell_type": "code",
   "execution_count": 151,
   "id": "6082d42b",
   "metadata": {},
   "outputs": [],
   "source": [
    "#affichage de la ligne avec un taux de marge inférieur à 0\n",
    "merged_df_négatif = merged_df[merged_df['taux_marge'] < 0]\n",
    "#print(merged_df_négatif)"
   ]
  },
  {
   "cell_type": "code",
   "execution_count": 152,
   "id": "d756037c",
   "metadata": {},
   "outputs": [
    {
     "name": "stdout",
     "output_type": "stream",
     "text": [
      "22.77862595419847\n",
      "47.7568\n"
     ]
    }
   ],
   "source": [
    "#création d'un dataframe avec les taux positifs\n",
    "merged_df_positif = merged_df[merged_df['taux_marge'] > 0]\n",
    "\n",
    "#Afficher le prix minimum de la colonne \"taux_marge\"\n",
    "merged_df_positif['taux_marge'].min()\n",
    "print(merged_df_positif['taux_marge'].min())\n",
    "\n",
    "#Afficher le prix maximum de la colonne \"taux_marge\"\n",
    "merged_df_positif['taux_marge'].max()\n",
    "print(merged_df_positif['taux_marge'].max())"
   ]
  },
  {
   "cell_type": "code",
   "execution_count": 153,
   "id": "b24042f8",
   "metadata": {},
   "outputs": [
    {
     "name": "stdout",
     "output_type": "stream",
     "text": [
      "    product_type  taux_marge\n",
      "0          Autre         NaN\n",
      "1      Champagne    4.792943\n",
      "2         Cognac   45.067614\n",
      "3            Gin   42.800000\n",
      "4  Huile d'olive   24.998198\n",
      "5            Vin   38.008504\n",
      "6         Whisky   44.918865\n"
     ]
    },
    {
     "data": {
      "application/vnd.plotly.v1+json": {
       "config": {
        "plotlyServerURL": "https://plot.ly"
       },
       "data": [
        {
         "alignmentgroup": "True",
         "hovertemplate": "Type de Produit=%{x}<br>Taux de Marge Moyen (%)=%{marker.color}<extra></extra>",
         "legendgroup": "",
         "marker": {
          "color": [
           null,
           4.7929428769705265,
           45.06761365196379,
           42.8,
           24.99819795751202,
           38.00850356478086,
           44.91886545076668
          ],
          "coloraxis": "coloraxis",
          "pattern": {
           "shape": ""
          }
         },
         "name": "",
         "offsetgroup": "",
         "orientation": "v",
         "showlegend": false,
         "text": [
          null,
          4.7929428769705265,
          45.06761365196379,
          42.8,
          24.99819795751202,
          38.00850356478086,
          44.91886545076668
         ],
         "textposition": "outside",
         "texttemplate": "%{text:.2f}%",
         "type": "bar",
         "x": [
          "Autre",
          "Champagne",
          "Cognac",
          "Gin",
          "Huile d'olive",
          "Vin",
          "Whisky"
         ],
         "xaxis": "x",
         "y": [
          null,
          4.7929428769705265,
          45.06761365196379,
          42.8,
          24.99819795751202,
          38.00850356478086,
          44.91886545076668
         ],
         "yaxis": "y"
        }
       ],
       "layout": {
        "autosize": true,
        "barmode": "relative",
        "coloraxis": {
         "colorbar": {
          "title": {
           "text": "Taux de Marge Moyen (%)"
          }
         },
         "colorscale": [
          [
           0,
           "#0d0887"
          ],
          [
           0.1111111111111111,
           "#46039f"
          ],
          [
           0.2222222222222222,
           "#7201a8"
          ],
          [
           0.3333333333333333,
           "#9c179e"
          ],
          [
           0.4444444444444444,
           "#bd3786"
          ],
          [
           0.5555555555555556,
           "#d8576b"
          ],
          [
           0.6666666666666666,
           "#ed7953"
          ],
          [
           0.7777777777777778,
           "#fb9f3a"
          ],
          [
           0.8888888888888888,
           "#fdca26"
          ],
          [
           1,
           "#f0f921"
          ]
         ]
        },
        "legend": {
         "tracegroupgap": 0
        },
        "margin": {
         "b": 50,
         "t": 50
        },
        "template": {
         "data": {
          "bar": [
           {
            "error_x": {
             "color": "#2a3f5f"
            },
            "error_y": {
             "color": "#2a3f5f"
            },
            "marker": {
             "line": {
              "color": "#E5ECF6",
              "width": 0.5
             },
             "pattern": {
              "fillmode": "overlay",
              "size": 10,
              "solidity": 0.2
             }
            },
            "type": "bar"
           }
          ],
          "barpolar": [
           {
            "marker": {
             "line": {
              "color": "#E5ECF6",
              "width": 0.5
             },
             "pattern": {
              "fillmode": "overlay",
              "size": 10,
              "solidity": 0.2
             }
            },
            "type": "barpolar"
           }
          ],
          "carpet": [
           {
            "aaxis": {
             "endlinecolor": "#2a3f5f",
             "gridcolor": "white",
             "linecolor": "white",
             "minorgridcolor": "white",
             "startlinecolor": "#2a3f5f"
            },
            "baxis": {
             "endlinecolor": "#2a3f5f",
             "gridcolor": "white",
             "linecolor": "white",
             "minorgridcolor": "white",
             "startlinecolor": "#2a3f5f"
            },
            "type": "carpet"
           }
          ],
          "choropleth": [
           {
            "colorbar": {
             "outlinewidth": 0,
             "ticks": ""
            },
            "type": "choropleth"
           }
          ],
          "contour": [
           {
            "colorbar": {
             "outlinewidth": 0,
             "ticks": ""
            },
            "colorscale": [
             [
              0,
              "#0d0887"
             ],
             [
              0.1111111111111111,
              "#46039f"
             ],
             [
              0.2222222222222222,
              "#7201a8"
             ],
             [
              0.3333333333333333,
              "#9c179e"
             ],
             [
              0.4444444444444444,
              "#bd3786"
             ],
             [
              0.5555555555555556,
              "#d8576b"
             ],
             [
              0.6666666666666666,
              "#ed7953"
             ],
             [
              0.7777777777777778,
              "#fb9f3a"
             ],
             [
              0.8888888888888888,
              "#fdca26"
             ],
             [
              1,
              "#f0f921"
             ]
            ],
            "type": "contour"
           }
          ],
          "contourcarpet": [
           {
            "colorbar": {
             "outlinewidth": 0,
             "ticks": ""
            },
            "type": "contourcarpet"
           }
          ],
          "heatmap": [
           {
            "colorbar": {
             "outlinewidth": 0,
             "ticks": ""
            },
            "colorscale": [
             [
              0,
              "#0d0887"
             ],
             [
              0.1111111111111111,
              "#46039f"
             ],
             [
              0.2222222222222222,
              "#7201a8"
             ],
             [
              0.3333333333333333,
              "#9c179e"
             ],
             [
              0.4444444444444444,
              "#bd3786"
             ],
             [
              0.5555555555555556,
              "#d8576b"
             ],
             [
              0.6666666666666666,
              "#ed7953"
             ],
             [
              0.7777777777777778,
              "#fb9f3a"
             ],
             [
              0.8888888888888888,
              "#fdca26"
             ],
             [
              1,
              "#f0f921"
             ]
            ],
            "type": "heatmap"
           }
          ],
          "heatmapgl": [
           {
            "colorbar": {
             "outlinewidth": 0,
             "ticks": ""
            },
            "colorscale": [
             [
              0,
              "#0d0887"
             ],
             [
              0.1111111111111111,
              "#46039f"
             ],
             [
              0.2222222222222222,
              "#7201a8"
             ],
             [
              0.3333333333333333,
              "#9c179e"
             ],
             [
              0.4444444444444444,
              "#bd3786"
             ],
             [
              0.5555555555555556,
              "#d8576b"
             ],
             [
              0.6666666666666666,
              "#ed7953"
             ],
             [
              0.7777777777777778,
              "#fb9f3a"
             ],
             [
              0.8888888888888888,
              "#fdca26"
             ],
             [
              1,
              "#f0f921"
             ]
            ],
            "type": "heatmapgl"
           }
          ],
          "histogram": [
           {
            "marker": {
             "pattern": {
              "fillmode": "overlay",
              "size": 10,
              "solidity": 0.2
             }
            },
            "type": "histogram"
           }
          ],
          "histogram2d": [
           {
            "colorbar": {
             "outlinewidth": 0,
             "ticks": ""
            },
            "colorscale": [
             [
              0,
              "#0d0887"
             ],
             [
              0.1111111111111111,
              "#46039f"
             ],
             [
              0.2222222222222222,
              "#7201a8"
             ],
             [
              0.3333333333333333,
              "#9c179e"
             ],
             [
              0.4444444444444444,
              "#bd3786"
             ],
             [
              0.5555555555555556,
              "#d8576b"
             ],
             [
              0.6666666666666666,
              "#ed7953"
             ],
             [
              0.7777777777777778,
              "#fb9f3a"
             ],
             [
              0.8888888888888888,
              "#fdca26"
             ],
             [
              1,
              "#f0f921"
             ]
            ],
            "type": "histogram2d"
           }
          ],
          "histogram2dcontour": [
           {
            "colorbar": {
             "outlinewidth": 0,
             "ticks": ""
            },
            "colorscale": [
             [
              0,
              "#0d0887"
             ],
             [
              0.1111111111111111,
              "#46039f"
             ],
             [
              0.2222222222222222,
              "#7201a8"
             ],
             [
              0.3333333333333333,
              "#9c179e"
             ],
             [
              0.4444444444444444,
              "#bd3786"
             ],
             [
              0.5555555555555556,
              "#d8576b"
             ],
             [
              0.6666666666666666,
              "#ed7953"
             ],
             [
              0.7777777777777778,
              "#fb9f3a"
             ],
             [
              0.8888888888888888,
              "#fdca26"
             ],
             [
              1,
              "#f0f921"
             ]
            ],
            "type": "histogram2dcontour"
           }
          ],
          "mesh3d": [
           {
            "colorbar": {
             "outlinewidth": 0,
             "ticks": ""
            },
            "type": "mesh3d"
           }
          ],
          "parcoords": [
           {
            "line": {
             "colorbar": {
              "outlinewidth": 0,
              "ticks": ""
             }
            },
            "type": "parcoords"
           }
          ],
          "pie": [
           {
            "automargin": true,
            "type": "pie"
           }
          ],
          "scatter": [
           {
            "fillpattern": {
             "fillmode": "overlay",
             "size": 10,
             "solidity": 0.2
            },
            "type": "scatter"
           }
          ],
          "scatter3d": [
           {
            "line": {
             "colorbar": {
              "outlinewidth": 0,
              "ticks": ""
             }
            },
            "marker": {
             "colorbar": {
              "outlinewidth": 0,
              "ticks": ""
             }
            },
            "type": "scatter3d"
           }
          ],
          "scattercarpet": [
           {
            "marker": {
             "colorbar": {
              "outlinewidth": 0,
              "ticks": ""
             }
            },
            "type": "scattercarpet"
           }
          ],
          "scattergeo": [
           {
            "marker": {
             "colorbar": {
              "outlinewidth": 0,
              "ticks": ""
             }
            },
            "type": "scattergeo"
           }
          ],
          "scattergl": [
           {
            "marker": {
             "colorbar": {
              "outlinewidth": 0,
              "ticks": ""
             }
            },
            "type": "scattergl"
           }
          ],
          "scattermapbox": [
           {
            "marker": {
             "colorbar": {
              "outlinewidth": 0,
              "ticks": ""
             }
            },
            "type": "scattermapbox"
           }
          ],
          "scatterpolar": [
           {
            "marker": {
             "colorbar": {
              "outlinewidth": 0,
              "ticks": ""
             }
            },
            "type": "scatterpolar"
           }
          ],
          "scatterpolargl": [
           {
            "marker": {
             "colorbar": {
              "outlinewidth": 0,
              "ticks": ""
             }
            },
            "type": "scatterpolargl"
           }
          ],
          "scatterternary": [
           {
            "marker": {
             "colorbar": {
              "outlinewidth": 0,
              "ticks": ""
             }
            },
            "type": "scatterternary"
           }
          ],
          "surface": [
           {
            "colorbar": {
             "outlinewidth": 0,
             "ticks": ""
            },
            "colorscale": [
             [
              0,
              "#0d0887"
             ],
             [
              0.1111111111111111,
              "#46039f"
             ],
             [
              0.2222222222222222,
              "#7201a8"
             ],
             [
              0.3333333333333333,
              "#9c179e"
             ],
             [
              0.4444444444444444,
              "#bd3786"
             ],
             [
              0.5555555555555556,
              "#d8576b"
             ],
             [
              0.6666666666666666,
              "#ed7953"
             ],
             [
              0.7777777777777778,
              "#fb9f3a"
             ],
             [
              0.8888888888888888,
              "#fdca26"
             ],
             [
              1,
              "#f0f921"
             ]
            ],
            "type": "surface"
           }
          ],
          "table": [
           {
            "cells": {
             "fill": {
              "color": "#EBF0F8"
             },
             "line": {
              "color": "white"
             }
            },
            "header": {
             "fill": {
              "color": "#C8D4E3"
             },
             "line": {
              "color": "white"
             }
            },
            "type": "table"
           }
          ]
         },
         "layout": {
          "annotationdefaults": {
           "arrowcolor": "#2a3f5f",
           "arrowhead": 0,
           "arrowwidth": 1
          },
          "autotypenumbers": "strict",
          "coloraxis": {
           "colorbar": {
            "outlinewidth": 0,
            "ticks": ""
           }
          },
          "colorscale": {
           "diverging": [
            [
             0,
             "#8e0152"
            ],
            [
             0.1,
             "#c51b7d"
            ],
            [
             0.2,
             "#de77ae"
            ],
            [
             0.3,
             "#f1b6da"
            ],
            [
             0.4,
             "#fde0ef"
            ],
            [
             0.5,
             "#f7f7f7"
            ],
            [
             0.6,
             "#e6f5d0"
            ],
            [
             0.7,
             "#b8e186"
            ],
            [
             0.8,
             "#7fbc41"
            ],
            [
             0.9,
             "#4d9221"
            ],
            [
             1,
             "#276419"
            ]
           ],
           "sequential": [
            [
             0,
             "#0d0887"
            ],
            [
             0.1111111111111111,
             "#46039f"
            ],
            [
             0.2222222222222222,
             "#7201a8"
            ],
            [
             0.3333333333333333,
             "#9c179e"
            ],
            [
             0.4444444444444444,
             "#bd3786"
            ],
            [
             0.5555555555555556,
             "#d8576b"
            ],
            [
             0.6666666666666666,
             "#ed7953"
            ],
            [
             0.7777777777777778,
             "#fb9f3a"
            ],
            [
             0.8888888888888888,
             "#fdca26"
            ],
            [
             1,
             "#f0f921"
            ]
           ],
           "sequentialminus": [
            [
             0,
             "#0d0887"
            ],
            [
             0.1111111111111111,
             "#46039f"
            ],
            [
             0.2222222222222222,
             "#7201a8"
            ],
            [
             0.3333333333333333,
             "#9c179e"
            ],
            [
             0.4444444444444444,
             "#bd3786"
            ],
            [
             0.5555555555555556,
             "#d8576b"
            ],
            [
             0.6666666666666666,
             "#ed7953"
            ],
            [
             0.7777777777777778,
             "#fb9f3a"
            ],
            [
             0.8888888888888888,
             "#fdca26"
            ],
            [
             1,
             "#f0f921"
            ]
           ]
          },
          "colorway": [
           "#636efa",
           "#EF553B",
           "#00cc96",
           "#ab63fa",
           "#FFA15A",
           "#19d3f3",
           "#FF6692",
           "#B6E880",
           "#FF97FF",
           "#FECB52"
          ],
          "font": {
           "color": "#2a3f5f"
          },
          "geo": {
           "bgcolor": "white",
           "lakecolor": "white",
           "landcolor": "#E5ECF6",
           "showlakes": true,
           "showland": true,
           "subunitcolor": "white"
          },
          "hoverlabel": {
           "align": "left"
          },
          "hovermode": "closest",
          "mapbox": {
           "style": "light"
          },
          "paper_bgcolor": "white",
          "plot_bgcolor": "#E5ECF6",
          "polar": {
           "angularaxis": {
            "gridcolor": "white",
            "linecolor": "white",
            "ticks": ""
           },
           "bgcolor": "#E5ECF6",
           "radialaxis": {
            "gridcolor": "white",
            "linecolor": "white",
            "ticks": ""
           }
          },
          "scene": {
           "xaxis": {
            "backgroundcolor": "#E5ECF6",
            "gridcolor": "white",
            "gridwidth": 2,
            "linecolor": "white",
            "showbackground": true,
            "ticks": "",
            "zerolinecolor": "white"
           },
           "yaxis": {
            "backgroundcolor": "#E5ECF6",
            "gridcolor": "white",
            "gridwidth": 2,
            "linecolor": "white",
            "showbackground": true,
            "ticks": "",
            "zerolinecolor": "white"
           },
           "zaxis": {
            "backgroundcolor": "#E5ECF6",
            "gridcolor": "white",
            "gridwidth": 2,
            "linecolor": "white",
            "showbackground": true,
            "ticks": "",
            "zerolinecolor": "white"
           }
          },
          "shapedefaults": {
           "line": {
            "color": "#2a3f5f"
           }
          },
          "ternary": {
           "aaxis": {
            "gridcolor": "white",
            "linecolor": "white",
            "ticks": ""
           },
           "baxis": {
            "gridcolor": "white",
            "linecolor": "white",
            "ticks": ""
           },
           "bgcolor": "#E5ECF6",
           "caxis": {
            "gridcolor": "white",
            "linecolor": "white",
            "ticks": ""
           }
          },
          "title": {
           "x": 0.05
          },
          "xaxis": {
           "automargin": true,
           "gridcolor": "white",
           "linecolor": "white",
           "ticks": "",
           "title": {
            "standoff": 15
           },
           "zerolinecolor": "white",
           "zerolinewidth": 2
          },
          "yaxis": {
           "automargin": true,
           "gridcolor": "white",
           "linecolor": "white",
           "ticks": "",
           "title": {
            "standoff": 15
           },
           "zerolinecolor": "white",
           "zerolinewidth": 2
          }
         }
        },
        "title": {
         "text": "Taux de Marge Moyen par Type de Produit"
        },
        "xaxis": {
         "anchor": "y",
         "autorange": true,
         "domain": [
          0,
          1
         ],
         "range": [
          -0.5,
          6.5
         ],
         "title": {
          "text": "Type de Produit"
         },
         "type": "category"
        },
        "yaxis": {
         "anchor": "x",
         "autorange": true,
         "domain": [
          0,
          1
         ],
         "range": [
          0,
          47.43959331785662
         ],
         "title": {
          "text": "Taux de Marge Moyen (%)"
         },
         "type": "linear"
        }
       }
      },
      "image/png": "[encoded data removed]",
      "text/html": [
       "<div>                            <div id=\"ccca9a9d-6809-4ecc-892c-8342e4e2ed62\" class=\"plotly-graph-div\" style=\"height:450px; width:100%;\"></div>            <script type=\"text/javascript\">                require([\"plotly\"], function(Plotly) {                    window.PLOTLYENV=window.PLOTLYENV || {};                                    if (document.getElementById(\"ccca9a9d-6809-4ecc-892c-8342e4e2ed62\")) {                    Plotly.newPlot(                        \"ccca9a9d-6809-4ecc-892c-8342e4e2ed62\",                        [{\"alignmentgroup\":\"True\",\"hovertemplate\":\"Type de Produit=%{x}\\u003cbr\\u003eTaux de Marge Moyen (%)=%{marker.color}\\u003cextra\\u003e\\u003c\\u002fextra\\u003e\",\"legendgroup\":\"\",\"marker\":{\"color\":[null,4.7929428769705265,45.06761365196379,42.8,24.99819795751202,38.00850356478086,44.91886545076668],\"coloraxis\":\"coloraxis\",\"pattern\":{\"shape\":\"\"}},\"name\":\"\",\"offsetgroup\":\"\",\"orientation\":\"v\",\"showlegend\":false,\"text\":[null,4.7929428769705265,45.06761365196379,42.8,24.99819795751202,38.00850356478086,44.91886545076668],\"textposition\":\"outside\",\"x\":[\"Autre\",\"Champagne\",\"Cognac\",\"Gin\",\"Huile d'olive\",\"Vin\",\"Whisky\"],\"xaxis\":\"x\",\"y\":[null,4.7929428769705265,45.06761365196379,42.8,24.99819795751202,38.00850356478086,44.91886545076668],\"yaxis\":\"y\",\"type\":\"bar\",\"texttemplate\":\"%{text:.2f}%\"}],                        {\"template\":{\"data\":{\"histogram2dcontour\":[{\"type\":\"histogram2dcontour\",\"colorbar\":{\"outlinewidth\":0,\"ticks\":\"\"},\"colorscale\":[[0.0,\"#0d0887\"],[0.1111111111111111,\"#46039f\"],[0.2222222222222222,\"#7201a8\"],[0.3333333333333333,\"#9c179e\"],[0.4444444444444444,\"#bd3786\"],[0.5555555555555556,\"#d8576b\"],[0.6666666666666666,\"#ed7953\"],[0.7777777777777778,\"#fb9f3a\"],[0.8888888888888888,\"#fdca26\"],[1.0,\"#f0f921\"]]}],\"choropleth\":[{\"type\":\"choropleth\",\"colorbar\":{\"outlinewidth\":0,\"ticks\":\"\"}}],\"histogram2d\":[{\"type\":\"histogram2d\",\"colorbar\":{\"outlinewidth\":0,\"ticks\":\"\"},\"colorscale\":[[0.0,\"#0d0887\"],[0.1111111111111111,\"#46039f\"],[0.2222222222222222,\"#7201a8\"],[0.3333333333333333,\"#9c179e\"],[0.4444444444444444,\"#bd3786\"],[0.5555555555555556,\"#d8576b\"],[0.6666666666666666,\"#ed7953\"],[0.7777777777777778,\"#fb9f3a\"],[0.8888888888888888,\"#fdca26\"],[1.0,\"#f0f921\"]]}],\"heatmap\":[{\"type\":\"heatmap\",\"colorbar\":{\"outlinewidth\":0,\"ticks\":\"\"},\"colorscale\":[[0.0,\"#0d0887\"],[0.1111111111111111,\"#46039f\"],[0.2222222222222222,\"#7201a8\"],[0.3333333333333333,\"#9c179e\"],[0.4444444444444444,\"#bd3786\"],[0.5555555555555556,\"#d8576b\"],[0.6666666666666666,\"#ed7953\"],[0.7777777777777778,\"#fb9f3a\"],[0.8888888888888888,\"#fdca26\"],[1.0,\"#f0f921\"]]}],\"heatmapgl\":[{\"type\":\"heatmapgl\",\"colorbar\":{\"outlinewidth\":0,\"ticks\":\"\"},\"colorscale\":[[0.0,\"#0d0887\"],[0.1111111111111111,\"#46039f\"],[0.2222222222222222,\"#7201a8\"],[0.3333333333333333,\"#9c179e\"],[0.4444444444444444,\"#bd3786\"],[0.5555555555555556,\"#d8576b\"],[0.6666666666666666,\"#ed7953\"],[0.7777777777777778,\"#fb9f3a\"],[0.8888888888888888,\"#fdca26\"],[1.0,\"#f0f921\"]]}],\"contourcarpet\":[{\"type\":\"contourcarpet\",\"colorbar\":{\"outlinewidth\":0,\"ticks\":\"\"}}],\"contour\":[{\"type\":\"contour\",\"colorbar\":{\"outlinewidth\":0,\"ticks\":\"\"},\"colorscale\":[[0.0,\"#0d0887\"],[0.1111111111111111,\"#46039f\"],[0.2222222222222222,\"#7201a8\"],[0.3333333333333333,\"#9c179e\"],[0.4444444444444444,\"#bd3786\"],[0.5555555555555556,\"#d8576b\"],[0.6666666666666666,\"#ed7953\"],[0.7777777777777778,\"#fb9f3a\"],[0.8888888888888888,\"#fdca26\"],[1.0,\"#f0f921\"]]}],\"surface\":[{\"type\":\"surface\",\"colorbar\":{\"outlinewidth\":0,\"ticks\":\"\"},\"colorscale\":[[0.0,\"#0d0887\"],[0.1111111111111111,\"#46039f\"],[0.2222222222222222,\"#7201a8\"],[0.3333333333333333,\"#9c179e\"],[0.4444444444444444,\"#bd3786\"],[0.5555555555555556,\"#d8576b\"],[0.6666666666666666,\"#ed7953\"],[0.7777777777777778,\"#fb9f3a\"],[0.8888888888888888,\"#fdca26\"],[1.0,\"#f0f921\"]]}],\"mesh3d\":[{\"type\":\"mesh3d\",\"colorbar\":{\"outlinewidth\":0,\"ticks\":\"\"}}],\"scatter\":[{\"fillpattern\":{\"fillmode\":\"overlay\",\"size\":10,\"solidity\":0.2},\"type\":\"scatter\"}],\"parcoords\":[{\"type\":\"parcoords\",\"line\":{\"colorbar\":{\"outlinewidth\":0,\"ticks\":\"\"}}}],\"scatterpolargl\":[{\"type\":\"scatterpolargl\",\"marker\":{\"colorbar\":{\"outlinewidth\":0,\"ticks\":\"\"}}}],\"bar\":[{\"error_x\":{\"color\":\"#2a3f5f\"},\"error_y\":{\"color\":\"#2a3f5f\"},\"marker\":{\"line\":{\"color\":\"#E5ECF6\",\"width\":0.5},\"pattern\":{\"fillmode\":\"overlay\",\"size\":10,\"solidity\":0.2}},\"type\":\"bar\"}],\"scattergeo\":[{\"type\":\"scattergeo\",\"marker\":{\"colorbar\":{\"outlinewidth\":0,\"ticks\":\"\"}}}],\"scatterpolar\":[{\"type\":\"scatterpolar\",\"marker\":{\"colorbar\":{\"outlinewidth\":0,\"ticks\":\"\"}}}],\"histogram\":[{\"marker\":{\"pattern\":{\"fillmode\":\"overlay\",\"size\":10,\"solidity\":0.2}},\"type\":\"histogram\"}],\"scattergl\":[{\"type\":\"scattergl\",\"marker\":{\"colorbar\":{\"outlinewidth\":0,\"ticks\":\"\"}}}],\"scatter3d\":[{\"type\":\"scatter3d\",\"line\":{\"colorbar\":{\"outlinewidth\":0,\"ticks\":\"\"}},\"marker\":{\"colorbar\":{\"outlinewidth\":0,\"ticks\":\"\"}}}],\"scattermapbox\":[{\"type\":\"scattermapbox\",\"marker\":{\"colorbar\":{\"outlinewidth\":0,\"ticks\":\"\"}}}],\"scatterternary\":[{\"type\":\"scatterternary\",\"marker\":{\"colorbar\":{\"outlinewidth\":0,\"ticks\":\"\"}}}],\"scattercarpet\":[{\"type\":\"scattercarpet\",\"marker\":{\"colorbar\":{\"outlinewidth\":0,\"ticks\":\"\"}}}],\"carpet\":[{\"aaxis\":{\"endlinecolor\":\"#2a3f5f\",\"gridcolor\":\"white\",\"linecolor\":\"white\",\"minorgridcolor\":\"white\",\"startlinecolor\":\"#2a3f5f\"},\"baxis\":{\"endlinecolor\":\"#2a3f5f\",\"gridcolor\":\"white\",\"linecolor\":\"white\",\"minorgridcolor\":\"white\",\"startlinecolor\":\"#2a3f5f\"},\"type\":\"carpet\"}],\"table\":[{\"cells\":{\"fill\":{\"color\":\"#EBF0F8\"},\"line\":{\"color\":\"white\"}},\"header\":{\"fill\":{\"color\":\"#C8D4E3\"},\"line\":{\"color\":\"white\"}},\"type\":\"table\"}],\"barpolar\":[{\"marker\":{\"line\":{\"color\":\"#E5ECF6\",\"width\":0.5},\"pattern\":{\"fillmode\":\"overlay\",\"size\":10,\"solidity\":0.2}},\"type\":\"barpolar\"}],\"pie\":[{\"automargin\":true,\"type\":\"pie\"}]},\"layout\":{\"autotypenumbers\":\"strict\",\"colorway\":[\"#636efa\",\"#EF553B\",\"#00cc96\",\"#ab63fa\",\"#FFA15A\",\"#19d3f3\",\"#FF6692\",\"#B6E880\",\"#FF97FF\",\"#FECB52\"],\"font\":{\"color\":\"#2a3f5f\"},\"hovermode\":\"closest\",\"hoverlabel\":{\"align\":\"left\"},\"paper_bgcolor\":\"white\",\"plot_bgcolor\":\"#E5ECF6\",\"polar\":{\"bgcolor\":\"#E5ECF6\",\"angularaxis\":{\"gridcolor\":\"white\",\"linecolor\":\"white\",\"ticks\":\"\"},\"radialaxis\":{\"gridcolor\":\"white\",\"linecolor\":\"white\",\"ticks\":\"\"}},\"ternary\":{\"bgcolor\":\"#E5ECF6\",\"aaxis\":{\"gridcolor\":\"white\",\"linecolor\":\"white\",\"ticks\":\"\"},\"baxis\":{\"gridcolor\":\"white\",\"linecolor\":\"white\",\"ticks\":\"\"},\"caxis\":{\"gridcolor\":\"white\",\"linecolor\":\"white\",\"ticks\":\"\"}},\"coloraxis\":{\"colorbar\":{\"outlinewidth\":0,\"ticks\":\"\"}},\"colorscale\":{\"sequential\":[[0.0,\"#0d0887\"],[0.1111111111111111,\"#46039f\"],[0.2222222222222222,\"#7201a8\"],[0.3333333333333333,\"#9c179e\"],[0.4444444444444444,\"#bd3786\"],[0.5555555555555556,\"#d8576b\"],[0.6666666666666666,\"#ed7953\"],[0.7777777777777778,\"#fb9f3a\"],[0.8888888888888888,\"#fdca26\"],[1.0,\"#f0f921\"]],\"sequentialminus\":[[0.0,\"#0d0887\"],[0.1111111111111111,\"#46039f\"],[0.2222222222222222,\"#7201a8\"],[0.3333333333333333,\"#9c179e\"],[0.4444444444444444,\"#bd3786\"],[0.5555555555555556,\"#d8576b\"],[0.6666666666666666,\"#ed7953\"],[0.7777777777777778,\"#fb9f3a\"],[0.8888888888888888,\"#fdca26\"],[1.0,\"#f0f921\"]],\"diverging\":[[0,\"#8e0152\"],[0.1,\"#c51b7d\"],[0.2,\"#de77ae\"],[0.3,\"#f1b6da\"],[0.4,\"#fde0ef\"],[0.5,\"#f7f7f7\"],[0.6,\"#e6f5d0\"],[0.7,\"#b8e186\"],[0.8,\"#7fbc41\"],[0.9,\"#4d9221\"],[1,\"#276419\"]]},\"xaxis\":{\"gridcolor\":\"white\",\"linecolor\":\"white\",\"ticks\":\"\",\"title\":{\"standoff\":15},\"zerolinecolor\":\"white\",\"automargin\":true,\"zerolinewidth\":2},\"yaxis\":{\"gridcolor\":\"white\",\"linecolor\":\"white\",\"ticks\":\"\",\"title\":{\"standoff\":15},\"zerolinecolor\":\"white\",\"automargin\":true,\"zerolinewidth\":2},\"scene\":{\"xaxis\":{\"backgroundcolor\":\"#E5ECF6\",\"gridcolor\":\"white\",\"linecolor\":\"white\",\"showbackground\":true,\"ticks\":\"\",\"zerolinecolor\":\"white\",\"gridwidth\":2},\"yaxis\":{\"backgroundcolor\":\"#E5ECF6\",\"gridcolor\":\"white\",\"linecolor\":\"white\",\"showbackground\":true,\"ticks\":\"\",\"zerolinecolor\":\"white\",\"gridwidth\":2},\"zaxis\":{\"backgroundcolor\":\"#E5ECF6\",\"gridcolor\":\"white\",\"linecolor\":\"white\",\"showbackground\":true,\"ticks\":\"\",\"zerolinecolor\":\"white\",\"gridwidth\":2}},\"shapedefaults\":{\"line\":{\"color\":\"#2a3f5f\"}},\"annotationdefaults\":{\"arrowcolor\":\"#2a3f5f\",\"arrowhead\":0,\"arrowwidth\":1},\"geo\":{\"bgcolor\":\"white\",\"landcolor\":\"#E5ECF6\",\"subunitcolor\":\"white\",\"showland\":true,\"showlakes\":true,\"lakecolor\":\"white\"},\"title\":{\"x\":0.05},\"mapbox\":{\"style\":\"light\"}}},\"xaxis\":{\"anchor\":\"y\",\"domain\":[0.0,1.0],\"title\":{\"text\":\"Type de Produit\"}},\"yaxis\":{\"anchor\":\"x\",\"domain\":[0.0,1.0],\"title\":{\"text\":\"Taux de Marge Moyen (%)\"}},\"coloraxis\":{\"colorbar\":{\"title\":{\"text\":\"Taux de Marge Moyen (%)\"}},\"colorscale\":[[0.0,\"#0d0887\"],[0.1111111111111111,\"#46039f\"],[0.2222222222222222,\"#7201a8\"],[0.3333333333333333,\"#9c179e\"],[0.4444444444444444,\"#bd3786\"],[0.5555555555555556,\"#d8576b\"],[0.6666666666666666,\"#ed7953\"],[0.7777777777777778,\"#fb9f3a\"],[0.8888888888888888,\"#fdca26\"],[1.0,\"#f0f921\"]]},\"legend\":{\"tracegroupgap\":0},\"title\":{\"text\":\"Taux de Marge Moyen par Type de Produit\"},\"barmode\":\"relative\",\"margin\":{\"t\":50,\"b\":50},\"height\":450},                        {\"responsive\": true}                    ).then(function(){\n",
       "                            \n",
       "var gd = document.getElementById('ccca9a9d-6809-4ecc-892c-8342e4e2ed62');\n",
       "var x = new MutationObserver(function (mutations, observer) {{\n",
       "        var display = window.getComputedStyle(gd).display;\n",
       "        if (!display || display === 'none') {{\n",
       "            console.log([gd, 'removed!']);\n",
       "            Plotly.purge(gd);\n",
       "            observer.disconnect();\n",
       "        }}\n",
       "}});\n",
       "\n",
       "// Listen for the removal of the full notebook cells\n",
       "var notebookContainer = gd.closest('#notebook-container');\n",
       "if (notebookContainer) {{\n",
       "    x.observe(notebookContainer, {childList: true});\n",
       "}}\n",
       "\n",
       "// Listen for the clearing of the current output cell\n",
       "var outputEl = gd.closest('.output');\n",
       "if (outputEl) {{\n",
       "    x.observe(outputEl, {childList: true});\n",
       "}}\n",
       "\n",
       "                        })                };                });            </script>        </div>"
      ]
     },
     "metadata": {},
     "output_type": "display_data"
    }
   ],
   "source": [
    "#création d'un dataframe avec le taux de marge moyen par type de produit\n",
    "\n",
    "# Grouper par 'type_produit' et calculer la moyenne du taux de marge\n",
    "df_moyenne_marge = merged_df.groupby('product_type')['taux_marge'].mean().reset_index()\n",
    "\n",
    "print(df_moyenne_marge)\n",
    "\n",
    "# Affichage dans un graphique du taux de marge par type de produit avec plotly express\n",
    "\n",
    "fig = px.bar(df_moyenne_marge, \n",
    "             x='product_type', \n",
    "             y='taux_marge', \n",
    "             title='Taux de Marge Moyen par Type de Produit',\n",
    "             labels={'product_type': 'Type de Produit', 'taux_marge': 'Taux de Marge Moyen (%)'},\n",
    "             color='taux_marge', \n",
    "             color_continuous_scale=px.colors.sequential.Plasma,\n",
    "             text='taux_marge'  # Ajout des étiquettes de données\n",
    ")\n",
    "\n",
    "# Affichage automatique des étiquettes avec ajustement\n",
    "fig.update_traces(texttemplate='%{text:.2f}%', textposition='outside')\n",
    "\n",
    "# Ajustement des marges du graphique si nécessaire\n",
    "fig.update_layout(\n",
    "    margin=dict(t=50, b=50),\n",
    "    height=450  # Ajuste la hauteur si nécessaire\n",
    ")\n",
    "\n",
    "# Afficher le graphique\n",
    "fig.show()"
   ]
  },
  {
   "cell_type": "markdown",
   "id": "ce216060",
   "metadata": {},
   "source": [
    "<div style=\"border: 1px solid RGB(51,165,182);\" >\n",
    "<h3 style=\"margin: auto; padding: 20px; color: RGB(51,165,182); \">Etape 5.5 - Analyse des correlations entre les variables stock, sales et price</h3>\n",
    "</div>"
   ]
  },
  {
   "cell_type": "code",
   "execution_count": 154,
   "id": "12e4a540",
   "metadata": {},
   "outputs": [
    {
     "data": {
      "image/png": "[encoded data removed]",
      "text/plain": [
       "<Figure size 800x600 with 2 Axes>"
      ]
     },
     "metadata": {},
     "output_type": "display_data"
    },
    {
     "data": {
      "image/png": "[encoded data removed]",
      "text/plain": [
       "<Figure size 800x600 with 2 Axes>"
      ]
     },
     "metadata": {},
     "output_type": "display_data"
    }
   ],
   "source": [
    "############################\n",
    "# Analyse des correlations #\n",
    "############################\n",
    "\n",
    "#Importation de Seaborn\n",
    "import seaborn as sns\n",
    "\n",
    "#Création d'un heatmap de correlation avec les variables stock, sales et price\n",
    "# 1. Remplacer les valeurs non numériques par NaN\n",
    "merged_df = merged_df.apply(pd.to_numeric, errors='coerce')\n",
    "\n",
    "# 2. Sélectionner les colonnes d'intérêt\n",
    "selected_columns = merged_df[['price', 'stock_quantity', 'total_sales']]\n",
    "\n",
    "#print(selected_columns)\n",
    "\n",
    "# 3. Calculer la matrice de corrélation\n",
    "corr_matrix = selected_columns.corr()\n",
    "\n",
    "# 4. Création de la heatmap\n",
    "plt.figure(figsize=(8, 6))\n",
    "sns.heatmap(corr_matrix, annot=True, cmap='coolwarm', vmin=-1, vmax=1, fmt='.2f')\n",
    "\n",
    "# Personnalisation du graphique\n",
    "plt.title('Heatmap de Corrélation')\n",
    "plt.show()\n",
    "\n",
    "# 5. Créer un masque pour n'afficher que la partie inférieure de la heatmap\n",
    "mask_lower = np.triu(np.ones_like(corr_matrix, dtype=bool))\n",
    "\n",
    "# Création de la heatmap avec le masque\n",
    "plt.figure(figsize=(8, 6))\n",
    "sns.heatmap(corr_matrix, mask=mask_lower, annot=True, cmap='coolwarm', vmin=-1, vmax=1, fmt='.2f')\n",
    "\n",
    "# Personnalisation du graphique\n",
    "plt.title('Heatmap de Corrélation - Partie Inférieure')\n",
    "plt.show()"
   ]
  },
  {
   "cell_type": "code",
   "execution_count": 155,
   "id": "61f7edbf-6e3e-4520-8887-0dda5b2cf21b",
   "metadata": {},
   "outputs": [],
   "source": [
    "#Que peut-on conclure des correlations ?"
   ]
  },
  {
   "cell_type": "markdown",
   "id": "811dc52d-3a04-4456-921f-d253ac726c17",
   "metadata": {},
   "source": [
    "On constate une petite corrélation positive (0.29) entre les colonnes 'total_sales' et 'stock_quantity' \n",
    ",une autre petite corrélation négative (-0.27) entre 'total_sales' et 'price' et une corrélation négative quasi nulle (-0.09) entre Price et Stock_quantity.\n",
    "Sinon on peut conclure que les variables  stock, sales et price ne sont pas vraiment corrolées."
   ]
  },
  {
   "cell_type": "markdown",
   "id": "f1d22f1d",
   "metadata": {},
   "source": [
    "<div style=\"border: 1px solid RGB(51,165,182);\" >\n",
    "<h3 style=\"margin: auto; padding: 20px; color: RGB(51,165,182); \">Etape 5.6 - Mettre à disposition la nouvelle table sur un fichier Excel</h3>\n",
    "</div>"
   ]
  },
  {
   "cell_type": "code",
   "execution_count": 156,
   "id": "09bfe632",
   "metadata": {},
   "outputs": [],
   "source": [
    "#Mettre le dataset merged_df sur un fichier Excel\n",
    "#Cette étape peut-être utile pour partager le résultat du dataset obtenu pour le partager avec les équipes.  \n",
    "merged_df.to_excel(\"merged_df.xlsx\", index=False)"
   ]
  }
 ],
 "metadata": {
  "kernelspec": {
   "display_name": "Python 3 (ipykernel)",
   "language": "python",
   "name": "python3"
  },
  "language_info": {
   "codemirror_mode": {
    "name": "ipython",
    "version": 3
   },
   "file_extension": ".py",
   "mimetype": "text/x-python",
   "name": "python",
   "nbconvert_exporter": "python",
   "pygments_lexer": "ipython3",
   "version": "3.12.4"
  }
 },
 "nbformat": 4,
 "nbformat_minor": 5
}
